{
 "cells": [
  {
   "cell_type": "markdown",
   "metadata": {},
   "source": [
    "## Note:\n",
    "this is a workbook notebook for testing the baseline, lstm and cnn model... the final notebook will have much more examples and will have visualization on how the data looks"
   ]
  },
  {
   "cell_type": "code",
   "execution_count": 1,
   "metadata": {
    "collapsed": false
   },
   "outputs": [
    {
     "name": "stderr",
     "output_type": "stream",
     "text": [
      "Using TensorFlow backend.\n"
     ]
    }
   ],
   "source": [
    "%matplotlib inline\n",
    "# General imports\n",
    "import numpy as np\n",
    "import pandas as pd\n",
    "from sklearn.metrics import f1_score\n",
    "import random\n",
    "from collections import Counter, defaultdict\n",
    "from operator import itemgetter\n",
    "import matplotlib.pyplot as plt\n",
    "\n",
    "\n",
    "#keras\n",
    "from keras.models import Sequential, Model\n",
    "from keras.layers import Dense, Dropout, Flatten, Input, MaxPooling1D, Convolution1D, Embedding\n",
    "from keras.layers.merge import Concatenate\n",
    "\n",
    "# Custom functions\n",
    "%load_ext autoreload\n",
    "%autoreload 2\n",
    "import database_selection\n",
    "import vectorization\n",
    "import helpers\n",
    "import icd9_cnn_model\n",
    "import lstm_model\n"
   ]
  },
  {
   "cell_type": "code",
   "execution_count": 2,
   "metadata": {
    "collapsed": false
   },
   "outputs": [],
   "source": [
    "#reading file\n",
    "full_df = pd.read_csv('../data/disch_notes_all_icd9.csv',\n",
    "                 names = ['HADM_ID', 'SUBJECT_ID', 'DATE', 'ICD9','TEXT'])\n"
   ]
  },
  {
   "cell_type": "code",
   "execution_count": 3,
   "metadata": {
    "collapsed": false
   },
   "outputs": [
    {
     "data": {
      "text/plain": [
       "(52696, 5)"
      ]
     },
     "execution_count": 3,
     "metadata": {},
     "output_type": "execute_result"
    }
   ],
   "source": [
    "full_df.shape"
   ]
  },
  {
   "cell_type": "code",
   "execution_count": 4,
   "metadata": {
    "collapsed": false
   },
   "outputs": [
    {
     "name": "stdout",
     "output_type": "stream",
     "text": [
      "(5270, 5)\n"
     ]
    },
    {
     "data": {
      "text/html": [
       "<div>\n",
       "<table border=\"1\" class=\"dataframe\">\n",
       "  <thead>\n",
       "    <tr style=\"text-align: right;\">\n",
       "      <th></th>\n",
       "      <th>HADM_ID</th>\n",
       "      <th>SUBJECT_ID</th>\n",
       "      <th>DATE</th>\n",
       "      <th>ICD9</th>\n",
       "      <th>TEXT</th>\n",
       "    </tr>\n",
       "  </thead>\n",
       "  <tbody>\n",
       "    <tr>\n",
       "      <th>0</th>\n",
       "      <td>199597</td>\n",
       "      <td>12633</td>\n",
       "      <td>2129-02-25 00:00:00</td>\n",
       "      <td>0380 481 5849 5119 2768 99592 49390 4019 3829</td>\n",
       "      <td>Admission Date:  [**2129-2-17**]              ...</td>\n",
       "    </tr>\n",
       "    <tr>\n",
       "      <th>1</th>\n",
       "      <td>169784</td>\n",
       "      <td>26615</td>\n",
       "      <td>2121-01-17 00:00:00</td>\n",
       "      <td>48241 4280 4160 99681 51881 1122 42830 25000 7...</td>\n",
       "      <td>Admission Date:  [**2121-1-3**]     Discharge ...</td>\n",
       "    </tr>\n",
       "    <tr>\n",
       "      <th>2</th>\n",
       "      <td>141033</td>\n",
       "      <td>22761</td>\n",
       "      <td>2192-03-19 00:00:00</td>\n",
       "      <td>042 566 7070 5990 2920 30590 74190 2639 6826</td>\n",
       "      <td>Admission Date:  [**2192-3-12**]       Dischar...</td>\n",
       "    </tr>\n",
       "    <tr>\n",
       "      <th>3</th>\n",
       "      <td>150409</td>\n",
       "      <td>49544</td>\n",
       "      <td>2181-03-22 00:00:00</td>\n",
       "      <td>42823 5849 70714 2763 29281 25052 25042 5853 4...</td>\n",
       "      <td>Admission Date:  [**2181-2-22**]              ...</td>\n",
       "    </tr>\n",
       "    <tr>\n",
       "      <th>4</th>\n",
       "      <td>141209</td>\n",
       "      <td>19849</td>\n",
       "      <td>2129-08-30 00:00:00</td>\n",
       "      <td>77089 7742 7756 76517 76527 77081</td>\n",
       "      <td>Unit No:  [**Numeric Identifier 64277**] Admis...</td>\n",
       "    </tr>\n",
       "    <tr>\n",
       "      <th>5</th>\n",
       "      <td>169884</td>\n",
       "      <td>97124</td>\n",
       "      <td>2121-06-19 00:00:00</td>\n",
       "      <td>4829 5109 42731 4940 49390 4019 2449 78791 4168</td>\n",
       "      <td>Admission Date:  [**2121-6-10**]              ...</td>\n",
       "    </tr>\n",
       "    <tr>\n",
       "      <th>6</th>\n",
       "      <td>151135</td>\n",
       "      <td>32737</td>\n",
       "      <td>2138-08-26 00:00:00</td>\n",
       "      <td>0389 53140 2869 5849 51881 5180 78552 5070 280...</td>\n",
       "      <td>Admission Date:  [**2138-8-20**]              ...</td>\n",
       "    </tr>\n",
       "    <tr>\n",
       "      <th>7</th>\n",
       "      <td>188739</td>\n",
       "      <td>67041</td>\n",
       "      <td>2113-08-25 00:00:00</td>\n",
       "      <td>56212 591 5990 2851 1844 71690 53081 4550 2113...</td>\n",
       "      <td>Admission Date:  [**2113-8-18**]              ...</td>\n",
       "    </tr>\n",
       "    <tr>\n",
       "      <th>8</th>\n",
       "      <td>141579</td>\n",
       "      <td>22664</td>\n",
       "      <td>2194-12-31 00:00:00</td>\n",
       "      <td>4210 0380 99662 99673 42731 4280 85231 00845 2...</td>\n",
       "      <td>Admission Date:  [**2194-12-2**]       Dischar...</td>\n",
       "    </tr>\n",
       "    <tr>\n",
       "      <th>9</th>\n",
       "      <td>190106</td>\n",
       "      <td>8116</td>\n",
       "      <td>2176-12-16 00:00:00</td>\n",
       "      <td>9694 51881 4919 29570 2874 5849 2762 72888 969...</td>\n",
       "      <td>Admission Date:  [**2176-12-11**]             ...</td>\n",
       "    </tr>\n",
       "  </tbody>\n",
       "</table>\n",
       "</div>"
      ],
      "text/plain": [
       "   HADM_ID  SUBJECT_ID                 DATE  \\\n",
       "0   199597       12633  2129-02-25 00:00:00   \n",
       "1   169784       26615  2121-01-17 00:00:00   \n",
       "2   141033       22761  2192-03-19 00:00:00   \n",
       "3   150409       49544  2181-03-22 00:00:00   \n",
       "4   141209       19849  2129-08-30 00:00:00   \n",
       "5   169884       97124  2121-06-19 00:00:00   \n",
       "6   151135       32737  2138-08-26 00:00:00   \n",
       "7   188739       67041  2113-08-25 00:00:00   \n",
       "8   141579       22664  2194-12-31 00:00:00   \n",
       "9   190106        8116  2176-12-16 00:00:00   \n",
       "\n",
       "                                                ICD9  \\\n",
       "0      0380 481 5849 5119 2768 99592 49390 4019 3829   \n",
       "1  48241 4280 4160 99681 51881 1122 42830 25000 7...   \n",
       "2       042 566 7070 5990 2920 30590 74190 2639 6826   \n",
       "3  42823 5849 70714 2763 29281 25052 25042 5853 4...   \n",
       "4                  77089 7742 7756 76517 76527 77081   \n",
       "5    4829 5109 42731 4940 49390 4019 2449 78791 4168   \n",
       "6  0389 53140 2869 5849 51881 5180 78552 5070 280...   \n",
       "7  56212 591 5990 2851 1844 71690 53081 4550 2113...   \n",
       "8  4210 0380 99662 99673 42731 4280 85231 00845 2...   \n",
       "9  9694 51881 4919 29570 2874 5849 2762 72888 969...   \n",
       "\n",
       "                                                TEXT  \n",
       "0  Admission Date:  [**2129-2-17**]              ...  \n",
       "1  Admission Date:  [**2121-1-3**]     Discharge ...  \n",
       "2  Admission Date:  [**2192-3-12**]       Dischar...  \n",
       "3  Admission Date:  [**2181-2-22**]              ...  \n",
       "4  Unit No:  [**Numeric Identifier 64277**] Admis...  \n",
       "5  Admission Date:  [**2121-6-10**]              ...  \n",
       "6  Admission Date:  [**2138-8-20**]              ...  \n",
       "7  Admission Date:  [**2113-8-18**]              ...  \n",
       "8  Admission Date:  [**2194-12-2**]       Dischar...  \n",
       "9  Admission Date:  [**2176-12-11**]             ...  "
      ]
     },
     "execution_count": 4,
     "metadata": {},
     "output_type": "execute_result"
    }
   ],
   "source": [
    "# taking just a subset of the records for developing models\n",
    "df = full_df.sample(frac=0.1).reset_index(drop=True)\n",
    "print df.shape\n",
    "df.head(10)"
   ]
  },
  {
   "cell_type": "markdown",
   "metadata": {},
   "source": [
    "## Pre processing ICD 9 codes"
   ]
  },
  {
   "cell_type": "code",
   "execution_count": 5,
   "metadata": {
    "collapsed": false
   },
   "outputs": [],
   "source": [
    "# instead of finding out the top 20 leave icd-9 codes and filter records based on that\n",
    "# we will use all records and replace the leave icd-9 codes with its grandparents code in the first level of the hierarchy\n",
    "#N_TOP = 20 \n",
    "#full_df, top_codes = database_selection.filter_top_codes(df, 'ICD9', N_TOP, filter_empty = True)\n",
    "#df = full_df.head(1000)"
   ]
  },
  {
   "cell_type": "markdown",
   "metadata": {},
   "source": [
    "### Replacing leave icd-9 codes with their grandparent icd-9 code in the first level of the hierarchy\n",
    "\n",
    "Source: https://github.com/sirrice/icd9   \n",
    "The code above let's you see the ICD-9 hierarchy and traverse it, getting the parents (path) of a node, the children of a node, siblings, etc. (well documented in its README file).  \n",
    "\n",
    "From looking at the top of the hierarchy, these are the ICD9-codes that are in the first level of the hierarchy.\n",
    "```\n",
    "001-139 INFECTIOUS AND PARASITIC DISEASES \n",
    "140-239 NEOPLASMS \n",
    "240-279 ENDOCRINE, NUTRITIONAL AND METABOLIC DISEASES, AND IMMUNITY DISORDERS \n",
    "290-319 MENTAL DISORDERS \n",
    "320-389 DISEASES OF THE NERVOUS SYSTEM AND SENSE ORGANS \n",
    "390-459 DISEASES OF THE CIRCULATORY SYSTEM \n",
    "460-519 DISEASES OF THE RESPIRATORY SYSTEM \n",
    "520-579 DISEASES OF THE DIGESTIVE SYSTEM \n",
    "580-629 DISEASES OF THE GENITOURINARY SYSTEM \n",
    "630-679 COMPLICATIONS OF PREGNANCY, CHILDBIRTH, AND THE PUERPERIUM \n",
    "680-709 DISEASES OF THE SKIN AND SUBCUTANEOUS TISSUE \n",
    "710-739 DISEASES OF THE MUSCULOSKELETAL SYSTEM AND CONNECTIVE TISSUE \n",
    "760-779 CERTAIN CONDITIONS ORIGINATING IN THE PERINATAL PERIOD \n",
    "780-789 SYMPTOMS \n",
    "790-796 NONSPECIFIC ABNORMAL FINDINGS \n",
    "797 Senility without mention of psychosis\n",
    "798 Sudden death, cause unknown\n",
    "799 Other ill-defined and unknown causes of morbidity and mortality\n",
    "800-999 INJURY AND POISONING \n",
    "```\n",
    "\n",
    "The way that ICD9-codes are coded makes easy to find out which icd9-code code is the granparent in the first level,\n",
    "for example:\n",
    "```\n",
    "leave-code  code-at-first-level\n",
    "64833    -> 630-679\n",
    "4019     -> 390-459\n",
    "```\n",
    "\n",
    "The first three charachters of the leave icd9-code can be used to find out which is the grandparent icd-code in the first level"
   ]
  },
  {
   "cell_type": "code",
   "execution_count": 6,
   "metadata": {
    "collapsed": false
   },
   "outputs": [
    {
     "data": {
      "text/html": [
       "<div>\n",
       "<table border=\"1\" class=\"dataframe\">\n",
       "  <thead>\n",
       "    <tr style=\"text-align: right;\">\n",
       "      <th></th>\n",
       "      <th>HADM_ID</th>\n",
       "      <th>SUBJECT_ID</th>\n",
       "      <th>DATE</th>\n",
       "      <th>ICD9</th>\n",
       "      <th>TEXT</th>\n",
       "    </tr>\n",
       "  </thead>\n",
       "  <tbody>\n",
       "    <tr>\n",
       "      <th>0</th>\n",
       "      <td>199597</td>\n",
       "      <td>12633</td>\n",
       "      <td>2129-02-25 00:00:00</td>\n",
       "      <td>240-279 001-139 390-459 460-519 800-999 320-38...</td>\n",
       "      <td>Admission Date:  [**2129-2-17**]              ...</td>\n",
       "    </tr>\n",
       "    <tr>\n",
       "      <th>1</th>\n",
       "      <td>169784</td>\n",
       "      <td>26615</td>\n",
       "      <td>2121-01-17 00:00:00</td>\n",
       "      <td>240-279 001-139 390-459 460-519 800-999 780-789</td>\n",
       "      <td>Admission Date:  [**2121-1-3**]     Discharge ...</td>\n",
       "    </tr>\n",
       "    <tr>\n",
       "      <th>2</th>\n",
       "      <td>141033</td>\n",
       "      <td>22761</td>\n",
       "      <td>2192-03-19 00:00:00</td>\n",
       "      <td>240-279 760-779 001-139 290-319 680-709 520-57...</td>\n",
       "      <td>Admission Date:  [**2192-3-12**]       Dischar...</td>\n",
       "    </tr>\n",
       "    <tr>\n",
       "      <th>3</th>\n",
       "      <td>150409</td>\n",
       "      <td>49544</td>\n",
       "      <td>2181-03-22 00:00:00</td>\n",
       "      <td>240-279 760-779 290-319 390-459 680-709 460-51...</td>\n",
       "      <td>Admission Date:  [**2181-2-22**]              ...</td>\n",
       "    </tr>\n",
       "    <tr>\n",
       "      <th>4</th>\n",
       "      <td>141209</td>\n",
       "      <td>19849</td>\n",
       "      <td>2129-08-30 00:00:00</td>\n",
       "      <td>760-779</td>\n",
       "      <td>Unit No:  [**Numeric Identifier 64277**] Admis...</td>\n",
       "    </tr>\n",
       "    <tr>\n",
       "      <th>5</th>\n",
       "      <td>169884</td>\n",
       "      <td>97124</td>\n",
       "      <td>2121-06-19 00:00:00</td>\n",
       "      <td>240-279 780-789 390-459 460-519</td>\n",
       "      <td>Admission Date:  [**2121-6-10**]              ...</td>\n",
       "    </tr>\n",
       "    <tr>\n",
       "      <th>6</th>\n",
       "      <td>151135</td>\n",
       "      <td>32737</td>\n",
       "      <td>2138-08-26 00:00:00</td>\n",
       "      <td>240-279 001-139 390-459 290-319 460-519 520-57...</td>\n",
       "      <td>Admission Date:  [**2138-8-20**]              ...</td>\n",
       "    </tr>\n",
       "    <tr>\n",
       "      <th>7</th>\n",
       "      <td>188739</td>\n",
       "      <td>67041</td>\n",
       "      <td>2113-08-25 00:00:00</td>\n",
       "      <td>390-459 290-319 520-579 780-789 140-239 580-62...</td>\n",
       "      <td>Admission Date:  [**2113-8-18**]              ...</td>\n",
       "    </tr>\n",
       "    <tr>\n",
       "      <th>8</th>\n",
       "      <td>141579</td>\n",
       "      <td>22664</td>\n",
       "      <td>2194-12-31 00:00:00</td>\n",
       "      <td>001-139 240-279 390-459 800-999</td>\n",
       "      <td>Admission Date:  [**2194-12-2**]       Dischar...</td>\n",
       "    </tr>\n",
       "    <tr>\n",
       "      <th>9</th>\n",
       "      <td>190106</td>\n",
       "      <td>8116</td>\n",
       "      <td>2176-12-16 00:00:00</td>\n",
       "      <td>240-279 290-319 460-519 800-999 580-629 710-739</td>\n",
       "      <td>Admission Date:  [**2176-12-11**]             ...</td>\n",
       "    </tr>\n",
       "  </tbody>\n",
       "</table>\n",
       "</div>"
      ],
      "text/plain": [
       "   HADM_ID  SUBJECT_ID                 DATE  \\\n",
       "0   199597       12633  2129-02-25 00:00:00   \n",
       "1   169784       26615  2121-01-17 00:00:00   \n",
       "2   141033       22761  2192-03-19 00:00:00   \n",
       "3   150409       49544  2181-03-22 00:00:00   \n",
       "4   141209       19849  2129-08-30 00:00:00   \n",
       "5   169884       97124  2121-06-19 00:00:00   \n",
       "6   151135       32737  2138-08-26 00:00:00   \n",
       "7   188739       67041  2113-08-25 00:00:00   \n",
       "8   141579       22664  2194-12-31 00:00:00   \n",
       "9   190106        8116  2176-12-16 00:00:00   \n",
       "\n",
       "                                                ICD9  \\\n",
       "0  240-279 001-139 390-459 460-519 800-999 320-38...   \n",
       "1    240-279 001-139 390-459 460-519 800-999 780-789   \n",
       "2  240-279 760-779 001-139 290-319 680-709 520-57...   \n",
       "3  240-279 760-779 290-319 390-459 680-709 460-51...   \n",
       "4                                            760-779   \n",
       "5                    240-279 780-789 390-459 460-519   \n",
       "6  240-279 001-139 390-459 290-319 460-519 520-57...   \n",
       "7  390-459 290-319 520-579 780-789 140-239 580-62...   \n",
       "8                    001-139 240-279 390-459 800-999   \n",
       "9    240-279 290-319 460-519 800-999 580-629 710-739   \n",
       "\n",
       "                                                TEXT  \n",
       "0  Admission Date:  [**2129-2-17**]              ...  \n",
       "1  Admission Date:  [**2121-1-3**]     Discharge ...  \n",
       "2  Admission Date:  [**2192-3-12**]       Dischar...  \n",
       "3  Admission Date:  [**2181-2-22**]              ...  \n",
       "4  Unit No:  [**Numeric Identifier 64277**] Admis...  \n",
       "5  Admission Date:  [**2121-6-10**]              ...  \n",
       "6  Admission Date:  [**2138-8-20**]              ...  \n",
       "7  Admission Date:  [**2113-8-18**]              ...  \n",
       "8  Admission Date:  [**2194-12-2**]       Dischar...  \n",
       "9  Admission Date:  [**2176-12-11**]             ...  "
      ]
     },
     "execution_count": 6,
     "metadata": {},
     "output_type": "execute_result"
    }
   ],
   "source": [
    "ICD9_FIRST_LEVEL = [\n",
    "    '001-139','140-239','240-279','290-319', '320-389', '390-459','460-519', '520-579', '580-629', \n",
    "    '630-679', '680-709','710-739', '760-779', '780-789', '790-796', '797', '798', '799', '800-999' ]\n",
    "N_TOP = len(ICD9_FIRST_LEVEL)\n",
    "# replacing leave ICD9 codes with the grandparents\n",
    "df['ICD9'] = df['ICD9'].apply(lambda x: helpers.replace_with_grandparent_codes(x,ICD9_FIRST_LEVEL))\n",
    "df.head(10)"
   ]
  },
  {
   "cell_type": "code",
   "execution_count": 7,
   "metadata": {
    "collapsed": false
   },
   "outputs": [
    {
     "name": "stdout",
     "output_type": "stream",
     "text": [
      "Counter({'390-459': 4105, '240-279': 3429, '290-319': 2748, '460-519': 2424, '800-999': 2147, '580-629': 2135, '520-579': 2045, '780-789': 1650, '320-389': 1555, '001-139': 1421, '710-739': 958, '140-239': 851, '680-709': 583, '760-779': 582, '790-796': 425, '799': 181, '630-679': 17})\n",
      "Number of icd9 codes in the first level that have notes in the dataset: 17\n"
     ]
    }
   ],
   "source": [
    "#counts by icd9_codes\n",
    "icd9_codes = Counter()\n",
    "for label in df['ICD9']:\n",
    "    for icd9_code in label.split():\n",
    "        icd9_codes[icd9_code] += 1\n",
    "number_icd9_first_level = len (icd9_codes)\n",
    "print icd9_codes\n",
    "print 'Number of icd9 codes in the first level that have notes in the dataset:', number_icd9_first_level"
   ]
  },
  {
   "cell_type": "code",
   "execution_count": 8,
   "metadata": {
    "collapsed": false
   },
   "outputs": [
    {
     "data": {
      "image/png": "[encoded data removed]",
      "text/plain": [
       "<matplotlib.figure.Figure at 0x7f6446adf150>"
      ]
     },
     "metadata": {},
     "output_type": "display_data"
    }
   ],
   "source": [
    "codes_counts =icd9_codes.items()\n",
    "codes_counts.sort(key=itemgetter(1), reverse=True)\n",
    "icd9_labels, values = zip(*codes_counts)\n",
    "indexes = np.arange(len(icd9_labels))\n",
    "plt.rcdefaults()\n",
    "fig,ax = plt.subplots()\n",
    "ax.barh(indexes, values,  align='center', color='green', ecolor='black')\n",
    "ax.set_yticks(indexes)\n",
    "ax.set_yticklabels(icd9_labels)\n",
    "ax.invert_yaxis()  # labels read top-to-bottom\n",
    "ax.set_xlabel('counts')\n",
    "ax.set_ylabel('ICD9 code')\n",
    "ax.set_title('Top ' + str(number_icd9_first_level) + ' ICD9 codes in the ICD9 hierarchy')\n",
    "plt.show()"
   ]
  },
  {
   "cell_type": "code",
   "execution_count": 9,
   "metadata": {
    "collapsed": false
   },
   "outputs": [
    {
     "name": "stdout",
     "output_type": "stream",
     "text": [
      "sample of vectorized icd9 labels:  [1 0 1 0 1 1 1 0 1 0 0 0 0 0 0 0 0 0 1]\n"
     ]
    }
   ],
   "source": [
    "#preprocess icd9 codes to vectors \n",
    "top_codes = ICD9_FIRST_LEVEL\n",
    "labels = vectorization.vectorize_icd_column(df, 'ICD9', top_codes)\n",
    "print 'sample of vectorized icd9 labels: ', labels[0]\n"
   ]
  },
  {
   "cell_type": "markdown",
   "metadata": {},
   "source": [
    "## Pre process Notes"
   ]
  },
  {
   "cell_type": "code",
   "execution_count": 10,
   "metadata": {
    "collapsed": false
   },
   "outputs": [
    {
     "name": "stdout",
     "output_type": "stream",
     "text": [
      "Vocabulary size: 45192\n",
      "Average note length: 1640.21916509\n",
      "Max note length: 8867\n",
      "Final Vocabulary: 45192\n",
      "Final Max Sequence Length: 5000\n"
     ]
    }
   ],
   "source": [
    "#preprocess notes\n",
    "MAX_VOCAB = None # to limit original number of words (None if no limit)\n",
    "MAX_SEQ_LENGTH = 5000 # to limit length of word sequence (None if no limit)\n",
    "df.TEXT = vectorization.clean_notes(df, 'TEXT')\n",
    "data_vectorized, dictionary, MAX_VOCAB = vectorization.vectorize_notes(df.TEXT, MAX_VOCAB, verbose = True)\n",
    "data, MAX_SEQ_LENGTH = vectorization.pad_notes(data_vectorized, MAX_SEQ_LENGTH)\n",
    "\n",
    "print(\"Final Vocabulary: %s\" % MAX_VOCAB)\n",
    "print(\"Final Max Sequence Length: %s\" % MAX_SEQ_LENGTH)"
   ]
  },
  {
   "cell_type": "code",
   "execution_count": 38,
   "metadata": {
    "collapsed": false
   },
   "outputs": [
    {
     "name": "stdout",
     "output_type": "stream",
     "text": [
      "('Vocabulary in notes:', 45192)\n",
      "('Vocabulary in original embedding:', 400000)\n",
      "('Vocabulary intersection:', 22053)\n"
     ]
    }
   ],
   "source": [
    "#creating glove embeddings\n",
    "EMBEDDING_LOC = '../data/glove.6B.100d.txt' # location of embedding\n",
    "EMBEDDING_DIM = 100 # given the glove that we chose\n",
    "EMBEDDING_MATRIX, embedding_dict = vectorization.embedding_matrix(EMBEDDING_LOC,\n",
    "                                                                  dictionary, EMBEDDING_DIM, verbose = True, sigma=True)\n"
   ]
  },
  {
   "cell_type": "markdown",
   "metadata": {},
   "source": [
    "## Split Files"
   ]
  },
  {
   "cell_type": "code",
   "execution_count": 13,
   "metadata": {
    "collapsed": false
   },
   "outputs": [
    {
     "name": "stdout",
     "output_type": "stream",
     "text": [
      "('Train: ', (3688, 5000), (3688, 19))\n",
      "('Validation: ', (1054, 5000), (1054, 19))\n",
      "('Test: ', (528, 5000), (528, 19))\n"
     ]
    }
   ],
   "source": [
    "#split sets\n",
    "X_train, X_val, X_test, y_train, y_val, y_test = helpers.train_val_test_split(\n",
    "    data, labels, val_size=0.2, test_size=0.1, random_state=101)\n",
    "print(\"Train: \", X_train.shape, y_train.shape)\n",
    "print(\"Validation: \", X_val.shape, y_val.shape)\n",
    "print(\"Test: \", X_test.shape, y_test.shape)"
   ]
  },
  {
   "cell_type": "code",
   "execution_count": 13,
   "metadata": {
    "collapsed": false
   },
   "outputs": [],
   "source": [
    "# Delete temporary variables to free some memory\n",
    "del df, data, labels"
   ]
  },
  {
   "cell_type": "markdown",
   "metadata": {},
   "source": [
    "## Super Basic Baseline with top 4\n",
    "Always predict top 4"
   ]
  },
  {
   "cell_type": "code",
   "execution_count": 14,
   "metadata": {
    "collapsed": false
   },
   "outputs": [
    {
     "name": "stdout",
     "output_type": "stream",
     "text": [
      "most common 4 icd9_codes:  [('390-459', 4149), ('240-279', 3476), ('290-319', 2809), ('460-519', 2481)]\n",
      "label for the top 4 icd9 codes:  390-459 240-279 290-319 460-519\n"
     ]
    }
   ],
   "source": [
    "# finding out the top icd9 codes\n",
    "top_4_icd9 = icd9_codes.most_common(4)\n",
    "print \"most common 4 icd9_codes: \", top_4_icd9\n",
    "top_4_icd9_label = ' '.join(code for code,count in top_4_icd9 )\n",
    "print 'label for the top 4 icd9 codes: ', top_4_icd9_label"
   ]
  },
  {
   "cell_type": "code",
   "execution_count": 15,
   "metadata": {
    "collapsed": false
   },
   "outputs": [
    {
     "name": "stdout",
     "output_type": "stream",
     "text": [
      "['001-139', '140-239', '240-279', '290-319', '320-389', '390-459', '460-519', '520-579', '580-629', '630-679', '680-709', '710-739', '760-779', '780-789', '790-796', '797', '798', '799', '800-999']\n",
      "[0 0 1 1 0 1 1 0 0 0 0 0 0 0 0 0 0 0 0]\n"
     ]
    }
   ],
   "source": [
    "#converting ICD9 prediction to a vector\n",
    "top4_icd9_vector =  vectorization.vectorize_icd_string(top_4_icd9_label, ICD9_FIRST_LEVEL)\n",
    "print ICD9_FIRST_LEVEL\n",
    "print top4_icd9_vector"
   ]
  },
  {
   "cell_type": "code",
   "execution_count": 16,
   "metadata": {
    "collapsed": true
   },
   "outputs": [],
   "source": [
    "## assign icd9_prediction_vector to every discharge\n",
    "train_y_hat_baseline = [top4_icd9_vector]* len (y_train)\n",
    "dev_y_hat_baseline = [top4_icd9_vector]* len (y_val)"
   ]
  },
  {
   "cell_type": "code",
   "execution_count": 17,
   "metadata": {
    "collapsed": false
   },
   "outputs": [
    {
     "name": "stdout",
     "output_type": "stream",
     "text": [
      "F1 scores\n",
      "threshold | training | dev  \n",
      "0.020:      0.532      0.526\n",
      "0.030:      0.532      0.526\n",
      "0.040:      0.532      0.526\n",
      "0.050:      0.532      0.526\n",
      "0.055:      0.532      0.526\n",
      "0.058:      0.532      0.526\n",
      "0.060:      0.532      0.526\n",
      "0.080:      0.532      0.526\n",
      "0.100:      0.532      0.526\n",
      "0.200:      0.532      0.526\n",
      "0.300:      0.532      0.526\n",
      "0.500:      0.532      0.526\n"
     ]
    }
   ],
   "source": [
    "helpers.show_f1_score(y_train, train_y_hat_baseline, y_val, dev_y_hat_baseline)"
   ]
  },
  {
   "cell_type": "markdown",
   "metadata": {},
   "source": [
    "## Basic LSTM "
   ]
  },
  {
   "cell_type": "code",
   "execution_count": 40,
   "metadata": {
    "collapsed": false
   },
   "outputs": [
    {
     "name": "stdout",
     "output_type": "stream",
     "text": [
      "_________________________________________________________________\n",
      "Layer (type)                 Output Shape              Param #   \n",
      "=================================================================\n",
      "input_5 (InputLayer)         (None, 5000)              0         \n",
      "_________________________________________________________________\n",
      "embedding_3 (Embedding)      (None, 5000, 100)         4519300   \n",
      "_________________________________________________________________\n",
      "lstm_2 (LSTM)                (None, 100)               80400     \n",
      "_________________________________________________________________\n",
      "dense_5 (Dense)              (None, 19)                1919      \n",
      "=================================================================\n",
      "Total params: 4,601,619\n",
      "Trainable params: 4,601,619\n",
      "Non-trainable params: 0\n",
      "_________________________________________________________________\n",
      "None\n"
     ]
    }
   ],
   "source": [
    "reload(lstm_model)\n",
    "#### build model\n",
    "l_model = lstm_model.build_lstm_model (input_seq_length=MAX_SEQ_LENGTH, max_vocab = MAX_VOCAB,\n",
    "                             external_embeddings = True, embedding_trainable =True,\n",
    "                             embedding_dim=EMBEDDING_DIM,embedding_matrix=EMBEDDING_MATRIX,                             \n",
    "                             num_classes=N_TOP )"
   ]
  },
  {
   "cell_type": "code",
   "execution_count": 20,
   "metadata": {
    "collapsed": false
   },
   "outputs": [
    {
     "name": "stdout",
     "output_type": "stream",
     "text": [
      "Train on 3688 samples, validate on 1054 samples\n",
      "Epoch 1/5\n",
      "497s - loss: 0.4698 - acc: 0.7685 - val_loss: 0.4302 - val_acc: 0.7857\n",
      "Epoch 2/5\n",
      "498s - loss: 0.4239 - acc: 0.7886 - val_loss: 0.4256 - val_acc: 0.7865\n",
      "Epoch 3/5\n",
      "528s - loss: 0.4160 - acc: 0.7946 - val_loss: 0.4173 - val_acc: 0.7941\n",
      "Epoch 4/5\n",
      "549s - loss: 0.4076 - acc: 0.7987 - val_loss: 0.4088 - val_acc: 0.7944\n",
      "Epoch 5/5\n",
      "470s - loss: 0.4017 - acc: 0.7997 - val_loss: 0.4058 - val_acc: 0.7927\n"
     ]
    },
    {
     "data": {
      "text/plain": [
       "<keras.callbacks.History at 0x7fdfa1ff5090>"
      ]
     },
     "execution_count": 20,
     "metadata": {},
     "output_type": "execute_result"
    }
   ],
   "source": [
    "l_model.fit(X_train, y_train, batch_size=50, epochs=5, validation_data=(X_val, y_val), verbose=2)"
   ]
  },
  {
   "cell_type": "code",
   "execution_count": 22,
   "metadata": {
    "collapsed": false
   },
   "outputs": [
    {
     "name": "stdout",
     "output_type": "stream",
     "text": [
      "F1 scores\n",
      "threshold | training | dev  \n",
      "0.020:      0.501      0.506\n",
      "0.030:      0.510      0.515\n",
      "0.040:      0.527      0.531\n",
      "0.050:      0.541      0.546\n",
      "0.055:      0.550      0.554\n",
      "0.058:      0.553      0.558\n",
      "0.060:      0.556      0.560\n",
      "0.080:      0.573      0.576\n",
      "0.100:      0.585      0.588\n",
      "0.200:      0.627      0.628\n",
      "0.300:      0.651      0.650\n",
      "0.400:      0.648      0.641\n",
      "0.500:      0.606      0.585\n",
      "0.600:      0.524      0.506\n",
      "0.700:      0.429      0.416\n"
     ]
    }
   ],
   "source": [
    "pred_train = l_model.predict(X_train, batch_size=100)\n",
    "pred_dev = l_model.predict(X_val, batch_size=100)\n",
    "helpers.show_f1_score(y_train, pred_train, y_val, pred_dev)"
   ]
  },
  {
   "cell_type": "markdown",
   "metadata": {},
   "source": [
    "## CNN for text classification\n",
    "\n",
    "Based on the following papers and links:\n",
    "* \"Convolutional Neural Networks for Sentence Classification\"   \n",
    "* \"A Sensitivity Analysis of (and Practitioners’ Guide to) Convolutional Neural Networks for Sentence Classification\"\n",
    "* http://www.wildml.com/2015/11/understanding-convolutional-neural-networks-for-nlp/\n",
    "* https://github.com/alexander-rakhlin/CNN-for-Sentence-Classification-in-Keras/blob/master/sentiment_cnn.py\n",
    "* http://www.wildml.com/2015/12/implementing-a-cnn-for-text-classification-in-tensorflow/\n",
    "* https://github.com/dennybritz/cnn-text-classification-tf/blob/master/text_cnn.py"
   ]
  },
  {
   "cell_type": "code",
   "execution_count": 48,
   "metadata": {
    "collapsed": false
   },
   "outputs": [
    {
     "name": "stdout",
     "output_type": "stream",
     "text": [
      "____________________________________________________________________________________________________\n",
      "Layer (type)                     Output Shape          Param #     Connected to                     \n",
      "====================================================================================================\n",
      "input_10 (InputLayer)            (None, 5000)          0                                            \n",
      "____________________________________________________________________________________________________\n",
      "embedding (Embedding)            (None, 5000, 100)     4519300     input_10[0][0]                   \n",
      "____________________________________________________________________________________________________\n",
      "conv1d_22 (Conv1D)               (None, 4999, 100)     20100       embedding[0][0]                  \n",
      "____________________________________________________________________________________________________\n",
      "conv1d_23 (Conv1D)               (None, 4998, 100)     30100       embedding[0][0]                  \n",
      "____________________________________________________________________________________________________\n",
      "conv1d_24 (Conv1D)               (None, 4997, 100)     40100       embedding[0][0]                  \n",
      "____________________________________________________________________________________________________\n",
      "conv1d_25 (Conv1D)               (None, 4996, 100)     50100       embedding[0][0]                  \n",
      "____________________________________________________________________________________________________\n",
      "max_pooling1d_21 (MaxPooling1D)  (None, 1, 100)        0           conv1d_22[0][0]                  \n",
      "____________________________________________________________________________________________________\n",
      "max_pooling1d_22 (MaxPooling1D)  (None, 1, 100)        0           conv1d_23[0][0]                  \n",
      "____________________________________________________________________________________________________\n",
      "max_pooling1d_23 (MaxPooling1D)  (None, 1, 100)        0           conv1d_24[0][0]                  \n",
      "____________________________________________________________________________________________________\n",
      "max_pooling1d_24 (MaxPooling1D)  (None, 1, 100)        0           conv1d_25[0][0]                  \n",
      "____________________________________________________________________________________________________\n",
      "flatten_21 (Flatten)             (None, 100)           0           max_pooling1d_21[0][0]           \n",
      "____________________________________________________________________________________________________\n",
      "flatten_22 (Flatten)             (None, 100)           0           max_pooling1d_22[0][0]           \n",
      "____________________________________________________________________________________________________\n",
      "flatten_23 (Flatten)             (None, 100)           0           max_pooling1d_23[0][0]           \n",
      "____________________________________________________________________________________________________\n",
      "flatten_24 (Flatten)             (None, 100)           0           max_pooling1d_24[0][0]           \n",
      "____________________________________________________________________________________________________\n",
      "concatenate_6 (Concatenate)      (None, 400)           0           flatten_21[0][0]                 \n",
      "                                                                   flatten_22[0][0]                 \n",
      "                                                                   flatten_23[0][0]                 \n",
      "                                                                   flatten_24[0][0]                 \n",
      "____________________________________________________________________________________________________\n",
      "dropout_6 (Dropout)              (None, 400)           0           concatenate_6[0][0]              \n",
      "____________________________________________________________________________________________________\n",
      "dense_8 (Dense)                  (None, 19)            7619        dropout_6[0][0]                  \n",
      "====================================================================================================\n",
      "Total params: 4,667,319\n",
      "Trainable params: 4,667,319\n",
      "Non-trainable params: 0\n",
      "____________________________________________________________________________________________________\n",
      "None\n"
     ]
    }
   ],
   "source": [
    "reload(icd9_cnn_model)\n",
    "#### build model\n",
    "model = icd9_cnn_model.build_icd9_cnn_model (input_seq_length=MAX_SEQ_LENGTH, max_vocab = MAX_VOCAB,\n",
    "                             external_embeddings = False,\n",
    "                             embedding_dim=EMBEDDING_DIM,embedding_matrix=EMBEDDING_MATRIX,\n",
    "                             num_filters = 100, filter_sizes=[2,3,4,5],\n",
    "                             training_dropout_keep_prob=0.9,\n",
    "                             num_classes=N_TOP )"
   ]
  },
  {
   "cell_type": "code",
   "execution_count": 51,
   "metadata": {
    "collapsed": false
   },
   "outputs": [
    {
     "name": "stdout",
     "output_type": "stream",
     "text": [
      "Train on 3688 samples, validate on 1054 samples\n",
      "Epoch 1/20\n",
      "106s - loss: 0.4133 - acc: 0.8043 - val_loss: 0.3897 - val_acc: 0.8169\n",
      "Epoch 2/20\n",
      "105s - loss: 0.4088 - acc: 0.8069 - val_loss: 0.3860 - val_acc: 0.8205\n",
      "Epoch 3/20\n",
      "105s - loss: 0.4033 - acc: 0.8102 - val_loss: 0.3810 - val_acc: 0.8236\n",
      "Epoch 4/20\n",
      "105s - loss: 0.4009 - acc: 0.8117 - val_loss: 0.3785 - val_acc: 0.8239\n",
      "Epoch 5/20\n",
      "105s - loss: 0.3968 - acc: 0.8149 - val_loss: 0.3758 - val_acc: 0.8268\n",
      "Epoch 6/20\n",
      "105s - loss: 0.3937 - acc: 0.8156 - val_loss: 0.3742 - val_acc: 0.8277\n",
      "Epoch 7/20\n",
      "105s - loss: 0.3917 - acc: 0.8183 - val_loss: 0.3724 - val_acc: 0.8291\n",
      "Epoch 8/20\n",
      "105s - loss: 0.3887 - acc: 0.8216 - val_loss: 0.3709 - val_acc: 0.8289\n",
      "Epoch 9/20\n",
      "105s - loss: 0.3875 - acc: 0.8219 - val_loss: 0.3689 - val_acc: 0.8319\n",
      "Epoch 10/20\n",
      "104s - loss: 0.3865 - acc: 0.8234 - val_loss: 0.3676 - val_acc: 0.8336\n",
      "Epoch 11/20\n",
      "105s - loss: 0.3847 - acc: 0.8251 - val_loss: 0.3658 - val_acc: 0.8363\n",
      "Epoch 12/20\n",
      "105s - loss: 0.3833 - acc: 0.8263 - val_loss: 0.3636 - val_acc: 0.8403\n",
      "Epoch 13/20\n",
      "104s - loss: 0.3795 - acc: 0.8291 - val_loss: 0.3633 - val_acc: 0.8402\n",
      "Epoch 14/20\n",
      "104s - loss: 0.3795 - acc: 0.8283 - val_loss: 0.3615 - val_acc: 0.8426\n",
      "Epoch 15/20\n",
      "104s - loss: 0.3779 - acc: 0.8301 - val_loss: 0.3608 - val_acc: 0.8418\n",
      "Epoch 16/20\n",
      "104s - loss: 0.3758 - acc: 0.8322 - val_loss: 0.3597 - val_acc: 0.8436\n",
      "Epoch 17/20\n",
      "104s - loss: 0.3740 - acc: 0.8336 - val_loss: 0.3594 - val_acc: 0.8452\n",
      "Epoch 18/20\n",
      "104s - loss: 0.3727 - acc: 0.8353 - val_loss: 0.3579 - val_acc: 0.8464\n",
      "Epoch 19/20\n",
      "107s - loss: 0.3715 - acc: 0.8369 - val_loss: 0.3586 - val_acc: 0.8466\n",
      "Epoch 20/20\n",
      "110s - loss: 0.3688 - acc: 0.8371 - val_loss: 0.3561 - val_acc: 0.8478\n"
     ]
    },
    {
     "data": {
      "text/plain": [
       "<keras.callbacks.History at 0x7f614c1e1310>"
      ]
     },
     "execution_count": 51,
     "metadata": {},
     "output_type": "execute_result"
    }
   ],
   "source": [
    "# Train the model\n",
    "model.fit(X_train, y_train, batch_size=50, epochs=20, validation_data=(X_val, y_val), verbose=2)"
   ]
  },
  {
   "cell_type": "code",
   "execution_count": 52,
   "metadata": {
    "collapsed": false
   },
   "outputs": [
    {
     "name": "stdout",
     "output_type": "stream",
     "text": [
      "F1 scores\n",
      "threshold | training | dev  \n",
      "0.020:      0.521      0.516\n",
      "0.030:      0.533      0.529\n",
      "0.040:      0.545      0.541\n",
      "0.050:      0.556      0.550\n",
      "0.055:      0.561      0.556\n",
      "0.058:      0.565      0.559\n",
      "0.060:      0.567      0.562\n",
      "0.080:      0.586      0.579\n",
      "0.100:      0.603      0.596\n",
      "0.200:      0.669      0.656\n",
      "0.300:      0.711      0.695\n",
      "0.400:      0.727      0.709\n",
      "0.500:      0.695      0.678\n",
      "0.600:      0.637      0.620\n",
      "0.700:      0.560      0.540\n"
     ]
    }
   ],
   "source": [
    "pred_train = model.predict(X_train, batch_size=50)\n",
    "pred_dev = model.predict(X_val, batch_size=50)\n",
    "# perform evaluation\n",
    "helpers.show_f1_score(y_train, pred_train, y_val, pred_dev)"
   ]
  },
  {
   "cell_type": "code",
   "execution_count": 54,
   "metadata": {
    "collapsed": false
   },
   "outputs": [],
   "source": [
    "model.save('models/cnn_20_epochs.h5')\n",
    "#model = load_model('my_model.h5')\n"
   ]
  },
  {
   "cell_type": "markdown",
   "metadata": {},
   "source": [
    "### only internal embedding\n",
    "```\n",
    "106s - loss: 0.5339 - acc: 0.7270 - val_loss: 0.4444 - val_acc: 0.7821\n",
    "Epoch 2/5\n",
    "105s - loss: 0.4629 - acc: 0.7703 - val_loss: 0.4295 - val_acc: 0.7891\n",
    "Epoch 3/5\n",
    "105s - loss: 0.4465 - acc: 0.7779 - val_loss: 0.4140 - val_acc: 0.7958\n",
    "Epoch 4/5\n",
    "105s - loss: 0.4309 - acc: 0.7873 - val_loss: 0.3999 - val_acc: 0.8062\n",
    "Epoch 5/5\n",
    "105s - loss: 0.4188 - acc: 0.7950 - val_loss: 0.3888 - val_acc: 0.8153\n",
    "\n",
    "F1 scores\n",
    "threshold | training | dev  \n",
    "0.020:      0.495      0.491\n",
    "0.030:      0.505      0.502\n",
    "0.040:      0.515      0.512\n",
    "0.050:      0.525      0.522\n",
    "0.055:      0.529      0.527\n",
    "0.058:      0.532      0.530\n",
    "0.060:      0.533      0.532\n",
    "0.080:      0.551      0.549\n",
    "0.100:      0.570      0.568\n",
    "0.200:      0.633      0.630\n",
    "0.300:      0.659      0.656\n",
    "0.400:      0.660      0.645\n",
    "0.500:      0.592      0.583\n",
    "0.600:      0.506      0.497\n",
    "0.700:      0.365      0.361\n",
    "\n",
    "```\n",
    "\n",
    "\n",
    "\n",
    "### Using pre-trained Glove embedding plus internal embedding\n",
    "```\n",
    "Train on 3688 samples, validate on 1054 samples\n",
    "Epoch 1/5\n",
    "105s - loss: 1.1842 - acc: 0.6948 - val_loss: 0.4606 - val_acc: 0.7826\n",
    "Epoch 2/5\n",
    "105s - loss: 0.6159 - acc: 0.7321 - val_loss: 0.4323 - val_acc: 0.7908\n",
    "Epoch 3/5\n",
    "105s - loss: 0.5112 - acc: 0.7545 - val_loss: 0.4246 - val_acc: 0.7979\n",
    "Epoch 4/5\n",
    "104s - loss: 0.4742 - acc: 0.7721 - val_loss: 0.4157 - val_acc: 0.8007\n",
    "Epoch 5/5\n",
    "104s - loss: 0.4521 - acc: 0.7795 - val_loss: 0.4084 - val_acc: 0.8014\n",
    "\n",
    "F1 scores\n",
    "\n",
    "threshold | training | dev  \n",
    "0.020:      0.488      0.486\n",
    "0.030:      0.501      0.498\n",
    "0.040:      0.513      0.509\n",
    "0.050:      0.522      0.519\n",
    "0.055:      0.527      0.524\n",
    "0.058:      0.530      0.527\n",
    "0.060:      0.532      0.529\n",
    "0.080:      0.550      0.546\n",
    "0.100:      0.566      0.562\n",
    "0.200:      0.623      0.617\n",
    "0.300:      0.660      0.641\n",
    "0.400:      0.660      0.627\n",
    "0.500:      0.569      0.543\n",
    "0.600:      0.468      0.459\n",
    "0.700:      0.391      0.379\n",
    "```\n",
    "\n",
    "\n",
    "### Using glove 300\n",
    "```\n",
    "Train on 3688 samples, validate on 1054 samples\n",
    "Epoch 1/5\n",
    "289s - loss: 1.1223 - acc: 0.6978 - val_loss: 0.4560 - val_acc: 0.7884\n",
    "Epoch 2/5\n",
    "286s - loss: 0.6181 - acc: 0.7385 - val_loss: 0.4200 - val_acc: 0.7989\n",
    "Epoch 3/5\n",
    "287s - loss: 0.5019 - acc: 0.7605 - val_loss: 0.4113 - val_acc: 0.8030\n",
    "Epoch 4/5\n",
    "286s - loss: 0.4624 - acc: 0.7772 - val_loss: 0.4040 - val_acc: 0.8084\n",
    "Epoch 5/5\n",
    "290s - loss: 0.4376 - acc: 0.7886 - val_loss: 0.3990 - val_acc: 0.8091\n",
    "\n",
    "F1 scores\n",
    "threshold | training | dev  \n",
    "0.020:      0.488      0.486\n",
    "0.030:      0.501      0.498\n",
    "0.040:      0.513      0.509\n",
    "0.050:      0.522      0.519\n",
    "0.055:      0.527      0.524\n",
    "0.058:      0.530      0.527\n",
    "0.060:      0.532      0.529\n",
    "0.080:      0.550      0.546\n",
    "0.100:      0.566      0.562\n",
    "0.200:      0.623      0.617\n",
    "0.300:      0.660      0.641\n",
    "0.400:      0.660      0.627\n",
    "0.500:      0.569      0.543\n",
    "0.600:      0.468      0.459\n",
    "0.700:      0.391      0.379\n",
    "\n",
    "```\n"
   ]
  },
  {
   "cell_type": "markdown",
   "metadata": {
    "collapsed": true
   },
   "source": [
    "## Notes:\n",
    "\n",
    "\n",
    "(1) There is a LSTM model by this paper: \"Applying Deep Learning to ICD-9 Multi-label Classification from Medical Records\" which did achieve a 42% F1-score. (https://cs224d.stanford.edu/reports/priyanka.pdf), but it only uses the top 10 icd9 codes. We are getting 46% (just running with 1000 notes so far)\n",
    "\n",
    "\n",
    "(2) The \"A Comparison of Rule-Based and Deep Learning Models for Patient Phenotyping\"  study did get a 70% F1-score, but they don't use the icd9-labels but phenotypes labels they annotated themselved (via a group of medical professionals). (https://arxiv.org/abs/1703.08705). There were ONLY 10 phenotypes.\n",
    "\n",
    "The discharge summaries are labeled with ICD9-codes that are leaves in the ICD9-hierarchy (which has hundreds of ICD9-codes), then maybe these leave nodes are too specific and difficult to predict, one experiment would be to replaced all the ICD9-codes with their parent in the second or third level in the hierarchy and see if predictions work better that way.   \n",
    "\n",
    "(3) our baseline with top 20 codes had a f1-score of 35% (assigning top 4 icd9 codes to all notes, using a CNN with no external embeddings is getting about 40% f1-score.. a little better than the baseline\n",
    "\n",
    "(4) Papers published and best practices report  that external embeddings improve considerable the model's performance.. maybe it is not the case here because of the medical terms..   \n",
    "\n",
    "(5) Fixed Thresholding doesn't work well for multilabel classifications, we can implement a model to choose the appropriate threshold for each record (see notes above)\n",
    "\n",
    "(6) for loss function: binary and categorical cross entropy gave same results"
   ]
  },
  {
   "cell_type": "code",
   "execution_count": null,
   "metadata": {
    "collapsed": true
   },
   "outputs": [],
   "source": []
  }
 ],
 "metadata": {
  "kernelspec": {
   "display_name": "Python 2",
   "language": "python",
   "name": "python2"
  },
  "language_info": {
   "codemirror_mode": {
    "name": "ipython",
    "version": 2
   },
   "file_extension": ".py",
   "mimetype": "text/x-python",
   "name": "python",
   "nbconvert_exporter": "python",
   "pygments_lexer": "ipython2",
   "version": "2.7.13"
  }
 },
 "nbformat": 4,
 "nbformat_minor": 2
}
