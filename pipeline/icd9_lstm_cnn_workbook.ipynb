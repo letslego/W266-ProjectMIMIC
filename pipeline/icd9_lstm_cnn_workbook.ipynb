{
 "cells": [
  {
   "cell_type": "markdown",
   "metadata": {},
   "source": [
    "## Note:\n",
    "this is a workbook notebook for testing the baseline, lstm and cnn model... the final notebook will have much more examples and will have visualization on how the data looks"
   ]
  },
  {
   "cell_type": "code",
   "execution_count": 2,
   "metadata": {
    "collapsed": false
   },
   "outputs": [
    {
     "name": "stdout",
     "output_type": "stream",
     "text": [
      "The autoreload extension is already loaded. To reload it, use:\n",
      "  %reload_ext autoreload\n"
     ]
    }
   ],
   "source": [
    "%matplotlib inline\n",
    "# General imports\n",
    "import numpy as np\n",
    "import pandas as pd\n",
    "from sklearn.metrics import f1_score\n",
    "import random\n",
    "from collections import Counter, defaultdict\n",
    "from operator import itemgetter\n",
    "import matplotlib.pyplot as plt\n",
    "\n",
    "\n",
    "#keras\n",
    "from keras.models import Sequential, Model\n",
    "from keras.layers import Dense, Dropout, Flatten, Input, MaxPooling1D, Convolution1D, Embedding\n",
    "from keras.layers.merge import Concatenate\n",
    "\n",
    "# Custom functions\n",
    "%load_ext autoreload\n",
    "%autoreload 2\n",
    "import database_selection\n",
    "import vectorization\n",
    "import helpers\n",
    "import icd9_cnn_model\n",
    "import lstm_model\n"
   ]
  },
  {
   "cell_type": "code",
   "execution_count": 3,
   "metadata": {
    "collapsed": false
   },
   "outputs": [],
   "source": [
    "#reading file\n",
    "full_df = pd.read_csv('../data/disch_notes_all_icd9.csv',\n",
    "                 names = ['HADM_ID', 'SUBJECT_ID', 'DATE', 'ICD9','TEXT'])\n"
   ]
  },
  {
   "cell_type": "code",
   "execution_count": 4,
   "metadata": {
    "collapsed": false
   },
   "outputs": [
    {
     "data": {
      "text/plain": [
       "(52696, 5)"
      ]
     },
     "execution_count": 4,
     "metadata": {},
     "output_type": "execute_result"
    }
   ],
   "source": [
    "full_df.shape"
   ]
  },
  {
   "cell_type": "code",
   "execution_count": 5,
   "metadata": {
    "collapsed": false
   },
   "outputs": [
    {
     "name": "stdout",
     "output_type": "stream",
     "text": [
      "(5270, 5)\n"
     ]
    },
    {
     "data": {
      "text/html": [
       "<div>\n",
       "<table border=\"1\" class=\"dataframe\">\n",
       "  <thead>\n",
       "    <tr style=\"text-align: right;\">\n",
       "      <th></th>\n",
       "      <th>HADM_ID</th>\n",
       "      <th>SUBJECT_ID</th>\n",
       "      <th>DATE</th>\n",
       "      <th>ICD9</th>\n",
       "      <th>TEXT</th>\n",
       "    </tr>\n",
       "  </thead>\n",
       "  <tbody>\n",
       "    <tr>\n",
       "      <th>0</th>\n",
       "      <td>126878</td>\n",
       "      <td>45995</td>\n",
       "      <td>2136-12-05 00:00:00</td>\n",
       "      <td>42823 570 486 5845 2762 5119 4280 42731 41401 ...</td>\n",
       "      <td>Admission Date:  [**2136-11-26**]             ...</td>\n",
       "    </tr>\n",
       "    <tr>\n",
       "      <th>1</th>\n",
       "      <td>183331</td>\n",
       "      <td>12325</td>\n",
       "      <td>2142-08-28 00:00:00</td>\n",
       "      <td>99674 44024 44422 99762 2874 496 7299 25000 4019</td>\n",
       "      <td>Admission Date:  [**2142-7-27**]              ...</td>\n",
       "    </tr>\n",
       "    <tr>\n",
       "      <th>2</th>\n",
       "      <td>105229</td>\n",
       "      <td>16211</td>\n",
       "      <td>2160-08-10 00:00:00</td>\n",
       "      <td>9654 9630 5990 79092</td>\n",
       "      <td>Admission Date:  [**2160-8-8**]     Discharge ...</td>\n",
       "    </tr>\n",
       "    <tr>\n",
       "      <th>3</th>\n",
       "      <td>123016</td>\n",
       "      <td>28052</td>\n",
       "      <td>2104-02-18 00:00:00</td>\n",
       "      <td>431 5070 34290 42611 4019 78723 78194 5939</td>\n",
       "      <td>Admission Date:  [**2104-2-9**]              D...</td>\n",
       "    </tr>\n",
       "    <tr>\n",
       "      <th>4</th>\n",
       "      <td>171608</td>\n",
       "      <td>15929</td>\n",
       "      <td>2140-09-22 00:00:00</td>\n",
       "      <td>41041 9971 42741 41402 41401 4019</td>\n",
       "      <td>Admission Date:  [**2140-9-19**]     Discharge...</td>\n",
       "    </tr>\n",
       "    <tr>\n",
       "      <th>5</th>\n",
       "      <td>125185</td>\n",
       "      <td>69370</td>\n",
       "      <td>2119-10-11 00:00:00</td>\n",
       "      <td>53200 56881 51881 0389 5070 99592 42821 2762 2...</td>\n",
       "      <td>Admission Date:  [**2119-10-5**]              ...</td>\n",
       "    </tr>\n",
       "    <tr>\n",
       "      <th>6</th>\n",
       "      <td>187382</td>\n",
       "      <td>19493</td>\n",
       "      <td>2143-12-27 00:00:00</td>\n",
       "      <td>45829 5571 4111 4019 2724 53081 496 41401 311 ...</td>\n",
       "      <td>Admission Date:  [**2143-12-26**]             ...</td>\n",
       "    </tr>\n",
       "    <tr>\n",
       "      <th>7</th>\n",
       "      <td>187411</td>\n",
       "      <td>58027</td>\n",
       "      <td>2123-01-15 00:00:00</td>\n",
       "      <td>0389 486 78552 5990 70713 6826 07032 99592 459...</td>\n",
       "      <td>Admission Date:  [**2123-1-7**]              D...</td>\n",
       "    </tr>\n",
       "    <tr>\n",
       "      <th>8</th>\n",
       "      <td>152609</td>\n",
       "      <td>14240</td>\n",
       "      <td>2148-11-15 00:00:00</td>\n",
       "      <td>99666 73005 8080 2536 34590 4439 73300</td>\n",
       "      <td>Admission Date:  [**2148-11-9**]       Dischar...</td>\n",
       "    </tr>\n",
       "    <tr>\n",
       "      <th>9</th>\n",
       "      <td>108241</td>\n",
       "      <td>22485</td>\n",
       "      <td>2107-01-24 00:00:00</td>\n",
       "      <td>80600 30390 2910 85011 82300 8240 3051 2536 80...</td>\n",
       "      <td>Admission Date:  [**2107-1-14**]              ...</td>\n",
       "    </tr>\n",
       "  </tbody>\n",
       "</table>\n",
       "</div>"
      ],
      "text/plain": [
       "   HADM_ID  SUBJECT_ID                 DATE  \\\n",
       "0   126878       45995  2136-12-05 00:00:00   \n",
       "1   183331       12325  2142-08-28 00:00:00   \n",
       "2   105229       16211  2160-08-10 00:00:00   \n",
       "3   123016       28052  2104-02-18 00:00:00   \n",
       "4   171608       15929  2140-09-22 00:00:00   \n",
       "5   125185       69370  2119-10-11 00:00:00   \n",
       "6   187382       19493  2143-12-27 00:00:00   \n",
       "7   187411       58027  2123-01-15 00:00:00   \n",
       "8   152609       14240  2148-11-15 00:00:00   \n",
       "9   108241       22485  2107-01-24 00:00:00   \n",
       "\n",
       "                                                ICD9  \\\n",
       "0  42823 570 486 5845 2762 5119 4280 42731 41401 ...   \n",
       "1   99674 44024 44422 99762 2874 496 7299 25000 4019   \n",
       "2                               9654 9630 5990 79092   \n",
       "3         431 5070 34290 42611 4019 78723 78194 5939   \n",
       "4                  41041 9971 42741 41402 41401 4019   \n",
       "5  53200 56881 51881 0389 5070 99592 42821 2762 2...   \n",
       "6  45829 5571 4111 4019 2724 53081 496 41401 311 ...   \n",
       "7  0389 486 78552 5990 70713 6826 07032 99592 459...   \n",
       "8             99666 73005 8080 2536 34590 4439 73300   \n",
       "9  80600 30390 2910 85011 82300 8240 3051 2536 80...   \n",
       "\n",
       "                                                TEXT  \n",
       "0  Admission Date:  [**2136-11-26**]             ...  \n",
       "1  Admission Date:  [**2142-7-27**]              ...  \n",
       "2  Admission Date:  [**2160-8-8**]     Discharge ...  \n",
       "3  Admission Date:  [**2104-2-9**]              D...  \n",
       "4  Admission Date:  [**2140-9-19**]     Discharge...  \n",
       "5  Admission Date:  [**2119-10-5**]              ...  \n",
       "6  Admission Date:  [**2143-12-26**]             ...  \n",
       "7  Admission Date:  [**2123-1-7**]              D...  \n",
       "8  Admission Date:  [**2148-11-9**]       Dischar...  \n",
       "9  Admission Date:  [**2107-1-14**]              ...  "
      ]
     },
     "execution_count": 5,
     "metadata": {},
     "output_type": "execute_result"
    }
   ],
   "source": [
    "# taking just a subset of the records for developing models\n",
    "df = full_df.sample(frac=0.1).reset_index(drop=True)\n",
    "print df.shape\n",
    "df.head(10)"
   ]
  },
  {
   "cell_type": "markdown",
   "metadata": {},
   "source": [
    "## Pre processing ICD 9 codes"
   ]
  },
  {
   "cell_type": "code",
   "execution_count": 6,
   "metadata": {
    "collapsed": false
   },
   "outputs": [],
   "source": [
    "# instead of finding out the top 20 leave icd-9 codes and filter records based on that\n",
    "# we will use all records and replace the leave icd-9 codes with its grandparents code in the first level of the hierarchy\n",
    "#N_TOP = 20 \n",
    "#full_df, top_codes = database_selection.filter_top_codes(df, 'ICD9', N_TOP, filter_empty = True)\n",
    "#df = full_df.head(1000)"
   ]
  },
  {
   "cell_type": "markdown",
   "metadata": {},
   "source": [
    "### Replacing leave icd-9 codes with their grandparent icd-9 code in the first level of the hierarchy\n",
    "\n",
    "Source: https://github.com/sirrice/icd9   \n",
    "The code above let's you see the ICD-9 hierarchy and traverse it, getting the parents (path) of a node, the children of a node, siblings, etc. (well documented in its README file).  \n",
    "\n",
    "From looking at the top of the hierarchy, these are the ICD9-codes that are in the first level of the hierarchy.\n",
    "```\n",
    "001-139 INFECTIOUS AND PARASITIC DISEASES \n",
    "140-239 NEOPLASMS \n",
    "240-279 ENDOCRINE, NUTRITIONAL AND METABOLIC DISEASES, AND IMMUNITY DISORDERS \n",
    "290-319 MENTAL DISORDERS \n",
    "320-389 DISEASES OF THE NERVOUS SYSTEM AND SENSE ORGANS \n",
    "390-459 DISEASES OF THE CIRCULATORY SYSTEM \n",
    "460-519 DISEASES OF THE RESPIRATORY SYSTEM \n",
    "520-579 DISEASES OF THE DIGESTIVE SYSTEM \n",
    "580-629 DISEASES OF THE GENITOURINARY SYSTEM \n",
    "630-679 COMPLICATIONS OF PREGNANCY, CHILDBIRTH, AND THE PUERPERIUM \n",
    "680-709 DISEASES OF THE SKIN AND SUBCUTANEOUS TISSUE \n",
    "710-739 DISEASES OF THE MUSCULOSKELETAL SYSTEM AND CONNECTIVE TISSUE \n",
    "760-779 CERTAIN CONDITIONS ORIGINATING IN THE PERINATAL PERIOD \n",
    "780-789 SYMPTOMS \n",
    "790-796 NONSPECIFIC ABNORMAL FINDINGS \n",
    "797 Senility without mention of psychosis\n",
    "798 Sudden death, cause unknown\n",
    "799 Other ill-defined and unknown causes of morbidity and mortality\n",
    "800-999 INJURY AND POISONING \n",
    "```\n",
    "\n",
    "The way that ICD9-codes are coded makes easy to find out which icd9-code code is the granparent in the first level,\n",
    "for example:\n",
    "```\n",
    "leave-code  code-at-first-level\n",
    "64833    -> 630-679\n",
    "4019     -> 390-459\n",
    "```\n",
    "\n",
    "The first three charachters of the leave icd9-code can be used to find out which is the grandparent icd-code in the first level"
   ]
  },
  {
   "cell_type": "code",
   "execution_count": 7,
   "metadata": {
    "collapsed": false
   },
   "outputs": [
    {
     "data": {
      "text/html": [
       "<div>\n",
       "<table border=\"1\" class=\"dataframe\">\n",
       "  <thead>\n",
       "    <tr style=\"text-align: right;\">\n",
       "      <th></th>\n",
       "      <th>HADM_ID</th>\n",
       "      <th>SUBJECT_ID</th>\n",
       "      <th>DATE</th>\n",
       "      <th>ICD9</th>\n",
       "      <th>TEXT</th>\n",
       "    </tr>\n",
       "  </thead>\n",
       "  <tbody>\n",
       "    <tr>\n",
       "      <th>0</th>\n",
       "      <td>126878</td>\n",
       "      <td>45995</td>\n",
       "      <td>2136-12-05 00:00:00</td>\n",
       "      <td>240-279 390-459 460-519 520-579 799 580-629</td>\n",
       "      <td>Admission Date:  [**2136-11-26**]             ...</td>\n",
       "    </tr>\n",
       "    <tr>\n",
       "      <th>1</th>\n",
       "      <td>183331</td>\n",
       "      <td>12325</td>\n",
       "      <td>2142-08-28 00:00:00</td>\n",
       "      <td>240-279 390-459 290-319 460-519 800-999 710-739</td>\n",
       "      <td>Admission Date:  [**2142-7-27**]              ...</td>\n",
       "    </tr>\n",
       "    <tr>\n",
       "      <th>2</th>\n",
       "      <td>105229</td>\n",
       "      <td>16211</td>\n",
       "      <td>2160-08-10 00:00:00</td>\n",
       "      <td>580-629 790-796 800-999</td>\n",
       "      <td>Admission Date:  [**2160-8-8**]     Discharge ...</td>\n",
       "    </tr>\n",
       "    <tr>\n",
       "      <th>3</th>\n",
       "      <td>123016</td>\n",
       "      <td>28052</td>\n",
       "      <td>2104-02-18 00:00:00</td>\n",
       "      <td>580-629 780-789 390-459 460-519 320-389</td>\n",
       "      <td>Admission Date:  [**2104-2-9**]              D...</td>\n",
       "    </tr>\n",
       "    <tr>\n",
       "      <th>4</th>\n",
       "      <td>171608</td>\n",
       "      <td>15929</td>\n",
       "      <td>2140-09-22 00:00:00</td>\n",
       "      <td>390-459 800-999</td>\n",
       "      <td>Admission Date:  [**2140-9-19**]     Discharge...</td>\n",
       "    </tr>\n",
       "    <tr>\n",
       "      <th>5</th>\n",
       "      <td>125185</td>\n",
       "      <td>69370</td>\n",
       "      <td>2119-10-11 00:00:00</td>\n",
       "      <td>240-279 001-139 390-459 290-319 460-519 520-57...</td>\n",
       "      <td>Admission Date:  [**2119-10-5**]              ...</td>\n",
       "    </tr>\n",
       "    <tr>\n",
       "      <th>6</th>\n",
       "      <td>187382</td>\n",
       "      <td>19493</td>\n",
       "      <td>2143-12-27 00:00:00</td>\n",
       "      <td>240-279 390-459 290-319 460-519 520-579 780-789</td>\n",
       "      <td>Admission Date:  [**2143-12-26**]             ...</td>\n",
       "    </tr>\n",
       "    <tr>\n",
       "      <th>7</th>\n",
       "      <td>187411</td>\n",
       "      <td>58027</td>\n",
       "      <td>2123-01-15 00:00:00</td>\n",
       "      <td>240-279 001-139 290-319 390-459 680-709 460-51...</td>\n",
       "      <td>Admission Date:  [**2123-1-7**]              D...</td>\n",
       "    </tr>\n",
       "    <tr>\n",
       "      <th>8</th>\n",
       "      <td>152609</td>\n",
       "      <td>14240</td>\n",
       "      <td>2148-11-15 00:00:00</td>\n",
       "      <td>240-279 390-459 710-739 320-389 800-999</td>\n",
       "      <td>Admission Date:  [**2148-11-9**]       Dischar...</td>\n",
       "    </tr>\n",
       "    <tr>\n",
       "      <th>9</th>\n",
       "      <td>108241</td>\n",
       "      <td>22485</td>\n",
       "      <td>2107-01-24 00:00:00</td>\n",
       "      <td>240-279 290-319 800-999</td>\n",
       "      <td>Admission Date:  [**2107-1-14**]              ...</td>\n",
       "    </tr>\n",
       "  </tbody>\n",
       "</table>\n",
       "</div>"
      ],
      "text/plain": [
       "   HADM_ID  SUBJECT_ID                 DATE  \\\n",
       "0   126878       45995  2136-12-05 00:00:00   \n",
       "1   183331       12325  2142-08-28 00:00:00   \n",
       "2   105229       16211  2160-08-10 00:00:00   \n",
       "3   123016       28052  2104-02-18 00:00:00   \n",
       "4   171608       15929  2140-09-22 00:00:00   \n",
       "5   125185       69370  2119-10-11 00:00:00   \n",
       "6   187382       19493  2143-12-27 00:00:00   \n",
       "7   187411       58027  2123-01-15 00:00:00   \n",
       "8   152609       14240  2148-11-15 00:00:00   \n",
       "9   108241       22485  2107-01-24 00:00:00   \n",
       "\n",
       "                                                ICD9  \\\n",
       "0        240-279 390-459 460-519 520-579 799 580-629   \n",
       "1    240-279 390-459 290-319 460-519 800-999 710-739   \n",
       "2                            580-629 790-796 800-999   \n",
       "3            580-629 780-789 390-459 460-519 320-389   \n",
       "4                                    390-459 800-999   \n",
       "5  240-279 001-139 390-459 290-319 460-519 520-57...   \n",
       "6    240-279 390-459 290-319 460-519 520-579 780-789   \n",
       "7  240-279 001-139 290-319 390-459 680-709 460-51...   \n",
       "8            240-279 390-459 710-739 320-389 800-999   \n",
       "9                            240-279 290-319 800-999   \n",
       "\n",
       "                                                TEXT  \n",
       "0  Admission Date:  [**2136-11-26**]             ...  \n",
       "1  Admission Date:  [**2142-7-27**]              ...  \n",
       "2  Admission Date:  [**2160-8-8**]     Discharge ...  \n",
       "3  Admission Date:  [**2104-2-9**]              D...  \n",
       "4  Admission Date:  [**2140-9-19**]     Discharge...  \n",
       "5  Admission Date:  [**2119-10-5**]              ...  \n",
       "6  Admission Date:  [**2143-12-26**]             ...  \n",
       "7  Admission Date:  [**2123-1-7**]              D...  \n",
       "8  Admission Date:  [**2148-11-9**]       Dischar...  \n",
       "9  Admission Date:  [**2107-1-14**]              ...  "
      ]
     },
     "execution_count": 7,
     "metadata": {},
     "output_type": "execute_result"
    }
   ],
   "source": [
    "ICD9_FIRST_LEVEL = [\n",
    "    '001-139','140-239','240-279','290-319', '320-389', '390-459','460-519', '520-579', '580-629', \n",
    "    '630-679', '680-709','710-739', '760-779', '780-789', '790-796', '797', '798', '799', '800-999' ]\n",
    "N_TOP = len(ICD9_FIRST_LEVEL)\n",
    "# replacing leave ICD9 codes with the grandparents\n",
    "df['ICD9'] = df['ICD9'].apply(lambda x: helpers.replace_with_grandparent_codes(x,ICD9_FIRST_LEVEL))\n",
    "df.head(10)"
   ]
  },
  {
   "cell_type": "code",
   "execution_count": 8,
   "metadata": {
    "collapsed": false
   },
   "outputs": [
    {
     "name": "stdout",
     "output_type": "stream",
     "text": [
      "Counter({'390-459': 4138, '240-279': 3449, '290-319': 2833, '460-519': 2546, '800-999': 2200, '580-629': 2112, '520-579': 2038, '780-789': 1597, '320-389': 1588, '001-139': 1407, '710-739': 1025, '140-239': 838, '680-709': 591, '760-779': 541, '790-796': 461, '799': 166, '630-679': 16})\n",
      "Number of icd9 codes in the first level that have notes in the dataset: 17\n"
     ]
    }
   ],
   "source": [
    "#counts by icd9_codes\n",
    "icd9_codes = Counter()\n",
    "for label in df['ICD9']:\n",
    "    for icd9_code in label.split():\n",
    "        icd9_codes[icd9_code] += 1\n",
    "number_icd9_first_level = len (icd9_codes)\n",
    "print icd9_codes\n",
    "print 'Number of icd9 codes in the first level that have notes in the dataset:', number_icd9_first_level"
   ]
  },
  {
   "cell_type": "code",
   "execution_count": 9,
   "metadata": {
    "collapsed": false
   },
   "outputs": [
    {
     "data": {
      "image/png": "[encoded data removed]",
      "text/plain": [
       "<matplotlib.figure.Figure at 0x7fdfa1fdec90>"
      ]
     },
     "metadata": {},
     "output_type": "display_data"
    }
   ],
   "source": [
    "codes_counts =icd9_codes.items()\n",
    "codes_counts.sort(key=itemgetter(1), reverse=True)\n",
    "icd9_labels, values = zip(*codes_counts)\n",
    "indexes = np.arange(len(icd9_labels))\n",
    "plt.rcdefaults()\n",
    "fig,ax = plt.subplots()\n",
    "ax.barh(indexes, values,  align='center', color='green', ecolor='black')\n",
    "ax.set_yticks(indexes)\n",
    "ax.set_yticklabels(icd9_labels)\n",
    "ax.invert_yaxis()  # labels read top-to-bottom\n",
    "ax.set_xlabel('counts')\n",
    "ax.set_ylabel('ICD9 code')\n",
    "ax.set_title('Top ' + str(number_icd9_first_level) + ' ICD9 codes in the ICD9 hierarchy')\n",
    "plt.show()"
   ]
  },
  {
   "cell_type": "code",
   "execution_count": 10,
   "metadata": {
    "collapsed": false
   },
   "outputs": [
    {
     "name": "stdout",
     "output_type": "stream",
     "text": [
      "sample of vectorized icd9 labels:  [0 0 1 0 0 1 1 1 1 0 0 0 0 0 0 0 0 1 0]\n"
     ]
    }
   ],
   "source": [
    "#preprocess icd9 codes to vectors \n",
    "top_codes = ICD9_FIRST_LEVEL\n",
    "labels = vectorization.vectorize_icd_column(df, 'ICD9', top_codes)\n",
    "print 'sample of vectorized icd9 labels: ', labels[0]\n"
   ]
  },
  {
   "cell_type": "markdown",
   "metadata": {},
   "source": [
    "## Pre process Notes"
   ]
  },
  {
   "cell_type": "code",
   "execution_count": 30,
   "metadata": {
    "collapsed": false
   },
   "outputs": [
    {
     "name": "stdout",
     "output_type": "stream",
     "text": [
      "Vocabulary size: 45222\n",
      "Average note length: 1644.0711575\n",
      "Max note length: 7470\n",
      "Final Vocabulary: 45222\n",
      "Final Max Sequence Length: 5000\n"
     ]
    }
   ],
   "source": [
    "#preprocess notes\n",
    "MAX_VOCAB = None # to limit original number of words (None if no limit)\n",
    "MAX_SEQ_LENGTH = 5000 # to limit length of word sequence (None if no limit)\n",
    "df.TEXT = vectorization.clean_notes(df, 'TEXT')\n",
    "data_vectorized, dictionary, MAX_VOCAB = vectorization.vectorize_notes(df.TEXT, MAX_VOCAB, verbose = True)\n",
    "data, MAX_SEQ_LENGTH = vectorization.pad_notes(data_vectorized, MAX_SEQ_LENGTH)\n",
    "\n",
    "print(\"Final Vocabulary: %s\" % MAX_VOCAB)\n",
    "print(\"Final Max Sequence Length: %s\" % MAX_SEQ_LENGTH)"
   ]
  },
  {
   "cell_type": "code",
   "execution_count": 38,
   "metadata": {
    "collapsed": false
   },
   "outputs": [
    {
     "name": "stdout",
     "output_type": "stream",
     "text": [
      "3685\n",
      " admission index: 41\n",
      " date: 46\n",
      " words:  ['admission', 'date', 'discharge', 'date', 'service', 'medicine', 'allergies', 'no', 'known', 'allergies', 'adverse', 'drug', 'reactions', 'attending', 'chief', 'complaint', 'shortness', 'of', 'breath', 'major', 'surgical', 'or', 'invasive', 'procedure', 'right', 'sided', 'pleural', 'effusion', 'drainage', 'with', 'pigtail', 'catheter', 'placement', 'transesophageal', 'echocardiogram', 'with', 'bedside', 'electrical', 'cardioversion', 'history', 'of', 'present', 'illness', 'the', 'patient', 'is', 'a', 'f', 'with', 'a', 'medical', 'history', 'of', 'atrial', 'fibrillation', 'not', 'on', 'coumadin', 'coronary', 'artery', 'disease', 'who', 'is', 'transferred', 'from', 'after', 'presenting', 'there', 'with', 'progressively', 'worsening', 'dyspnea', 'at', 'baseline', 'she', 'ambulates', 'with', 'a', 'walker', 'but', 'does', 'not', 'go', 'very', 'far', 'due', 'to', 'leg', 'pain', 'she', 'had', 'a', 'recent', 'hospitalization', 'several', 'months', 'ago', 'for', 'congestive', 'heart']\n",
      " \n",
      " vectorized:  [41, 46, 22, 46, 95, 340, 141, 12, 303, 141, 1828, 513, 1856, 275, 294, 278, 347, 5, 239, 287, 157, 21, 283, 155, 35, 560, 299, 238, 474, 7, 3932, 463, 357, 4089, 901, 7, 1772, 5126, 2764, 31, 5, 123, 213, 2, 15, 16, 8, 292, 7, 8, 115, 31, 5, 218, 366, 44, 9, 315, 186, 106, 89, 176, 16, 143, 52, 83, 1678, 54, 7, 2793, 537, 682, 19, 349, 23, 5654, 7, 8, 1816, 62, 496, 44, 915, 478, 3601, 148, 4, 590, 45, 23, 37, 8, 285, 550, 448, 541, 405, 11, 884, 125]\n",
      "3685\n",
      " \n",
      "padded [  0   0   0 ..., 620  16 348]\n",
      "5000\n"
     ]
    }
   ],
   "source": [
    "print len (df.TEXT[0].split())\n",
    "print ' admission index:', dictionary[\"admission\"]\n",
    "print ' date:', dictionary[\"date\"]\n",
    "\n",
    "print ' words: ', df.TEXT[0].split()[0:100]\n",
    "print ' '\n",
    "print ' vectorized: ', data_vectorized[0][0:100]\n",
    "print len (data_vectorized[0])\n",
    "print ' '\n",
    "print 'padded' , data[0]\n",
    "print len (data[0])"
   ]
  },
  {
   "cell_type": "code",
   "execution_count": 12,
   "metadata": {
    "collapsed": false
   },
   "outputs": [
    {
     "name": "stdout",
     "output_type": "stream",
     "text": [
      "('Vocabulary in notes:', 45223)\n",
      "('Vocabulary in original embedding:', 400000)\n",
      "('Vocabulary intersection:', 22029)\n"
     ]
    }
   ],
   "source": [
    "#creating embeddings\n",
    "EMBEDDING_LOC = '../data/glove.6B.100d.txt' # location of embedding\n",
    "EMBEDDING_DIM = 100 # given the glove that we chose\n",
    "EMBEDDING_MATRIX, embedding_dict = vectorization.embedding_matrix(EMBEDDING_LOC,\n",
    "                                                                  dictionary, EMBEDDING_DIM, verbose = True)\n"
   ]
  },
  {
   "cell_type": "markdown",
   "metadata": {},
   "source": [
    "## Split Files"
   ]
  },
  {
   "cell_type": "code",
   "execution_count": 13,
   "metadata": {
    "collapsed": false
   },
   "outputs": [
    {
     "name": "stdout",
     "output_type": "stream",
     "text": [
      "('Train: ', (3688, 5000), (3688, 19))\n",
      "('Validation: ', (1054, 5000), (1054, 19))\n",
      "('Test: ', (528, 5000), (528, 19))\n"
     ]
    }
   ],
   "source": [
    "#split sets\n",
    "X_train, X_val, X_test, y_train, y_val, y_test = helpers.train_val_test_split(\n",
    "    data, labels, val_size=0.2, test_size=0.1, random_state=101)\n",
    "print(\"Train: \", X_train.shape, y_train.shape)\n",
    "print(\"Validation: \", X_val.shape, y_val.shape)\n",
    "print(\"Test: \", X_test.shape, y_test.shape)"
   ]
  },
  {
   "cell_type": "code",
   "execution_count": 13,
   "metadata": {
    "collapsed": false
   },
   "outputs": [],
   "source": [
    "# Delete temporary variables to free some memory\n",
    "del df, data, labels"
   ]
  },
  {
   "cell_type": "markdown",
   "metadata": {},
   "source": [
    "## Super Basic Baseline with top 4\n",
    "Always predict top 4"
   ]
  },
  {
   "cell_type": "code",
   "execution_count": 14,
   "metadata": {
    "collapsed": false
   },
   "outputs": [
    {
     "name": "stdout",
     "output_type": "stream",
     "text": [
      "most common 4 icd9_codes:  [('390-459', 4149), ('240-279', 3476), ('290-319', 2809), ('460-519', 2481)]\n",
      "label for the top 4 icd9 codes:  390-459 240-279 290-319 460-519\n"
     ]
    }
   ],
   "source": [
    "# finding out the top icd9 codes\n",
    "top_4_icd9 = icd9_codes.most_common(4)\n",
    "print \"most common 4 icd9_codes: \", top_4_icd9\n",
    "top_4_icd9_label = ' '.join(code for code,count in top_4_icd9 )\n",
    "print 'label for the top 4 icd9 codes: ', top_4_icd9_label"
   ]
  },
  {
   "cell_type": "code",
   "execution_count": 15,
   "metadata": {
    "collapsed": false
   },
   "outputs": [
    {
     "name": "stdout",
     "output_type": "stream",
     "text": [
      "['001-139', '140-239', '240-279', '290-319', '320-389', '390-459', '460-519', '520-579', '580-629', '630-679', '680-709', '710-739', '760-779', '780-789', '790-796', '797', '798', '799', '800-999']\n",
      "[0 0 1 1 0 1 1 0 0 0 0 0 0 0 0 0 0 0 0]\n"
     ]
    }
   ],
   "source": [
    "#converting ICD9 prediction to a vector\n",
    "top4_icd9_vector =  vectorization.vectorize_icd_string(top_4_icd9_label, ICD9_FIRST_LEVEL)\n",
    "print ICD9_FIRST_LEVEL\n",
    "print top4_icd9_vector"
   ]
  },
  {
   "cell_type": "code",
   "execution_count": 16,
   "metadata": {
    "collapsed": true
   },
   "outputs": [],
   "source": [
    "## assign icd9_prediction_vector to every discharge\n",
    "train_y_hat_baseline = [top4_icd9_vector]* len (y_train)\n",
    "dev_y_hat_baseline = [top4_icd9_vector]* len (y_val)"
   ]
  },
  {
   "cell_type": "code",
   "execution_count": 17,
   "metadata": {
    "collapsed": false
   },
   "outputs": [
    {
     "name": "stdout",
     "output_type": "stream",
     "text": [
      "F1 scores\n",
      "threshold | training | dev  \n",
      "0.020:      0.532      0.526\n",
      "0.030:      0.532      0.526\n",
      "0.040:      0.532      0.526\n",
      "0.050:      0.532      0.526\n",
      "0.055:      0.532      0.526\n",
      "0.058:      0.532      0.526\n",
      "0.060:      0.532      0.526\n",
      "0.080:      0.532      0.526\n",
      "0.100:      0.532      0.526\n",
      "0.200:      0.532      0.526\n",
      "0.300:      0.532      0.526\n",
      "0.500:      0.532      0.526\n"
     ]
    }
   ],
   "source": [
    "helpers.show_f1_score(y_train, train_y_hat_baseline, y_val, dev_y_hat_baseline)"
   ]
  },
  {
   "cell_type": "markdown",
   "metadata": {},
   "source": [
    "## Basic LSTM "
   ]
  },
  {
   "cell_type": "code",
   "execution_count": 19,
   "metadata": {
    "collapsed": false
   },
   "outputs": [
    {
     "name": "stdout",
     "output_type": "stream",
     "text": [
      "_________________________________________________________________\n",
      "Layer (type)                 Output Shape              Param #   \n",
      "=================================================================\n",
      "input_2 (InputLayer)         (None, 5000)              0         \n",
      "_________________________________________________________________\n",
      "embedding_2 (Embedding)      (None, 5000, 100)         4522400   \n",
      "_________________________________________________________________\n",
      "lstm_1 (LSTM)                (None, 100)               80400     \n",
      "_________________________________________________________________\n",
      "dense_2 (Dense)              (None, 19)                1919      \n",
      "=================================================================\n",
      "Total params: 4,604,719\n",
      "Trainable params: 4,604,719\n",
      "Non-trainable params: 0\n",
      "_________________________________________________________________\n",
      "None\n"
     ]
    }
   ],
   "source": [
    "reload(lstm_model)\n",
    "#### build model\n",
    "l_model = lstm_model.build_lstm_model (input_seq_length=MAX_SEQ_LENGTH, max_vocab = MAX_VOCAB,\n",
    "                             external_embeddings = True, embedding_trainable =True,\n",
    "                             embedding_dim=EMBEDDING_DIM,embedding_matrix=EMBEDDING_MATRIX,                             \n",
    "                             num_classes=N_TOP )"
   ]
  },
  {
   "cell_type": "code",
   "execution_count": 20,
   "metadata": {
    "collapsed": false
   },
   "outputs": [
    {
     "name": "stdout",
     "output_type": "stream",
     "text": [
      "Train on 3688 samples, validate on 1054 samples\n",
      "Epoch 1/5\n",
      "497s - loss: 0.4698 - acc: 0.7685 - val_loss: 0.4302 - val_acc: 0.7857\n",
      "Epoch 2/5\n",
      "498s - loss: 0.4239 - acc: 0.7886 - val_loss: 0.4256 - val_acc: 0.7865\n",
      "Epoch 3/5\n",
      "528s - loss: 0.4160 - acc: 0.7946 - val_loss: 0.4173 - val_acc: 0.7941\n",
      "Epoch 4/5\n",
      "549s - loss: 0.4076 - acc: 0.7987 - val_loss: 0.4088 - val_acc: 0.7944\n",
      "Epoch 5/5\n",
      "470s - loss: 0.4017 - acc: 0.7997 - val_loss: 0.4058 - val_acc: 0.7927\n"
     ]
    },
    {
     "data": {
      "text/plain": [
       "<keras.callbacks.History at 0x7fdfa1ff5090>"
      ]
     },
     "execution_count": 20,
     "metadata": {},
     "output_type": "execute_result"
    }
   ],
   "source": [
    "l_model.fit(X_train, y_train, batch_size=50, epochs=5, validation_data=(X_val, y_val), verbose=2)"
   ]
  },
  {
   "cell_type": "code",
   "execution_count": 22,
   "metadata": {
    "collapsed": false
   },
   "outputs": [
    {
     "name": "stdout",
     "output_type": "stream",
     "text": [
      "F1 scores\n",
      "threshold | training | dev  \n",
      "0.020:      0.501      0.506\n",
      "0.030:      0.510      0.515\n",
      "0.040:      0.527      0.531\n",
      "0.050:      0.541      0.546\n",
      "0.055:      0.550      0.554\n",
      "0.058:      0.553      0.558\n",
      "0.060:      0.556      0.560\n",
      "0.080:      0.573      0.576\n",
      "0.100:      0.585      0.588\n",
      "0.200:      0.627      0.628\n",
      "0.300:      0.651      0.650\n",
      "0.400:      0.648      0.641\n",
      "0.500:      0.606      0.585\n",
      "0.600:      0.524      0.506\n",
      "0.700:      0.429      0.416\n"
     ]
    }
   ],
   "source": [
    "pred_train = l_model.predict(X_train, batch_size=100)\n",
    "pred_dev = l_model.predict(X_val, batch_size=100)\n",
    "helpers.show_f1_score(y_train, pred_train, y_val, pred_dev)"
   ]
  },
  {
   "cell_type": "markdown",
   "metadata": {},
   "source": [
    "## CNN for text classification\n",
    "\n",
    "Based on the following papers and links:\n",
    "* \"Convolutional Neural Networks for Sentence Classification\"   \n",
    "* \"A Sensitivity Analysis of (and Practitioners’ Guide to) Convolutional Neural Networks for Sentence Classification\"\n",
    "* http://www.wildml.com/2015/11/understanding-convolutional-neural-networks-for-nlp/\n",
    "* https://github.com/alexander-rakhlin/CNN-for-Sentence-Classification-in-Keras/blob/master/sentiment_cnn.py\n",
    "* http://www.wildml.com/2015/12/implementing-a-cnn-for-text-classification-in-tensorflow/\n",
    "* https://github.com/dennybritz/cnn-text-classification-tf/blob/master/text_cnn.py"
   ]
  },
  {
   "cell_type": "code",
   "execution_count": 14,
   "metadata": {
    "collapsed": false
   },
   "outputs": [
    {
     "name": "stdout",
     "output_type": "stream",
     "text": [
      "____________________________________________________________________________________________________\n",
      "Layer (type)                     Output Shape          Param #     Connected to                     \n",
      "====================================================================================================\n",
      "input_1 (InputLayer)             (None, 5000)          0                                            \n",
      "____________________________________________________________________________________________________\n",
      "embedding_1 (Embedding)          (None, 5000, 100)     4522400     input_1[0][0]                    \n",
      "____________________________________________________________________________________________________\n",
      "conv1d_1 (Conv1D)                (None, 4999, 100)     20100       embedding_1[0][0]                \n",
      "____________________________________________________________________________________________________\n",
      "conv1d_2 (Conv1D)                (None, 4998, 100)     30100       embedding_1[0][0]                \n",
      "____________________________________________________________________________________________________\n",
      "conv1d_3 (Conv1D)                (None, 4997, 100)     40100       embedding_1[0][0]                \n",
      "____________________________________________________________________________________________________\n",
      "conv1d_4 (Conv1D)                (None, 4996, 100)     50100       embedding_1[0][0]                \n",
      "____________________________________________________________________________________________________\n",
      "max_pooling1d_1 (MaxPooling1D)   (None, 1, 100)        0           conv1d_1[0][0]                   \n",
      "____________________________________________________________________________________________________\n",
      "max_pooling1d_2 (MaxPooling1D)   (None, 1, 100)        0           conv1d_2[0][0]                   \n",
      "____________________________________________________________________________________________________\n",
      "max_pooling1d_3 (MaxPooling1D)   (None, 1, 100)        0           conv1d_3[0][0]                   \n",
      "____________________________________________________________________________________________________\n",
      "max_pooling1d_4 (MaxPooling1D)   (None, 1, 100)        0           conv1d_4[0][0]                   \n",
      "____________________________________________________________________________________________________\n",
      "flatten_1 (Flatten)              (None, 100)           0           max_pooling1d_1[0][0]            \n",
      "____________________________________________________________________________________________________\n",
      "flatten_2 (Flatten)              (None, 100)           0           max_pooling1d_2[0][0]            \n",
      "____________________________________________________________________________________________________\n",
      "flatten_3 (Flatten)              (None, 100)           0           max_pooling1d_3[0][0]            \n",
      "____________________________________________________________________________________________________\n",
      "flatten_4 (Flatten)              (None, 100)           0           max_pooling1d_4[0][0]            \n",
      "____________________________________________________________________________________________________\n",
      "concatenate_1 (Concatenate)      (None, 400)           0           flatten_1[0][0]                  \n",
      "                                                                   flatten_2[0][0]                  \n",
      "                                                                   flatten_3[0][0]                  \n",
      "                                                                   flatten_4[0][0]                  \n",
      "____________________________________________________________________________________________________\n",
      "dropout_1 (Dropout)              (None, 400)           0           concatenate_1[0][0]              \n",
      "____________________________________________________________________________________________________\n",
      "dense_1 (Dense)                  (None, 19)            7619        dropout_1[0][0]                  \n",
      "====================================================================================================\n",
      "Total params: 4,670,419\n",
      "Trainable params: 4,670,419\n",
      "Non-trainable params: 0\n",
      "____________________________________________________________________________________________________\n",
      "None\n"
     ]
    }
   ],
   "source": [
    "reload(icd9_cnn_model)\n",
    "#### build model\n",
    "model = icd9_cnn_model.build_icd9_cnn_model (input_seq_length=MAX_SEQ_LENGTH, max_vocab = MAX_VOCAB,\n",
    "                             external_embeddings = True, embedding_trainable =True,\n",
    "                             embedding_dim=EMBEDDING_DIM,embedding_matrix=EMBEDDING_MATRIX,\n",
    "                             num_filters = 100, filter_sizes=[2,3,4,5],\n",
    "                             training_dropout_keep_prob=0.9,\n",
    "                             num_classes=N_TOP )"
   ]
  },
  {
   "cell_type": "code",
   "execution_count": 15,
   "metadata": {
    "collapsed": false
   },
   "outputs": [
    {
     "name": "stdout",
     "output_type": "stream",
     "text": [
      "Train on 3688 samples, validate on 1054 samples\n",
      "Epoch 1/5\n",
      "110s - loss: 1.2100 - acc: 0.6914 - val_loss: 0.4687 - val_acc: 0.7804\n",
      "Epoch 2/5\n",
      "114s - loss: 0.6159 - acc: 0.7315 - val_loss: 0.4398 - val_acc: 0.7879\n",
      "Epoch 3/5\n",
      "115s - loss: 0.5118 - acc: 0.7530 - val_loss: 0.4290 - val_acc: 0.7952\n",
      "Epoch 4/5\n",
      "114s - loss: 0.4731 - acc: 0.7718 - val_loss: 0.4209 - val_acc: 0.8000\n",
      "Epoch 5/5\n",
      "114s - loss: 0.4509 - acc: 0.7806 - val_loss: 0.4139 - val_acc: 0.8003\n"
     ]
    },
    {
     "data": {
      "text/plain": [
       "<keras.callbacks.History at 0x7fdf65e67b10>"
      ]
     },
     "execution_count": 15,
     "metadata": {},
     "output_type": "execute_result"
    }
   ],
   "source": [
    "# Train the model\n",
    "model.fit(X_train, y_train, batch_size=50, epochs=5, validation_data=(X_val, y_val), verbose=2)"
   ]
  },
  {
   "cell_type": "code",
   "execution_count": 18,
   "metadata": {
    "collapsed": false
   },
   "outputs": [
    {
     "name": "stdout",
     "output_type": "stream",
     "text": [
      "F1 scores\n",
      "threshold | training | dev  \n",
      "0.020:      0.494      0.496\n",
      "0.030:      0.507      0.509\n",
      "0.040:      0.516      0.519\n",
      "0.050:      0.525      0.527\n",
      "0.055:      0.528      0.530\n",
      "0.058:      0.530      0.532\n",
      "0.060:      0.532      0.534\n",
      "0.080:      0.547      0.546\n",
      "0.100:      0.562      0.560\n",
      "0.200:      0.622      0.617\n",
      "0.300:      0.661      0.646\n",
      "0.400:      0.658      0.636\n",
      "0.500:      0.595      0.567\n",
      "0.600:      0.493      0.473\n",
      "0.700:      0.371      0.348\n"
     ]
    }
   ],
   "source": [
    "pred_train = model.predict(X_train, batch_size=50)\n",
    "pred_dev = model.predict(X_val, batch_size=50)\n",
    "# perform evaluation\n",
    "helpers.show_f1_score(y_train, pred_train, y_val, pred_dev)"
   ]
  },
  {
   "cell_type": "markdown",
   "metadata": {},
   "source": [
    "### TO DO: model for Thresholding\n",
    "Papers about Thresholding:    \n",
    "\n",
    "* \"Convolutional Neural Network using a Threshold Predictor for Multi-label Speech Act Classification\"   \n",
    "* \"A Study on Threshold Selection for Multi-label Classification\"   \n",
    "\n",
    "These papers mention they use a model for thresholding, but it is not the main topic:   \n",
    "* \"A Review on Multi-Label Learning Algorithms\"   \n",
    "* \"Large-scale Multi-label Text Classification—Revisiting Neural Networks\"*   \n",
    "* \"A multi-label convolutional neural network for automatic image annotation\""
   ]
  },
  {
   "cell_type": "markdown",
   "metadata": {},
   "source": [
    "### Results with external embeddings = True , no additional training,  top 20\n",
    "```\n",
    "F1 scores\n",
    "threshold | training | dev  \n",
    "0.020:      0.337      0.329\n",
    "0.030:      0.360      0.353\n",
    "0.040:      0.365      0.374\n",
    "0.050:      0.372      0.375\n",
    "0.055:      0.370      0.377\n",
    "0.058:      0.369      0.375\n",
    "0.060:      0.368      0.375\n",
    "0.080:      0.348      0.361\n",
    "0.100:      0.309      0.319\n",
    "0.200:      0.198      0.208\n",
    "0.300:      0.157      0.138\n",
    "0.500:      0.000      0.000\n",
    "```\n",
    "\n",
    "### Results with external embeddings = False, top 20\n",
    "```\n",
    "F1 scores\n",
    "threshold | training | dev  \n",
    "0.020:      0.288      0.300\n",
    "0.030:      0.327      0.322\n",
    "0.040:      0.371      0.363\n",
    "0.050:      0.380      0.391\n",
    "0.055:      0.412      0.383\n",
    "0.058:      0.403      0.394\n",
    "0.060:      0.394      0.389\n",
    "0.080:      0.385      0.390\n",
    "0.100:      0.229      0.225\n",
    "0.200:      0.000      0.000\n",
    "0.300:      0.000      0.000\n",
    "0.500:      0.000      0.000\n",
    "```\n",
    "\n",
    "### Results with external embedding and training them , top 20\n",
    "```\n",
    "F1 scores\n",
    "threshold | training | dev  \n",
    "0.020:      0.334      0.333\n",
    "0.030:      0.362      0.360\n",
    "0.040:      0.366      0.374\n",
    "0.050:      0.373      0.380\n",
    "0.055:      0.374      0.382\n",
    "0.058:      0.376      0.376\n",
    "0.060:      0.376      0.378\n",
    "0.080:      0.387      0.371\n",
    "0.100:      0.366      0.350\n",
    "0.200:      0.179      0.171\n",
    "0.300:      0.020      0.020\n",
    "0.500:      0.000      0.000\n",
    "\n",
    "```\n",
    "\n",
    "### Results with external Embeddings = False, top 10, \n",
    "We can compare this setup with the LSTM published in the paper \"Applying Deep Learning to ICD-9 Multi-label Classification from Medical Records\", they got a F1-score of about 0.4168, we are getting 0.447\n",
    "\n",
    "``` \n",
    "F1 scores\n",
    "threshold | training | dev  \n",
    "0.020:      0.399      0.407\n",
    "0.030:      0.399      0.407\n",
    "0.040:      0.399      0.407\n",
    "0.050:      0.408      0.413\n",
    "0.055:      0.433      0.420\n",
    "0.058:      0.437      0.430\n",
    "0.060:      0.432      0.427\n",
    "0.080:      0.501      0.463\n",
    "0.100:      0.446      0.463\n",
    "0.200:      0.206      0.066\n",
    "0.300:      0.000      0.000\n",
    "0.500:      0.000      0.000\n",
    "```\n",
    "\n"
   ]
  },
  {
   "cell_type": "markdown",
   "metadata": {
    "collapsed": true
   },
   "source": [
    "## Notes:\n",
    "\n",
    "\n",
    "(1) There is a LSTM model by this paper: \"Applying Deep Learning to ICD-9 Multi-label Classification from Medical Records\" which did achieve a 42% F1-score. (https://cs224d.stanford.edu/reports/priyanka.pdf), but it only uses the top 10 icd9 codes. We are getting 46% (just running with 1000 notes so far)\n",
    "\n",
    "\n",
    "(2) The \"A Comparison of Rule-Based and Deep Learning Models for Patient Phenotyping\"  study did get a 70% F1-score, but they don't use the icd9-labels but phenotypes labels they annotated themselved (via a group of medical professionals). (https://arxiv.org/abs/1703.08705). There were ONLY 10 phenotypes.\n",
    "\n",
    "The discharge summaries are labeled with ICD9-codes that are leaves in the ICD9-hierarchy (which has hundreds of ICD9-codes), then maybe these leave nodes are too specific and difficult to predict, one experiment would be to replaced all the ICD9-codes with their parent in the second or third level in the hierarchy and see if predictions work better that way.   \n",
    "\n",
    "(3) our baseline with top 20 codes had a f1-score of 35% (assigning top 4 icd9 codes to all notes, using a CNN with no external embeddings is getting about 40% f1-score.. a little better than the baseline\n",
    "\n",
    "(4) Papers published and best practices report  that external embeddings improve considerable the model's performance.. maybe it is not the case here because of the medical terms..   \n",
    "\n",
    "(5) Fixed Thresholding doesn't work well for multilabel classifications, we can implement a model to choose the appropriate threshold for each record (see notes above)\n",
    "\n",
    "(6) for loss function: binary and categorical cross entropy gave same results"
   ]
  },
  {
   "cell_type": "code",
   "execution_count": null,
   "metadata": {
    "collapsed": true
   },
   "outputs": [],
   "source": []
  }
 ],
 "metadata": {
  "kernelspec": {
   "display_name": "Python 2",
   "language": "python",
   "name": "python2"
  },
  "language_info": {
   "codemirror_mode": {
    "name": "ipython",
    "version": 2
   },
   "file_extension": ".py",
   "mimetype": "text/x-python",
   "name": "python",
   "nbconvert_exporter": "python",
   "pygments_lexer": "ipython2",
   "version": "2.7.13"
  }
 },
 "nbformat": 4,
 "nbformat_minor": 2
}
