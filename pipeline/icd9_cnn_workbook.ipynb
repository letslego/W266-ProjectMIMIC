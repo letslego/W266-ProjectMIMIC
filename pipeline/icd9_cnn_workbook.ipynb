{
 "cells": [
  {
   "cell_type": "markdown",
   "metadata": {},
   "source": [
    "## Note:\n",
    "this is a workbook notebook for testing the cnn model... the final notebook will have much more examples and will have visualization on how the data looks"
   ]
  },
  {
   "cell_type": "code",
   "execution_count": 29,
   "metadata": {
    "collapsed": false
   },
   "outputs": [
    {
     "name": "stdout",
     "output_type": "stream",
     "text": [
      "The autoreload extension is already loaded. To reload it, use:\n",
      "  %reload_ext autoreload\n"
     ]
    }
   ],
   "source": [
    "%matplotlib inline\n",
    "# General imports\n",
    "import numpy as np\n",
    "import pandas as pd\n",
    "from sklearn.metrics import f1_score\n",
    "import random\n",
    "from collections import Counter, defaultdict\n",
    "from operator import itemgetter\n",
    "import matplotlib.pyplot as plt\n",
    "\n",
    "\n",
    "#keras\n",
    "from keras.models import Sequential, Model\n",
    "from keras.layers import Dense, Dropout, Flatten, Input, MaxPooling1D, Convolution1D, Embedding\n",
    "from keras.layers.merge import Concatenate\n",
    "\n",
    "# Custom functions\n",
    "%load_ext autoreload\n",
    "%autoreload 2\n",
    "import database_selection\n",
    "import vectorization\n",
    "import helpers\n",
    "import icd9_cnn_model\n"
   ]
  },
  {
   "cell_type": "code",
   "execution_count": 21,
   "metadata": {
    "collapsed": false
   },
   "outputs": [],
   "source": [
    "#reading file\n",
    "full_df = pd.read_csv('../data/disch_notes_all_icd9.csv',\n",
    "                 names = ['HADM_ID', 'SUBJECT_ID', 'DATE', 'ICD9','TEXT'])\n"
   ]
  },
  {
   "cell_type": "code",
   "execution_count": 22,
   "metadata": {
    "collapsed": false
   },
   "outputs": [
    {
     "data": {
      "text/plain": [
       "(52696, 5)"
      ]
     },
     "execution_count": 22,
     "metadata": {},
     "output_type": "execute_result"
    }
   ],
   "source": [
    "full_df.shape"
   ]
  },
  {
   "cell_type": "code",
   "execution_count": 23,
   "metadata": {
    "collapsed": false
   },
   "outputs": [
    {
     "name": "stdout",
     "output_type": "stream",
     "text": [
      "(5270, 5)\n"
     ]
    },
    {
     "data": {
      "text/html": [
       "<div>\n",
       "<table border=\"1\" class=\"dataframe\">\n",
       "  <thead>\n",
       "    <tr style=\"text-align: right;\">\n",
       "      <th></th>\n",
       "      <th>HADM_ID</th>\n",
       "      <th>SUBJECT_ID</th>\n",
       "      <th>DATE</th>\n",
       "      <th>ICD9</th>\n",
       "      <th>TEXT</th>\n",
       "    </tr>\n",
       "  </thead>\n",
       "  <tbody>\n",
       "    <tr>\n",
       "      <th>0</th>\n",
       "      <td>101809</td>\n",
       "      <td>28707</td>\n",
       "      <td>2169-06-28 00:00:00</td>\n",
       "      <td>4271 3453 3481 486 5856 7907 40391 4280 4240 4...</td>\n",
       "      <td>Admission Date:  [**2169-6-22**]              ...</td>\n",
       "    </tr>\n",
       "    <tr>\n",
       "      <th>1</th>\n",
       "      <td>176869</td>\n",
       "      <td>97567</td>\n",
       "      <td>2200-07-06 00:00:00</td>\n",
       "      <td>51901 43820 6821 43811</td>\n",
       "      <td>Admission Date:  [**2200-7-4**]              D...</td>\n",
       "    </tr>\n",
       "    <tr>\n",
       "      <th>2</th>\n",
       "      <td>169625</td>\n",
       "      <td>26384</td>\n",
       "      <td>2185-10-31 00:00:00</td>\n",
       "      <td>486 4280 4241 41401 41092</td>\n",
       "      <td>Admission Date:  [**2185-10-27**]       Discha...</td>\n",
       "    </tr>\n",
       "    <tr>\n",
       "      <th>3</th>\n",
       "      <td>126258</td>\n",
       "      <td>3014</td>\n",
       "      <td>2110-02-17 00:00:00</td>\n",
       "      <td>76502 769 7742 7793 77181 74602 7702 7707 7757...</td>\n",
       "      <td>Admission Date: [**2109-12-21**]        Discha...</td>\n",
       "    </tr>\n",
       "    <tr>\n",
       "      <th>4</th>\n",
       "      <td>109645</td>\n",
       "      <td>68083</td>\n",
       "      <td>2116-08-14 00:00:00</td>\n",
       "      <td>29181 34982 5849 27651 30390 311 5641 2859 287...</td>\n",
       "      <td>Admission Date:  [**2116-8-11**]              ...</td>\n",
       "    </tr>\n",
       "    <tr>\n",
       "      <th>5</th>\n",
       "      <td>129600</td>\n",
       "      <td>7468</td>\n",
       "      <td>2194-09-26 00:00:00</td>\n",
       "      <td>51882 431 41041 3229 2761 4019 2859</td>\n",
       "      <td>Admission Date:  [**2194-9-19**]       Dischar...</td>\n",
       "    </tr>\n",
       "    <tr>\n",
       "      <th>6</th>\n",
       "      <td>153003</td>\n",
       "      <td>17659</td>\n",
       "      <td>2200-06-21 00:00:00</td>\n",
       "      <td>99604 42731 4280 8670 5997 45829 7802 412 4148...</td>\n",
       "      <td>Admission Date:  [**2200-6-19**]              ...</td>\n",
       "    </tr>\n",
       "    <tr>\n",
       "      <th>7</th>\n",
       "      <td>108708</td>\n",
       "      <td>19287</td>\n",
       "      <td>2198-10-11 00:00:00</td>\n",
       "      <td>769 77211 7793 7742 76524 76516 7678 77081 6910</td>\n",
       "      <td>Admission Date: [**2198-8-28**]        Dischar...</td>\n",
       "    </tr>\n",
       "    <tr>\n",
       "      <th>8</th>\n",
       "      <td>158867</td>\n",
       "      <td>32078</td>\n",
       "      <td>2183-08-13 00:00:00</td>\n",
       "      <td>43889 3453 4019 2724 2662 72210</td>\n",
       "      <td>Admission Date:  [**2183-8-6**]              D...</td>\n",
       "    </tr>\n",
       "    <tr>\n",
       "      <th>9</th>\n",
       "      <td>107032</td>\n",
       "      <td>30163</td>\n",
       "      <td>2111-04-12 00:00:00</td>\n",
       "      <td>5121 47874 9982 56889 99881 4019 73399</td>\n",
       "      <td>Admission Date:  [**2111-4-9**]              D...</td>\n",
       "    </tr>\n",
       "  </tbody>\n",
       "</table>\n",
       "</div>"
      ],
      "text/plain": [
       "   HADM_ID  SUBJECT_ID                 DATE  \\\n",
       "0   101809       28707  2169-06-28 00:00:00   \n",
       "1   176869       97567  2200-07-06 00:00:00   \n",
       "2   169625       26384  2185-10-31 00:00:00   \n",
       "3   126258        3014  2110-02-17 00:00:00   \n",
       "4   109645       68083  2116-08-14 00:00:00   \n",
       "5   129600        7468  2194-09-26 00:00:00   \n",
       "6   153003       17659  2200-06-21 00:00:00   \n",
       "7   108708       19287  2198-10-11 00:00:00   \n",
       "8   158867       32078  2183-08-13 00:00:00   \n",
       "9   107032       30163  2111-04-12 00:00:00   \n",
       "\n",
       "                                                ICD9  \\\n",
       "0  4271 3453 3481 486 5856 7907 40391 4280 4240 4...   \n",
       "1                             51901 43820 6821 43811   \n",
       "2                          486 4280 4241 41401 41092   \n",
       "3  76502 769 7742 7793 77181 74602 7702 7707 7757...   \n",
       "4  29181 34982 5849 27651 30390 311 5641 2859 287...   \n",
       "5                51882 431 41041 3229 2761 4019 2859   \n",
       "6  99604 42731 4280 8670 5997 45829 7802 412 4148...   \n",
       "7    769 77211 7793 7742 76524 76516 7678 77081 6910   \n",
       "8                    43889 3453 4019 2724 2662 72210   \n",
       "9             5121 47874 9982 56889 99881 4019 73399   \n",
       "\n",
       "                                                TEXT  \n",
       "0  Admission Date:  [**2169-6-22**]              ...  \n",
       "1  Admission Date:  [**2200-7-4**]              D...  \n",
       "2  Admission Date:  [**2185-10-27**]       Discha...  \n",
       "3  Admission Date: [**2109-12-21**]        Discha...  \n",
       "4  Admission Date:  [**2116-8-11**]              ...  \n",
       "5  Admission Date:  [**2194-9-19**]       Dischar...  \n",
       "6  Admission Date:  [**2200-6-19**]              ...  \n",
       "7  Admission Date: [**2198-8-28**]        Dischar...  \n",
       "8  Admission Date:  [**2183-8-6**]              D...  \n",
       "9  Admission Date:  [**2111-4-9**]              D...  "
      ]
     },
     "execution_count": 23,
     "metadata": {},
     "output_type": "execute_result"
    }
   ],
   "source": [
    "# taking just a subset of the records for developing models\n",
    "df = full_df.sample(frac=0.1).reset_index(drop=True)\n",
    "print df.shape\n",
    "df.head(10)"
   ]
  },
  {
   "cell_type": "markdown",
   "metadata": {},
   "source": [
    "## Pre processing ICD 9 codes"
   ]
  },
  {
   "cell_type": "code",
   "execution_count": 5,
   "metadata": {
    "collapsed": false
   },
   "outputs": [],
   "source": [
    "# instead of finding out the top 20 leave icd-9 codes and filter records based on that\n",
    "# we will use all records and replace the leave icd-9 codes with its grandparents code in the first level of the hierarchy\n",
    "#N_TOP = 20 \n",
    "#full_df, top_codes = database_selection.filter_top_codes(df, 'ICD9', N_TOP, filter_empty = True)\n",
    "#df = full_df.head(1000)"
   ]
  },
  {
   "cell_type": "markdown",
   "metadata": {},
   "source": [
    "### Replacing leave icd-9 codes with their grandparent icd-9 code in the first level of the hierarchy\n",
    "\n",
    "Source: https://github.com/sirrice/icd9   \n",
    "The code above let's you see the ICD-9 hierarchy and traverse it, getting the parents (path) of a node, the children of a node, siblings, etc. (well documented in its README file).  \n",
    "\n",
    "From looking at the top of the hierarchy, these are the ICD9-codes that are in the first level of the hierarchy.\n",
    "```\n",
    "001-139 INFECTIOUS AND PARASITIC DISEASES \n",
    "140-239 NEOPLASMS \n",
    "240-279 ENDOCRINE, NUTRITIONAL AND METABOLIC DISEASES, AND IMMUNITY DISORDERS \n",
    "290-319 MENTAL DISORDERS \n",
    "320-389 DISEASES OF THE NERVOUS SYSTEM AND SENSE ORGANS \n",
    "390-459 DISEASES OF THE CIRCULATORY SYSTEM \n",
    "460-519 DISEASES OF THE RESPIRATORY SYSTEM \n",
    "520-579 DISEASES OF THE DIGESTIVE SYSTEM \n",
    "580-629 DISEASES OF THE GENITOURINARY SYSTEM \n",
    "630-679 COMPLICATIONS OF PREGNANCY, CHILDBIRTH, AND THE PUERPERIUM \n",
    "680-709 DISEASES OF THE SKIN AND SUBCUTANEOUS TISSUE \n",
    "710-739 DISEASES OF THE MUSCULOSKELETAL SYSTEM AND CONNECTIVE TISSUE \n",
    "760-779 CERTAIN CONDITIONS ORIGINATING IN THE PERINATAL PERIOD \n",
    "780-789 SYMPTOMS \n",
    "790-796 NONSPECIFIC ABNORMAL FINDINGS \n",
    "797 Senility without mention of psychosis\n",
    "798 Sudden death, cause unknown\n",
    "799 Other ill-defined and unknown causes of morbidity and mortality\n",
    "800-999 INJURY AND POISONING \n",
    "```\n",
    "\n",
    "The way that ICD9-codes are coded makes easy to find out which icd9-code code is the granparent in the first level,\n",
    "for example:\n",
    "```\n",
    "leave-code  code-at-first-level\n",
    "64833    -> 630-679\n",
    "4019     -> 390-459\n",
    "```\n",
    "\n",
    "The first three charachters of the leave icd9-code can be used to find out which is the grandparent icd-code in the first level"
   ]
  },
  {
   "cell_type": "code",
   "execution_count": 24,
   "metadata": {
    "collapsed": false
   },
   "outputs": [
    {
     "data": {
      "text/html": [
       "<div>\n",
       "<table border=\"1\" class=\"dataframe\">\n",
       "  <thead>\n",
       "    <tr style=\"text-align: right;\">\n",
       "      <th></th>\n",
       "      <th>HADM_ID</th>\n",
       "      <th>SUBJECT_ID</th>\n",
       "      <th>DATE</th>\n",
       "      <th>ICD9</th>\n",
       "      <th>TEXT</th>\n",
       "    </tr>\n",
       "  </thead>\n",
       "  <tbody>\n",
       "    <tr>\n",
       "      <th>0</th>\n",
       "      <td>101809</td>\n",
       "      <td>28707</td>\n",
       "      <td>2169-06-28 00:00:00</td>\n",
       "      <td>240-279 390-459 460-519 320-389 580-629 790-796</td>\n",
       "      <td>Admission Date:  [**2169-6-22**]              ...</td>\n",
       "    </tr>\n",
       "    <tr>\n",
       "      <th>1</th>\n",
       "      <td>176869</td>\n",
       "      <td>97567</td>\n",
       "      <td>2200-07-06 00:00:00</td>\n",
       "      <td>390-459 680-709 460-519</td>\n",
       "      <td>Admission Date:  [**2200-7-4**]              D...</td>\n",
       "    </tr>\n",
       "    <tr>\n",
       "      <th>2</th>\n",
       "      <td>169625</td>\n",
       "      <td>26384</td>\n",
       "      <td>2185-10-31 00:00:00</td>\n",
       "      <td>390-459 460-519</td>\n",
       "      <td>Admission Date:  [**2185-10-27**]       Discha...</td>\n",
       "    </tr>\n",
       "    <tr>\n",
       "      <th>3</th>\n",
       "      <td>126258</td>\n",
       "      <td>3014</td>\n",
       "      <td>2110-02-17 00:00:00</td>\n",
       "      <td>520-579 760-779 320-389</td>\n",
       "      <td>Admission Date: [**2109-12-21**]        Discha...</td>\n",
       "    </tr>\n",
       "    <tr>\n",
       "      <th>4</th>\n",
       "      <td>109645</td>\n",
       "      <td>68083</td>\n",
       "      <td>2116-08-14 00:00:00</td>\n",
       "      <td>240-279 390-459 290-319 520-579 320-389 580-629</td>\n",
       "      <td>Admission Date:  [**2116-8-11**]              ...</td>\n",
       "    </tr>\n",
       "    <tr>\n",
       "      <th>5</th>\n",
       "      <td>129600</td>\n",
       "      <td>7468</td>\n",
       "      <td>2194-09-26 00:00:00</td>\n",
       "      <td>240-279 390-459 290-319 460-519 320-389</td>\n",
       "      <td>Admission Date:  [**2194-9-19**]       Dischar...</td>\n",
       "    </tr>\n",
       "    <tr>\n",
       "      <th>6</th>\n",
       "      <td>153003</td>\n",
       "      <td>17659</td>\n",
       "      <td>2200-06-21 00:00:00</td>\n",
       "      <td>240-279 390-459 800-999 780-789 580-629 790-796</td>\n",
       "      <td>Admission Date:  [**2200-6-19**]              ...</td>\n",
       "    </tr>\n",
       "    <tr>\n",
       "      <th>7</th>\n",
       "      <td>108708</td>\n",
       "      <td>19287</td>\n",
       "      <td>2198-10-11 00:00:00</td>\n",
       "      <td>680-709 760-779</td>\n",
       "      <td>Admission Date: [**2198-8-28**]        Dischar...</td>\n",
       "    </tr>\n",
       "    <tr>\n",
       "      <th>8</th>\n",
       "      <td>158867</td>\n",
       "      <td>32078</td>\n",
       "      <td>2183-08-13 00:00:00</td>\n",
       "      <td>240-279 390-459 710-739 320-389</td>\n",
       "      <td>Admission Date:  [**2183-8-6**]              D...</td>\n",
       "    </tr>\n",
       "    <tr>\n",
       "      <th>9</th>\n",
       "      <td>107032</td>\n",
       "      <td>30163</td>\n",
       "      <td>2111-04-12 00:00:00</td>\n",
       "      <td>390-459 710-739 460-519 520-579 800-999</td>\n",
       "      <td>Admission Date:  [**2111-4-9**]              D...</td>\n",
       "    </tr>\n",
       "  </tbody>\n",
       "</table>\n",
       "</div>"
      ],
      "text/plain": [
       "   HADM_ID  SUBJECT_ID                 DATE  \\\n",
       "0   101809       28707  2169-06-28 00:00:00   \n",
       "1   176869       97567  2200-07-06 00:00:00   \n",
       "2   169625       26384  2185-10-31 00:00:00   \n",
       "3   126258        3014  2110-02-17 00:00:00   \n",
       "4   109645       68083  2116-08-14 00:00:00   \n",
       "5   129600        7468  2194-09-26 00:00:00   \n",
       "6   153003       17659  2200-06-21 00:00:00   \n",
       "7   108708       19287  2198-10-11 00:00:00   \n",
       "8   158867       32078  2183-08-13 00:00:00   \n",
       "9   107032       30163  2111-04-12 00:00:00   \n",
       "\n",
       "                                              ICD9  \\\n",
       "0  240-279 390-459 460-519 320-389 580-629 790-796   \n",
       "1                          390-459 680-709 460-519   \n",
       "2                                  390-459 460-519   \n",
       "3                          520-579 760-779 320-389   \n",
       "4  240-279 390-459 290-319 520-579 320-389 580-629   \n",
       "5          240-279 390-459 290-319 460-519 320-389   \n",
       "6  240-279 390-459 800-999 780-789 580-629 790-796   \n",
       "7                                  680-709 760-779   \n",
       "8                  240-279 390-459 710-739 320-389   \n",
       "9          390-459 710-739 460-519 520-579 800-999   \n",
       "\n",
       "                                                TEXT  \n",
       "0  Admission Date:  [**2169-6-22**]              ...  \n",
       "1  Admission Date:  [**2200-7-4**]              D...  \n",
       "2  Admission Date:  [**2185-10-27**]       Discha...  \n",
       "3  Admission Date: [**2109-12-21**]        Discha...  \n",
       "4  Admission Date:  [**2116-8-11**]              ...  \n",
       "5  Admission Date:  [**2194-9-19**]       Dischar...  \n",
       "6  Admission Date:  [**2200-6-19**]              ...  \n",
       "7  Admission Date: [**2198-8-28**]        Dischar...  \n",
       "8  Admission Date:  [**2183-8-6**]              D...  \n",
       "9  Admission Date:  [**2111-4-9**]              D...  "
      ]
     },
     "execution_count": 24,
     "metadata": {},
     "output_type": "execute_result"
    }
   ],
   "source": [
    "ICD9_FIRST_LEVEL = [\n",
    "    '001-139','140-239','240-279','290-319', '320-389', '390-459','460-519', '520-579', '580-629', \n",
    "    '630-679', '680-709','710-739', '760-779', '780-789', '790-796', '797', '798', '799', '800-999' ]\n",
    "N_TOP = len(ICD9_FIRST_LEVEL)\n",
    "# replacing leave ICD9 codes with the grandparents\n",
    "df['ICD9'] = df['ICD9'].apply(lambda x: helpers.replace_with_grandparent_codes(x,ICD9_FIRST_LEVEL))\n",
    "df.head(10)"
   ]
  },
  {
   "cell_type": "code",
   "execution_count": 25,
   "metadata": {
    "collapsed": false
   },
   "outputs": [
    {
     "name": "stdout",
     "output_type": "stream",
     "text": [
      "Counter({'390-459': 4147, '240-279': 3445, '290-319': 2668, '460-519': 2435, '800-999': 2181, '580-629': 2085, '520-579': 2050, '780-789': 1625, '320-389': 1525, '001-139': 1387, '710-739': 928, '140-239': 849, '680-709': 585, '760-779': 552, '790-796': 447, '799': 157, '630-679': 15})\n"
     ]
    }
   ],
   "source": [
    "#counts by icd9_codes\n",
    "icd9_codes = Counter()\n",
    "for label in df['ICD9']:\n",
    "    for icd9_code in label.split():\n",
    "        icd9_codes[icd9_code] += 1\n",
    "print icd9_codes"
   ]
  },
  {
   "cell_type": "code",
   "execution_count": 31,
   "metadata": {
    "collapsed": false
   },
   "outputs": [
    {
     "data": {
      "image/png": "[encoded data removed]",
      "text/plain": [
       "<matplotlib.figure.Figure at 0x7f451c7578d0>"
      ]
     },
     "metadata": {},
     "output_type": "display_data"
    }
   ],
   "source": [
    "codes_counts =icd9_codes.items()\n",
    "codes_counts.sort(key=itemgetter(1), reverse=True)\n",
    "icd9_labels, values = zip(*codes_counts)\n",
    "indexes = np.arange(len(icd9_labels))\n",
    "plt.rcdefaults()\n",
    "fig,ax = plt.subplots()\n",
    "ax.barh(indexes, values,  align='center', color='green', ecolor='black')\n",
    "ax.set_yticks(indexes)\n",
    "ax.set_yticklabels(icd9_labels)\n",
    "ax.invert_yaxis()  # labels read top-to-bottom\n",
    "ax.set_xlabel('counts')\n",
    "ax.set_ylabel('ICD9 code')\n",
    "ax.set_title('Top 17 ICD9 codes in the ICD9 hierarchy')\n",
    "plt.show()"
   ]
  },
  {
   "cell_type": "code",
   "execution_count": 32,
   "metadata": {
    "collapsed": false
   },
   "outputs": [],
   "source": [
    "#preprocess icd9 codes to vectors \n",
    "top_codes = ICD9_FIRST_LEVEL\n",
    "labels = vectorization.vectorize_icd_column(df, 'ICD9', top_codes)\n"
   ]
  },
  {
   "cell_type": "markdown",
   "metadata": {},
   "source": [
    "## Pre process Notes"
   ]
  },
  {
   "cell_type": "code",
   "execution_count": 34,
   "metadata": {
    "collapsed": false
   },
   "outputs": [
    {
     "name": "stdout",
     "output_type": "stream",
     "text": [
      "Vocabulary size: 44601\n",
      "Average note length: 1629.28614801\n",
      "Max note length: 8867\n",
      "Final Vocabulary: 44601\n",
      "Final Max Sequence Length: 5000\n"
     ]
    }
   ],
   "source": [
    "#preprocess notes\n",
    "MAX_VOCAB = None # to limit original number of words (None if no limit)\n",
    "MAX_SEQ_LENGTH = 5000 # to limit length of word sequence (None if no limit)\n",
    "df.TEXT = vectorization.clean_notes(df, 'TEXT')\n",
    "data, dictionary, MAX_VOCAB = vectorization.vectorize_notes(df.TEXT, MAX_VOCAB, verbose = True)\n",
    "data, MAX_SEQ_LENGTH = vectorization.pad_notes(data, MAX_SEQ_LENGTH)\n",
    "print(\"Final Vocabulary: %s\" % MAX_VOCAB)\n",
    "print(\"Final Max Sequence Length: %s\" % MAX_SEQ_LENGTH)"
   ]
  },
  {
   "cell_type": "markdown",
   "metadata": {},
   "source": [
    "## Split Files"
   ]
  },
  {
   "cell_type": "code",
   "execution_count": 35,
   "metadata": {
    "collapsed": false
   },
   "outputs": [
    {
     "name": "stdout",
     "output_type": "stream",
     "text": [
      "('Train: ', (3688, 5000), (3688, 19))\n",
      "('Validation: ', (1054, 5000), (1054, 19))\n",
      "('Test: ', (528, 5000), (528, 19))\n"
     ]
    }
   ],
   "source": [
    "#split sets\n",
    "X_train, X_val, X_test, y_train, y_val, y_test = helpers.train_val_test_split(\n",
    "    data, labels, val_size=0.2, test_size=0.1, random_state=101)\n",
    "print(\"Train: \", X_train.shape, y_train.shape)\n",
    "print(\"Validation: \", X_val.shape, y_val.shape)\n",
    "print(\"Test: \", X_test.shape, y_test.shape)"
   ]
  },
  {
   "cell_type": "code",
   "execution_count": 36,
   "metadata": {
    "collapsed": false
   },
   "outputs": [],
   "source": [
    "# Delete temporary variables to free some memory\n",
    "del df, data, labels"
   ]
  },
  {
   "cell_type": "code",
   "execution_count": 37,
   "metadata": {
    "collapsed": false
   },
   "outputs": [
    {
     "name": "stdout",
     "output_type": "stream",
     "text": [
      "('Vocabulary in notes:', 44601)\n",
      "('Vocabulary in original embedding:', 400000)\n",
      "('Vocabulary intersection:', 21943)\n"
     ]
    }
   ],
   "source": [
    "#creating embeddings\n",
    "EMBEDDING_LOC = '../data/glove.6B.100d.txt' # location of embedding\n",
    "EMBEDDING_DIM = 100 # given the glove that we chose\n",
    "EMBEDDING_MATRIX, embedding_dict = vectorization.embedding_matrix(EMBEDDING_LOC,\n",
    "                                                                  dictionary, EMBEDDING_DIM, verbose = True)\n"
   ]
  },
  {
   "cell_type": "markdown",
   "metadata": {},
   "source": [
    "## Super Basic Baseline with top 4\n",
    "Always predict top 4"
   ]
  },
  {
   "cell_type": "code",
   "execution_count": 38,
   "metadata": {
    "collapsed": false
   },
   "outputs": [
    {
     "name": "stdout",
     "output_type": "stream",
     "text": [
      "most common 4 icd9_codes:  [('390-459', 4147), ('240-279', 3445), ('290-319', 2668), ('460-519', 2435)]\n",
      "label for the top 4 icd9 codes:  390-459 240-279 290-319 460-519\n"
     ]
    }
   ],
   "source": [
    "# finding out the top icd9 codes\n",
    "top_4_icd9 = icd9_codes.most_common(4)\n",
    "print \"most common 4 icd9_codes: \", top_4_icd9\n",
    "top_4_icd9_label = ' '.join(code for code,count in top_4_icd9 )\n",
    "print 'label for the top 4 icd9 codes: ', top_4_icd9_label"
   ]
  },
  {
   "cell_type": "code",
   "execution_count": 42,
   "metadata": {
    "collapsed": false
   },
   "outputs": [
    {
     "name": "stdout",
     "output_type": "stream",
     "text": [
      "['001-139', '140-239', '240-279', '290-319', '320-389', '390-459', '460-519', '520-579', '580-629', '630-679', '680-709', '710-739', '760-779', '780-789', '790-796', '797', '798', '799', '800-999']\n",
      "[0 0 1 1 0 1 1 0 0 0 0 0 0 0 0 0 0 0 0]\n"
     ]
    }
   ],
   "source": [
    "#converting ICD9 prediction to a vector\n",
    "top4_icd9_vector =  vectorization.vectorize_icd_string(top_4_icd9_label, ICD9_FIRST_LEVEL)\n",
    "print ICD9_FIRST_LEVEL\n",
    "print top4_icd9_vector"
   ]
  },
  {
   "cell_type": "code",
   "execution_count": 43,
   "metadata": {
    "collapsed": true
   },
   "outputs": [],
   "source": [
    "## assign icd9_prediction_vector to every discharge\n",
    "train_y_hat_baseline = [top4_icd9_vector]* len (y_train)\n",
    "dev_y_hat_baseline = [top4_icd9_vector]* len (y_val)"
   ]
  },
  {
   "cell_type": "code",
   "execution_count": 45,
   "metadata": {
    "collapsed": false
   },
   "outputs": [
    {
     "name": "stdout",
     "output_type": "stream",
     "text": [
      "F1 scores\n",
      "threshold | training | dev  \n",
      "0.020:      0.528      0.522\n",
      "0.030:      0.528      0.522\n",
      "0.040:      0.528      0.522\n",
      "0.050:      0.528      0.522\n",
      "0.055:      0.528      0.522\n",
      "0.058:      0.528      0.522\n",
      "0.060:      0.528      0.522\n",
      "0.080:      0.528      0.522\n",
      "0.100:      0.528      0.522\n",
      "0.200:      0.528      0.522\n",
      "0.300:      0.528      0.522\n",
      "0.500:      0.528      0.522\n"
     ]
    }
   ],
   "source": [
    "helpers.show_f1_score(y_train, train_y_hat_baseline, y_val, dev_y_hat_baseline)"
   ]
  },
  {
   "cell_type": "markdown",
   "metadata": {},
   "source": [
    "## CNN for text classification\n",
    "\n",
    "Based on the following papers and links:\n",
    "* \"Convolutional Neural Networks for Sentence Classification\"   \n",
    "* \"A Sensitivity Analysis of (and Practitioners’ Guide to) Convolutional Neural Networks for Sentence Classification\"\n",
    "* http://www.wildml.com/2015/11/understanding-convolutional-neural-networks-for-nlp/\n",
    "* https://github.com/alexander-rakhlin/CNN-for-Sentence-Classification-in-Keras/blob/master/sentiment_cnn.py\n",
    "* http://www.wildml.com/2015/12/implementing-a-cnn-for-text-classification-in-tensorflow/\n",
    "* https://github.com/dennybritz/cnn-text-classification-tf/blob/master/text_cnn.py"
   ]
  },
  {
   "cell_type": "code",
   "execution_count": 48,
   "metadata": {
    "collapsed": false
   },
   "outputs": [
    {
     "name": "stdout",
     "output_type": "stream",
     "text": [
      "____________________________________________________________________________________________________\n",
      "Layer (type)                     Output Shape          Param #     Connected to                     \n",
      "====================================================================================================\n",
      "input_3 (InputLayer)             (None, 5000)          0                                            \n",
      "____________________________________________________________________________________________________\n",
      "embedding_3 (Embedding)          (None, 5000, 100)     4460200     input_3[0][0]                    \n",
      "____________________________________________________________________________________________________\n",
      "conv1d_9 (Conv1D)                (None, 4999, 100)     20100       embedding_3[0][0]                \n",
      "____________________________________________________________________________________________________\n",
      "conv1d_10 (Conv1D)               (None, 4998, 100)     30100       embedding_3[0][0]                \n",
      "____________________________________________________________________________________________________\n",
      "conv1d_11 (Conv1D)               (None, 4997, 100)     40100       embedding_3[0][0]                \n",
      "____________________________________________________________________________________________________\n",
      "conv1d_12 (Conv1D)               (None, 4996, 100)     50100       embedding_3[0][0]                \n",
      "____________________________________________________________________________________________________\n",
      "max_pooling1d_9 (MaxPooling1D)   (None, 1, 100)        0           conv1d_9[0][0]                   \n",
      "____________________________________________________________________________________________________\n",
      "max_pooling1d_10 (MaxPooling1D)  (None, 1, 100)        0           conv1d_10[0][0]                  \n",
      "____________________________________________________________________________________________________\n",
      "max_pooling1d_11 (MaxPooling1D)  (None, 1, 100)        0           conv1d_11[0][0]                  \n",
      "____________________________________________________________________________________________________\n",
      "max_pooling1d_12 (MaxPooling1D)  (None, 1, 100)        0           conv1d_12[0][0]                  \n",
      "____________________________________________________________________________________________________\n",
      "flatten_9 (Flatten)              (None, 100)           0           max_pooling1d_9[0][0]            \n",
      "____________________________________________________________________________________________________\n",
      "flatten_10 (Flatten)             (None, 100)           0           max_pooling1d_10[0][0]           \n",
      "____________________________________________________________________________________________________\n",
      "flatten_11 (Flatten)             (None, 100)           0           max_pooling1d_11[0][0]           \n",
      "____________________________________________________________________________________________________\n",
      "flatten_12 (Flatten)             (None, 100)           0           max_pooling1d_12[0][0]           \n",
      "____________________________________________________________________________________________________\n",
      "concatenate_3 (Concatenate)      (None, 400)           0           flatten_9[0][0]                  \n",
      "                                                                   flatten_10[0][0]                 \n",
      "                                                                   flatten_11[0][0]                 \n",
      "                                                                   flatten_12[0][0]                 \n",
      "____________________________________________________________________________________________________\n",
      "dropout_3 (Dropout)              (None, 400)           0           concatenate_3[0][0]              \n",
      "____________________________________________________________________________________________________\n",
      "dense_3 (Dense)                  (None, 19)            7619        dropout_3[0][0]                  \n",
      "====================================================================================================\n",
      "Total params: 4,608,219\n",
      "Trainable params: 4,608,219\n",
      "Non-trainable params: 0\n",
      "____________________________________________________________________________________________________\n",
      "None\n"
     ]
    }
   ],
   "source": [
    "reload(icd9_cnn_model)\n",
    "#### build model\n",
    "model = icd9_cnn_model.build_icd9_cnn_model (input_seq_length=MAX_SEQ_LENGTH, max_vocab = MAX_VOCAB,\n",
    "                             external_embeddings = True, embedding_trainable =True,\n",
    "                             embedding_dim=EMBEDDING_DIM,embedding_matrix=EMBEDDING_MATRIX,\n",
    "                             num_filters = 100, filter_sizes=[2,3,4,5],\n",
    "                             training_dropout_keep_prob=0.9,\n",
    "                             num_classes=N_TOP )"
   ]
  },
  {
   "cell_type": "code",
   "execution_count": 49,
   "metadata": {
    "collapsed": false
   },
   "outputs": [
    {
     "name": "stdout",
     "output_type": "stream",
     "text": [
      "Train on 3688 samples, validate on 1054 samples\n",
      "Epoch 1/5\n",
      "106s - loss: 39.0906 - acc: 0.0895 - val_loss: 13.7156 - val_acc: 0.2505\n",
      "Epoch 2/5\n",
      "105s - loss: 20.0010 - acc: 0.0927 - val_loss: 13.2616 - val_acc: 0.1698\n",
      "Epoch 3/5\n",
      "105s - loss: 15.3538 - acc: 0.1236 - val_loss: 13.1849 - val_acc: 0.1461\n",
      "Epoch 4/5\n",
      "105s - loss: 14.1284 - acc: 0.1451 - val_loss: 13.1301 - val_acc: 0.1546\n",
      "Epoch 5/5\n",
      "105s - loss: 13.6890 - acc: 0.1630 - val_loss: 13.0755 - val_acc: 0.1366\n"
     ]
    },
    {
     "data": {
      "text/plain": [
       "<keras.callbacks.History at 0x7f45004524d0>"
      ]
     },
     "execution_count": 49,
     "metadata": {},
     "output_type": "execute_result"
    }
   ],
   "source": [
    "# Train the model\n",
    "model.fit(X_train, y_train, batch_size=50, epochs=5, validation_data=(X_val, y_val), verbose=2)"
   ]
  },
  {
   "cell_type": "code",
   "execution_count": 50,
   "metadata": {
    "collapsed": false
   },
   "outputs": [],
   "source": [
    "pred_train = model.predict(X_train, batch_size=50)\n",
    "pred_dev = model.predict(X_val, batch_size=50)"
   ]
  },
  {
   "cell_type": "markdown",
   "metadata": {},
   "source": [
    "## Performance Evaluation"
   ]
  },
  {
   "cell_type": "code",
   "execution_count": 52,
   "metadata": {
    "collapsed": false
   },
   "outputs": [
    {
     "name": "stdout",
     "output_type": "stream",
     "text": [
      "F1 scores\n",
      "threshold | training | dev  \n",
      "0.020:      0.529      0.530\n",
      "0.030:      0.567      0.566\n",
      "0.040:      0.598      0.595\n",
      "0.050:      0.620      0.612\n",
      "0.055:      0.628      0.617\n",
      "0.058:      0.631      0.618\n",
      "0.060:      0.633      0.620\n",
      "0.080:      0.616      0.589\n",
      "0.100:      0.481      0.465\n",
      "0.200:      0.024      0.023\n",
      "0.300:      0.017      0.018\n",
      "0.500:      0.005      0.004\n"
     ]
    }
   ],
   "source": [
    "helpers.show_f1_score(y_train, pred_train, y_val, pred_dev)"
   ]
  },
  {
   "cell_type": "markdown",
   "metadata": {},
   "source": [
    "### TO DO: model for Thresholding\n",
    "Papers about Thresholding:    \n",
    "\n",
    "* \"Convolutional Neural Network using a Threshold Predictor for Multi-label Speech Act Classification\"   \n",
    "* \"A Study on Threshold Selection for Multi-label Classification\"   \n",
    "\n",
    "These papers mention they use a model for thresholding, but it is not the main topic:   \n",
    "* \"A Review on Multi-Label Learning Algorithms\"   \n",
    "* \"Large-scale Multi-label Text Classification—Revisiting Neural Networks\"*   \n",
    "* \"A multi-label convolutional neural network for automatic image annotation\""
   ]
  },
  {
   "cell_type": "markdown",
   "metadata": {},
   "source": [
    "### Results with external embeddings = True , no additional training,  top 20\n",
    "```\n",
    "F1 scores\n",
    "threshold | training | dev  \n",
    "0.020:      0.337      0.329\n",
    "0.030:      0.360      0.353\n",
    "0.040:      0.365      0.374\n",
    "0.050:      0.372      0.375\n",
    "0.055:      0.370      0.377\n",
    "0.058:      0.369      0.375\n",
    "0.060:      0.368      0.375\n",
    "0.080:      0.348      0.361\n",
    "0.100:      0.309      0.319\n",
    "0.200:      0.198      0.208\n",
    "0.300:      0.157      0.138\n",
    "0.500:      0.000      0.000\n",
    "```\n",
    "\n",
    "### Results with external embeddings = False, top 20\n",
    "```\n",
    "F1 scores\n",
    "threshold | training | dev  \n",
    "0.020:      0.288      0.300\n",
    "0.030:      0.327      0.322\n",
    "0.040:      0.371      0.363\n",
    "0.050:      0.380      0.391\n",
    "0.055:      0.412      0.383\n",
    "0.058:      0.403      0.394\n",
    "0.060:      0.394      0.389\n",
    "0.080:      0.385      0.390\n",
    "0.100:      0.229      0.225\n",
    "0.200:      0.000      0.000\n",
    "0.300:      0.000      0.000\n",
    "0.500:      0.000      0.000\n",
    "```\n",
    "\n",
    "### Results with external embedding and training them , top 20\n",
    "```\n",
    "F1 scores\n",
    "threshold | training | dev  \n",
    "0.020:      0.334      0.333\n",
    "0.030:      0.362      0.360\n",
    "0.040:      0.366      0.374\n",
    "0.050:      0.373      0.380\n",
    "0.055:      0.374      0.382\n",
    "0.058:      0.376      0.376\n",
    "0.060:      0.376      0.378\n",
    "0.080:      0.387      0.371\n",
    "0.100:      0.366      0.350\n",
    "0.200:      0.179      0.171\n",
    "0.300:      0.020      0.020\n",
    "0.500:      0.000      0.000\n",
    "\n",
    "```\n",
    "\n",
    "### Results with external Embeddings = False, top 10, \n",
    "We can compare this setup with the LSTM published in the paper \"Applying Deep Learning to ICD-9 Multi-label Classification from Medical Records\", they got a F1-score of about 0.4168, we are getting 0.447\n",
    "\n",
    "``` \n",
    "F1 scores\n",
    "threshold | training | dev  \n",
    "0.020:      0.399      0.407\n",
    "0.030:      0.399      0.407\n",
    "0.040:      0.399      0.407\n",
    "0.050:      0.408      0.413\n",
    "0.055:      0.433      0.420\n",
    "0.058:      0.437      0.430\n",
    "0.060:      0.432      0.427\n",
    "0.080:      0.501      0.463\n",
    "0.100:      0.446      0.463\n",
    "0.200:      0.206      0.066\n",
    "0.300:      0.000      0.000\n",
    "0.500:      0.000      0.000\n",
    "```\n",
    "\n"
   ]
  },
  {
   "cell_type": "markdown",
   "metadata": {
    "collapsed": true
   },
   "source": [
    "## Notes:\n",
    "\n",
    "\n",
    "(1) There is a LSTM model by this paper: \"Applying Deep Learning to ICD-9 Multi-label Classification from Medical Records\" which did achieve a 42% F1-score. (https://cs224d.stanford.edu/reports/priyanka.pdf), but it only uses the top 10 icd9 codes. We are getting 46% (just running with 1000 notes so far)\n",
    "\n",
    "\n",
    "(2) The \"A Comparison of Rule-Based and Deep Learning Models for Patient Phenotyping\"  study did get a 70% F1-score, but they don't use the icd9-labels but phenotypes labels they annotated themselved (via a group of medical professionals). (https://arxiv.org/abs/1703.08705). There were ONLY 10 phenotypes.\n",
    "\n",
    "The discharge summaries are labeled with ICD9-codes that are leaves in the ICD9-hierarchy (which has hundreds of ICD9-codes), then maybe these leave nodes are too specific and difficult to predict, one experiment would be to replaced all the ICD9-codes with their parent in the second or third level in the hierarchy and see if predictions work better that way.   \n",
    "\n",
    "(3) our baseline with top 20 codes had a f1-score of 35% (assigning top 4 icd9 codes to all notes, using a CNN with no external embeddings is getting about 40% f1-score.. a little better than the baseline\n",
    "\n",
    "(4) Papers published and best practices report  that external embeddings improve considerable the model's performance.. maybe it is not the case here because of the medical terms..   \n",
    "\n",
    "(5) Fixed Thresholding doesn't work well for multilabel classifications, we can implement a model to choose the appropriate threshold for each record (see notes above)\n",
    "\n",
    "(6) for loss function: binary and categorical cross entropy gave same results"
   ]
  },
  {
   "cell_type": "code",
   "execution_count": null,
   "metadata": {
    "collapsed": true
   },
   "outputs": [],
   "source": []
  }
 ],
 "metadata": {
  "kernelspec": {
   "display_name": "Python 2",
   "language": "python",
   "name": "python2"
  },
  "language_info": {
   "codemirror_mode": {
    "name": "ipython",
    "version": 2
   },
   "file_extension": ".py",
   "mimetype": "text/x-python",
   "name": "python",
   "nbconvert_exporter": "python",
   "pygments_lexer": "ipython2",
   "version": "2.7.13"
  }
 },
 "nbformat": 4,
 "nbformat_minor": 2
}
