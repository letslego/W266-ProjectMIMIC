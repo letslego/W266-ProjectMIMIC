{
 "cells": [
  {
   "cell_type": "code",
   "execution_count": 1,
   "metadata": {
    "collapsed": false
   },
   "outputs": [],
   "source": [
    "import csv\n",
    "import random\n",
    "import numpy as np\n",
    "from sklearn.feature_extraction.text import *\n",
    "import pickle\n",
    "import tensorflow as tf\n",
    "import nn_model"
   ]
  },
  {
   "cell_type": "markdown",
   "metadata": {},
   "source": [
    "## Note: \n",
    "the input file is about 500 MB, \n",
    "The google instance needed 4 CPUs (~ 15 GB memory, using about 8 GB  to hold it)"
   ]
  },
  {
   "cell_type": "markdown",
   "metadata": {},
   "source": [
    "## File built from MIMIC III database\n",
    "\n",
    "The dis_notes_icd9.csv file was created from the MIMIC III database by filtering and joining a couple of tables. For details on the pre-processing phase: https://github.com/letslego/W266-ProjectMIMIC/tree/master/baseline"
   ]
  },
  {
   "cell_type": "code",
   "execution_count": 2,
   "metadata": {
    "collapsed": false
   },
   "outputs": [],
   "source": [
    "with open('psql_files/dis_notes_icd9.csv', 'rb') as csvfile:\n",
    "    discharge_notes_reader = csv.reader(csvfile)\n",
    "    discharge_notes_list = list(discharge_notes_reader)\n",
    "    \n"
   ]
  },
  {
   "cell_type": "code",
   "execution_count": 3,
   "metadata": {
    "collapsed": false
   },
   "outputs": [],
   "source": [
    "# the full file needs about 8GB of memory\n",
    "#discharge_notes= np.asarray(discharge_notes_list)\n",
    "discharge_notes= np.asarray(discharge_notes_list[0:5000])"
   ]
  },
  {
   "cell_type": "code",
   "execution_count": 4,
   "metadata": {
    "collapsed": false
   },
   "outputs": [
    {
     "name": "stdout",
     "output_type": "stream",
     "text": [
      "Number of discharge clinical notes:  5000\n"
     ]
    }
   ],
   "source": [
    "print 'Number of discharge clinical notes: ', len(discharge_notes)"
   ]
  },
  {
   "cell_type": "markdown",
   "metadata": {},
   "source": [
    "Number of discharge clinical notes:  45837\n"
   ]
  },
  {
   "cell_type": "code",
   "execution_count": 53,
   "metadata": {
    "collapsed": false
   },
   "outputs": [
    {
     "name": "stdout",
     "output_type": "stream",
     "text": [
      "Sample of a discharge note:\n",
      "----------------------------------------------------------------------------------------------------\n",
      "Admission id:  100003\n",
      "Subject id: 54610\n",
      "Discharge date: 2150-04-21 00:00:00\n",
      "ICD9 codes assigned to this discharge summary:  4019 2851\n",
      "----------------------------------------------------------------------------------------------------\n",
      "Discharge Summary Note: \n",
      "----------------------------------------------------------------------------------------------------\n",
      "Admission Date:  [**2150-4-17**]              Discharge Date:   [**2150-4-21**] Date of Birth:  [**2090-5-19**]             Sex:   M Service: MEDICINE Allergies: Patient recorded as having No Known Allergies to Drugs Attending:[**First Name3 (LF) 12174**] Chief Complaint: coffee ground emesis Major Surgical or Invasive Procedure: EGD Right IJ CVL History of Present Illness: Mr. [**Known lastname 52368**] is a 59M w HepC cirrhosis c/b grade I/II esophageal varices and portal gastropathy (last EGD [**3-/2150**]), who p/w coffee-ground emesis and melena x2 days. . Pt was in his USOH until about 2-3 days PTA, when he began experiencing intermittent nausea. He had 2-3 episodes of coffee-ground emesis and 1 episode of tarry black stool in the morning of admission. He reports some lightheadedness which is not new, but denies frank hematemesis, BRBPR, abdominal pain, fever, chills, significant increases in his abdominal girth. He denies drinking or medication non-compliance. He also reports taking naproxen for back pain 2-3 times a day in the recent past. . In the ED, his vitals were 97.4, 93/41, 69, 18, 100% on RA. He was given 4L NS IV, protonix 40mg IV, started on an octreotide drip. He had guaiac positive brown stool on rectal exam. He was seen by the liver fellow in the ED who felt this was unlikely a variceal bleed and recommended work up for infection. An NG tube was attempted, however, patient was unable to tolerate it in the ED. Abdominal ultrasound was done which showed a patent portal vein, scant ascites but not enough to tap. BP dropped to 80/34, pt transferred to MICU for hemodynamic monitoring. . In the MICU, pt was given 3 pRBC, Hct bumped from 21.3 to 28. Started on norepinephrine gtt for a few hours, but BP stabilized. On transfer to the floor, remains hemodynamically stable. Feels good, denies tarry or bloody BMs, emesis. Past Medical History: HCV Cirrhosis (tx with interferon x2 with no response) Portal Gastropathy Grade II Esophageal varices HTN Social History: He lives alone.  He is drinking alcohol, usually one session per week. He has four to five drinks per session. He was told to completely abstain from alcohol, effective as of today. He smokes about 20 cigarettes per day. Family History: NC Physical Exam: ON ADMISSION: VS: T95.9 HR 71 BP 83/36 RR 11  96% 2L NC Gen: somnolent, oriented x 3, unable to assess for asterixis given somnolence HEENT: PERRLA, EOMI Neck: supple, JVP at angle of jaw (fluid bolus running wide open) CV: RRR s1 s2 no appreciable murmur Lungs: CTAB Abd: distended, non tender, no rebound or guarding, bowel sounds positive Ext: 1+ pitting edema bilaterally Skin: warm, diaphoretic, no rash or lesions noted Pertinent Results: LABS ON ADMISSION: [**2150-4-17**] 01:30PM BLOOD WBC-17.9*# RBC-2.78* Hgb-8.5* Hct-26.0* MCV-94 MCH-30.6 MCHC-32.7 RDW-20.6* Plt Ct-186 [**2150-4-17**] 01:30PM BLOOD Neuts-61.2 Lymphs-28.8 Monos-6.9 Eos-2.2 Baso-0.9 [**2150-4-17**] 02:13PM BLOOD PT-17.7* PTT-34.5 INR(PT)-1.6* [**2150-4-17**] 01:30PM BLOOD Glucose-92 UreaN-51* Creat-1.3* Na-131* K-5.7* Cl-104 HCO3-21* AnGap-12 [**2150-4-17**] 01:30PM BLOOD ALT-126* AST-260* LD(LDH)-426* AlkPhos-157* TotBili-3.3* [**2150-4-17**] 06:41PM BLOOD Calcium-7.5* Phos-3.8 Mg-1.9 . LABS ON DISCHARGE: [**2150-4-21**] 05:00AM BLOOD WBC-10.7 RBC-2.94* Hgb-9.6* Hct-27.0* MCV-92 MCH-32.6* MCHC-35.6* RDW-21.2* Plt Ct-110* [**2150-4-21**] 05:00AM BLOOD PT-17.4* PTT-35.6* INR(PT)-1.6* [**2150-4-21**] 05:00AM BLOOD Glucose-84 UreaN-15 Creat-1.0 Na-132* K-4.4 Cl-99 HCO3-25 AnGap-12 [**2150-4-21**] 05:00AM BLOOD ALT-113* AST-210* AlkPhos-111 TotBili-3.6* [**2150-4-21**] 05:00AM BLOOD Calcium-8.1* Phos-3.8 Mg-1.7 . OTHER LABS: [**2150-4-18**] 06:25AM BLOOD CK-MB-9 cTropnT-<0.01 [**2150-4-17**] 06:41PM BLOOD CK-MB-11* MB Indx-4.9 cTropnT-<0.01 [**2150-4-17**] 01:30PM BLOOD Lipase-85* . URINE: [**2150-4-17**] 11:01PM URINE Color-Yellow Appear-Clear Sp [**Last Name (un) **]-1.016 [**2150-4-17**] 11:01PM URINE Blood-LG Nitrite-NEG Protein-NEG Glucose-NEG Ketone-NEG Bilirub-NEG Urobiln-2* pH-5.5 Leuks-NEG [**2150-4-17**] 11:01PM URINE RBC-63* WBC-7* Bacteri-NONE Yeast-NONE Epi-<1 . MICROBIOLOGY: Blood, urine cultures - negative H.pylori serum antibody - negative . CARDIOLOGY: . TTE ([**4-18**]): Conclusions The left atrium is dilated. Left ventricular wall thicknesses and cavity size are normal. Left ventricular systolic function is hyperdynamic (EF>75%). Right ventricular chamber size and free wall motion are normal. The aortic valve leaflets (3) are mildly thickened but aortic stenosis is not present. No aortic regurgitation is seen. The mitral valve leaflets are mildly thickened. Mild (1+) mitral regurgitation is seen. There is moderate pulmonary artery systolic hypertension. There is no pericardial effusion. IMPRESSION: Hyperdynamic LV systolic function. Mild mitral regurgitation. Moderate pulmonary artery systolic hypertension. . EKG ([**4-17**]): Sinus rhythm Prolonged QT interval is nonspecific but clinical correlation is suggested No previous tracing available for comparison   Intervals Axes Rate PR QRS QT/QTc P QRS T 70 160 96 462/479 70 55 52 . GI: EGD ([**4-20**]): 1. Varices at the lower third of the esophagus and middle third of the esophagus. 2. Erythema and erosion in the antrum and pylorus compatible with non-steroidal induced gastritis. 3. Bleeding from a pyloric ulcer in the pylorus compatible with non-steroidal induced ulcer (injection, thermal therapy). 4. Normal mucosa in the duodenum. 5. Otherwise normal EGD to third part of the duodenum . RADIOLOGY: . CXR ([**4-17**]): The prominent bulge to the right heart border could be due to pericardial effusion, _____ cyst, and enlarged right atrium. There is no mediastinal vascular engorgement to suggest cardiac tamponade. Pulmonary vasculature is normal. The lungs are clear and there is no pleural effusion. Overall heart size is normal. Right jugular line ends at the junction of the brachiocephalic veins. No pneumothorax or pleural effusion. . ABD U/S ([**4-17**]): IMPRESSION: 1. No son[**Name (NI) 493**] evidence for portal venous thrombosis. Portal vein flow is hepatopetal and wall-to-wall. 2. No significant ascites. A sliver of perihepatic ascites. 3. Persistent coarsened echotexture of the liver consistent with known history of cirrhosis. 4. Splenomegaly Brief Hospital Course: Mr [**Known lastname 52368**] is a 59M w HCV cirrhosis w grade II esophageal varices admitted w coffee-ground emesis and melena concerning for UGIB, s/p MICU stay for hypotension. . # UGIB: Pt did not have any more bleeds while in hospital. EGD revealed erythema and erosion in the antrum and pylorus compatible with non-steroidal induced gastritis. Pt did remember taking increased doses of naproxen for backache. Started on pantoprazole 40mg PO BID for one week with repeat endoscopy scheduled in one week ([**4-30**]). Recommended to take tylenol (max daily dose of 2gm) for pain instead of NSAIDs. Blood pressure meds were held at first, given MICU admission for hypotension, but were restarted on discharge. . # HCV Cirrhosis: appears to be progressing to liver failure, with elevated INR at 1.6, decreased albumin at 2.6, tbili slightly elevated at 3.6, and chronic LE edema. Pt was continued on prophylactic medications. . # FULL CODE Medications on Admission: FUROSEMIDE 20mg daily LISINOPRIL 10 mg daily SPIRONOLACTONE 100 mg daily Discharge Medications: 1. Phenol 1.4 % Aerosol, Spray Sig: One (1) Spray Mucous membrane PRN (as needed). 2. Lactulose 10 gram/15 mL Syrup Sig: Thirty (30) ML PO TID (3 times a day). 3. Thiamine HCl 100 mg Tablet Sig: One (1) Tablet PO DAILY (Daily). 4. Folic Acid 1 mg Tablet Sig: One (1) Tablet PO DAILY (Daily). 5. Spironolactone 100 mg Tablet Sig: One (1) Tablet PO DAILY (Daily). 6. Furosemide 40 mg Tablet Sig: One (1) Tablet PO once a day. 7. Acetaminophen 325 mg Tablet Sig: 1-2 Tablets PO every [**6-15**] hours as needed: no more than 6 tablets of regular strength tylenol per day. 8. Terbinafine 1 % Cream Sig: One (1) Appl Topical [**Hospital1 **] (2 times a day) for 1 weeks. Disp:*qs * Refills:*0* 9. Nadolol 20 mg Tablet Sig: One (1) Tablet PO DAILY (Daily). 10. Pantoprazole 40 mg Tablet, Delayed Release (E.C.) Sig: One (1) Tablet, Delayed Release (E.C.) PO twice a day for 1 weeks: then take 1 tablet daily. Disp:*60 Tablet, Delayed Release (E.C.)(s)* Refills:*2* 11. Camphor-Menthol 0.5-0.5 % Lotion Sig: One (1) Appl Topical QID (4 times a day) as needed for itching. Disp:*qs * Refills:*0* 12. Lisinopril 10 mg Tablet Sig: One (1) Tablet PO once a day. Discharge Disposition: Home Discharge Diagnosis: Peptic ulcer GI bleed Discharge Condition: asymptomatic Discharge Instructions: You were admitted for bleeding from an ulcer in your stomach. This ulcer is at least partially caused by naproxen.  You should stop taking naproxen and take only tylenol for pain.  You should not take any NSAIDS for pain including ibuprofen, naproxen, aleve, motrin, aspirin, toradol, or advil. It is okay to take tylenol but do not take more than 4 extra strength tylenol a day (2gram daily maximum). . The following medication changes were made: Do not take naproxen Take pantoprazole 40 mg twice daily for one week.  Then take 40 mg daily. . You are scheduled to get a repeat endoscopy next week.  Prior to the procedure do not have anything to drink or eat after midnight. . Please return to the ER if you have any chest pain, lightheadeness, fever, chills, bloody or black stools or any other concerning symptoms. Followup Instructions: Provider: [**Name10 (NameIs) **] [**Apartment Address(1) **] (ST-3) GI ROOMS Date/Time:[**2150-4-30**] 1:30 Provider: [**First Name11 (Name Pattern1) **] [**Last Name (NamePattern1) 7290**], MD Phone:[**Telephone/Fax (1) 463**] Date/Time:[**2150-4-30**] 1:30 Provider: [**Name10 (NameIs) **] [**Last Name (NamePattern4) 2424**], MD Phone:[**Telephone/Fax (1) 2422**] Date/Time:[**2150-5-7**] 11:00 Completed by:[**2150-4-24**]\n"
     ]
    }
   ],
   "source": [
    "print 'Sample of a discharge note:'\n",
    "print \"-\" *100\n",
    "admission_id, subject_id, discharge_date, note_text, icd9_codes = discharge_notes[1]\n",
    "print \"Admission id: \", admission_id\n",
    "print \"Subject id:\", subject_id\n",
    "print \"Discharge date:\", discharge_date\n",
    "print \"ICD9 codes assigned to this discharge summary: \", icd9_codes\n",
    "print \"-\" *100\n",
    "print \"Discharge Summary Note: \"\n",
    "print \"-\" *100\n",
    "print note_text\n"
   ]
  },
  {
   "cell_type": "markdown",
   "metadata": {
    "collapsed": true
   },
   "source": [
    "## Creating training, dev and test dataset"
   ]
  },
  {
   "cell_type": "code",
   "execution_count": 5,
   "metadata": {
    "collapsed": false
   },
   "outputs": [],
   "source": [
    "# spliting 70% for training, 15% for development and 15% for testing \n",
    "random.shuffle(discharge_notes)\n",
    "train_frac = 0.7\n",
    "dev_frac = 0.15\n",
    "train_split_idx = int(train_frac * len(discharge_notes))\n",
    "dev_split_idx = int ((train_frac + dev_frac)* len(discharge_notes))\n",
    "train_discharge_notes = discharge_notes[:train_split_idx]\n",
    "dev_discharge_notes = discharge_notes[train_split_idx:dev_split_idx]\n",
    "test_discharge_notes = discharge_notes[dev_split_idx:]"
   ]
  },
  {
   "cell_type": "code",
   "execution_count": 56,
   "metadata": {
    "collapsed": false
   },
   "outputs": [
    {
     "name": "stdout",
     "output_type": "stream",
     "text": [
      "Training set samples: 3500\n",
      "Dev set samples: 750\n",
      "Test set samples: 750\n"
     ]
    }
   ],
   "source": [
    "print 'Training set samples:', len (train_discharge_notes)\n",
    "print 'Dev set samples:', len (dev_discharge_notes)\n",
    "print 'Test set samples:', len (test_discharge_notes)"
   ]
  },
  {
   "cell_type": "code",
   "execution_count": 6,
   "metadata": {
    "collapsed": false
   },
   "outputs": [],
   "source": [
    "# split file into data and its labels\n",
    "def separate_labels(data):\n",
    "    labels = data[:,4]\n",
    "    notes = data[:,3]\n",
    "    return (notes, labels)\n",
    "train_notes, train_labels = separate_labels(train_discharge_notes)\n",
    "dev_notes, dev_labels = separate_labels(dev_discharge_notes)\n",
    "test_notes, test_labels = separate_labels(test_discharge_notes)"
   ]
  },
  {
   "cell_type": "markdown",
   "metadata": {},
   "source": [
    "## TF-IDF Representation of discharge clinical notes\n",
    "\n",
    "Previous research represents this documents/notes as bag-of-words vectors [1].    \n",
    "In particular, it takes the 10,000 tokens with the largest tf-idf scores from the training.\n",
    " \n",
    "[1] Diagnosis code assignment: models and evaluation metrics. Journal of the American Medical Informatics"
   ]
  },
  {
   "cell_type": "code",
   "execution_count": 8,
   "metadata": {
    "collapsed": true
   },
   "outputs": [],
   "source": [
    "max_number_features = 10000"
   ]
  },
  {
   "cell_type": "code",
   "execution_count": 9,
   "metadata": {
    "collapsed": false
   },
   "outputs": [],
   "source": [
    "# TfidfVectorizer\n",
    "# Convert all characters to lowercase before tokenizing (by default)\n",
    "# tokenization (by default)\n",
    "# max_features: consider the top max_features ordered by term frequency across the corpus\n",
    "vectorizer = TfidfVectorizer(max_features=max_number_features,stop_words='english',max_df=0.9 )  \n",
    "train_notes_vector = vectorizer.fit_transform(train_notes)\n",
    "dev_notes_vector = vectorizer.transform(dev_notes)"
   ]
  },
  {
   "cell_type": "markdown",
   "metadata": {},
   "source": [
    "## transforming list of ICD codes to vector"
   ]
  },
  {
   "cell_type": "code",
   "execution_count": 21,
   "metadata": {
    "collapsed": true
   },
   "outputs": [],
   "source": [
    "#transforming list of icd_codes into a vector\n",
    "        \n",
    "def get_unique_icd9_codes(train_labels, dev_labels, test_labels):\n",
    "    # get list of unique icd9_codes in the whole input dataset \n",
    "    icd9_set = set()\n",
    "    icd9_codes = np.append(np.append(train_labels, dev_labels, axis=0),test_labels, axis=0)\n",
    "    for icd9_code_row in icd9_codes:\n",
    "        for icd9_code in icd9_code_row.split():\n",
    "            icd9_set.add(icd9_code)  \n",
    "    return icd9_set\n",
    "\n",
    "\n",
    "def get_icd9_array(icd9_codes):\n",
    "    icd9_list = icd9_codes.split()\n",
    "    icd9_index_array = [0]*len(unique_icd9_codes)\n",
    "    for icd9_code in icd9_list:\n",
    "        icd9_index_array[icd9_to_id [icd9_code]] = 1\n",
    "    return icd9_index_array\n",
    "\n",
    "\n",
    "unique_icd9_codes = get_unique_icd9_codes(train_labels, dev_labels, test_labels)\n",
    "index_to_icd9 = dict(enumerate(unique_icd9_codes))\n",
    "icd9_to_id = {v:k for k,v in index_to_icd9.iteritems()}\n",
    "    "
   ]
  },
  {
   "cell_type": "code",
   "execution_count": 57,
   "metadata": {
    "collapsed": true
   },
   "outputs": [],
   "source": [
    "train_labels_vector= list(map(get_icd9_array, train_labels))\n",
    "dev_labels_vector = list(map(get_icd9_array, dev_labels))\n",
    "test_labels_vector = list(map(get_icd9_array, test_labels))"
   ]
  },
  {
   "cell_type": "markdown",
   "metadata": {},
   "source": [
    "## Neural Network for Multilabel classification"
   ]
  },
  {
   "cell_type": "code",
   "execution_count": 39,
   "metadata": {
    "collapsed": true
   },
   "outputs": [],
   "source": [
    "def run_epoch(lm, session, X, y, batch_size):\n",
    "    for batch in xrange(0, X.shape[0], batch_size):\n",
    "        X_batch = X[batch : batch + batch_size]\n",
    "        y_batch = y[batch : batch + batch_size]\n",
    "        feed_dict = {lm.x:X_batch,lm.target_y:y_batch}\n",
    "        loss, train_op_value =  session.run( [lm.loss,lm.train],feed_dict=feed_dict ) \n",
    "    "
   ]
  },
  {
   "cell_type": "code",
   "execution_count": 42,
   "metadata": {
    "collapsed": true
   },
   "outputs": [],
   "source": [
    "def predict_icd9_codes(lm, session, x_data, y_dim):\n",
    "    total_y_hat = []\n",
    "    for batch in xrange(0, x_data.shape[0], batch_size):\n",
    "        X_batch = x_data[batch : batch + batch_size]\n",
    "        y_hat_out = session.run(lm.y_hat, feed_dict={lm.x:X_batch})\n",
    "        total_y_hat.extend(y_hat_out)\n",
    "    return  total_y_hat\n",
    "    "
   ]
  },
  {
   "cell_type": "code",
   "execution_count": 43,
   "metadata": {
    "collapsed": false
   },
   "outputs": [],
   "source": [
    "#build tensorflow graphs\n",
    "reload(nn_model)\n",
    "\n",
    "# Model parameters\n",
    "Hidden_dims = [10, 10]\n",
    "learning_rate = 0.001\n",
    "y_dim = len(unique_icd9_codes)\n",
    "model_params = dict(Hidden_dims=Hidden_dims, \n",
    "                    learning_rate = learning_rate, vocabulary_size =max_number_features , y_dim=y_dim)\n",
    "\n",
    "lm = nn_model.NNLM(**model_params)\n",
    "lm.BuildCoreGraph()\n",
    "lm.BuildTrainGraph()\n",
    "\n",
    "    "
   ]
  },
  {
   "cell_type": "code",
   "execution_count": 58,
   "metadata": {
    "collapsed": false
   },
   "outputs": [],
   "source": [
    "X = train_notes_vector.todense()\n",
    "y = train_labels_vector\n",
    "batch_size = 50\n",
    "num_epochs = 100\n",
    "\n",
    "with lm.graph.as_default():\n",
    "    initializer = tf.global_variables_initializer()\n",
    "\n",
    "with tf.Session(graph=lm.graph) as session:\n",
    "    session.run(initializer)\n",
    "    #training\n",
    "    for epoch_num in xrange(num_epochs):\n",
    "        run_epoch(lm, session, X, y, batch_size)\n",
    "    #prediction using training and dev data \n",
    "    train_y_hat = predict_icd9_codes(lm, session, train_notes_vector.todense(), y_dim)\n",
    "    dev_y_hat = predict_icd9_codes(lm, session, dev_notes_vector.todense(), y_dim)\n"
   ]
  },
  {
   "cell_type": "markdown",
   "metadata": {},
   "source": [
    "## Performance Evaluation"
   ]
  },
  {
   "cell_type": "code",
   "execution_count": null,
   "metadata": {
    "collapsed": true
   },
   "outputs": [],
   "source": [
    "# TODO"
   ]
  },
  {
   "cell_type": "code",
   "execution_count": 75,
   "metadata": {
    "collapsed": true
   },
   "outputs": [],
   "source": [
    "def apply_threshold (y_hat):\n",
    "    y_label = [1 if y > 0.49 else 0 for y in y_hat ]\n",
    "    return y_label"
   ]
  },
  {
   "cell_type": "code",
   "execution_count": 77,
   "metadata": {
    "collapsed": false
   },
   "outputs": [
    {
     "data": {
      "text/plain": [
       "[0, 0, 0, 0, 0, 0, 0, 0, 0, 1, 0, 0, 0, 0, 0, 0, 0, 0, 0, 0]"
      ]
     },
     "execution_count": 77,
     "metadata": {},
     "output_type": "execute_result"
    }
   ],
   "source": [
    "apply_threshold(train_y_hat[0])"
   ]
  },
  {
   "cell_type": "code",
   "execution_count": 61,
   "metadata": {
    "collapsed": false
   },
   "outputs": [
    {
     "data": {
      "text/plain": [
       "[0, 0, 0, 0, 0, 0, 0, 0, 0, 0, 0, 0, 0, 0, 0, 0, 0, 0, 1, 0]"
      ]
     },
     "execution_count": 61,
     "metadata": {},
     "output_type": "execute_result"
    }
   ],
   "source": [
    "train_labels_vector[0]"
   ]
  },
  {
   "cell_type": "markdown",
   "metadata": {},
   "source": [
    "### dev"
   ]
  },
  {
   "cell_type": "code",
   "execution_count": 78,
   "metadata": {
    "collapsed": false
   },
   "outputs": [
    {
     "data": {
      "text/plain": [
       "[0, 0, 0, 0, 0, 0, 0, 0, 0, 0, 0, 0, 0, 0, 0, 0, 1, 0, 0, 0]"
      ]
     },
     "execution_count": 78,
     "metadata": {},
     "output_type": "execute_result"
    }
   ],
   "source": [
    "apply_threshold(dev_y_hat[0])"
   ]
  },
  {
   "cell_type": "code",
   "execution_count": 63,
   "metadata": {
    "collapsed": false
   },
   "outputs": [
    {
     "data": {
      "text/plain": [
       "[0, 0, 1, 0, 0, 1, 0, 0, 0, 0, 0, 1, 0, 0, 0, 0, 0, 0, 0, 0]"
      ]
     },
     "execution_count": 63,
     "metadata": {},
     "output_type": "execute_result"
    }
   ],
   "source": [
    "dev_labels_vector[0]"
   ]
  },
  {
   "cell_type": "code",
   "execution_count": null,
   "metadata": {
    "collapsed": true
   },
   "outputs": [],
   "source": []
  }
 ],
 "metadata": {
  "kernelspec": {
   "display_name": "Python 2",
   "language": "python",
   "name": "python2"
  },
  "language_info": {
   "codemirror_mode": {
    "name": "ipython",
    "version": 2
   },
   "file_extension": ".py",
   "mimetype": "text/x-python",
   "name": "python",
   "nbconvert_exporter": "python",
   "pygments_lexer": "ipython2",
   "version": "2.7.13"
  }
 },
 "nbformat": 4,
 "nbformat_minor": 2
}
