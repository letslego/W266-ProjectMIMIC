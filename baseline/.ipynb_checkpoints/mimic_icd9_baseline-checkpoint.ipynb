{
 "cells": [
  {
   "cell_type": "code",
   "execution_count": 1,
   "metadata": {
    "collapsed": true
   },
   "outputs": [],
   "source": [
    "import csv\n",
    "import random\n",
    "import numpy as np"
   ]
  },
  {
   "cell_type": "markdown",
   "metadata": {},
   "source": [
    "## File built from MIMIC III database\n",
    "\n",
    "The dis_notes_icd9.csv file was created from the MIMIC III database by filtering and joining a couple of tables. For details on the pre-processing phase: https://github.com/letslego/W266-ProjectMIMIC/tree/master/baseline"
   ]
  },
  {
   "cell_type": "code",
   "execution_count": 4,
   "metadata": {
    "collapsed": false
   },
   "outputs": [
    {
     "ename": "MemoryError",
     "evalue": "",
     "output_type": "error",
     "traceback": [
      "\u001b[0;31m---------------------------------------------------------------------------\u001b[0m",
      "\u001b[0;31mMemoryError\u001b[0m                               Traceback (most recent call last)",
      "\u001b[0;32m<ipython-input-4-0bccde2638e6>\u001b[0m in \u001b[0;36m<module>\u001b[0;34m()\u001b[0m\n\u001b[1;32m      1\u001b[0m \u001b[0;32mwith\u001b[0m \u001b[0mopen\u001b[0m\u001b[0;34m(\u001b[0m\u001b[0;34m'psql_files/dis_notes_icd9.csv'\u001b[0m\u001b[0;34m,\u001b[0m \u001b[0;34m'rb'\u001b[0m\u001b[0;34m)\u001b[0m \u001b[0;32mas\u001b[0m \u001b[0mcsvfile\u001b[0m\u001b[0;34m:\u001b[0m\u001b[0;34m\u001b[0m\u001b[0m\n\u001b[1;32m      2\u001b[0m     \u001b[0mdischarge_notes_reader\u001b[0m \u001b[0;34m=\u001b[0m \u001b[0mcsv\u001b[0m\u001b[0;34m.\u001b[0m\u001b[0mreader\u001b[0m\u001b[0;34m(\u001b[0m\u001b[0mcsvfile\u001b[0m\u001b[0;34m)\u001b[0m\u001b[0;34m\u001b[0m\u001b[0m\n\u001b[0;32m----> 3\u001b[0;31m     \u001b[0mdischarge_notes\u001b[0m \u001b[0;34m=\u001b[0m \u001b[0mnp\u001b[0m\u001b[0;34m.\u001b[0m\u001b[0marray\u001b[0m\u001b[0;34m(\u001b[0m\u001b[0mlist\u001b[0m\u001b[0;34m(\u001b[0m\u001b[0mdischarge_notes_reader\u001b[0m\u001b[0;34m)\u001b[0m\u001b[0;34m,\u001b[0m\u001b[0mcopy\u001b[0m\u001b[0;34m=\u001b[0m\u001b[0mFalse\u001b[0m\u001b[0;34m)\u001b[0m\u001b[0;34m\u001b[0m\u001b[0m\n\u001b[0m\u001b[1;32m      4\u001b[0m \u001b[0;34m\u001b[0m\u001b[0m\n",
      "\u001b[0;31mMemoryError\u001b[0m: "
     ]
    }
   ],
   "source": [
    "with open('psql_files/dis_notes_icd9.csv', 'rb') as csvfile:\n",
    "    discharge_notes_reader = csv.reader(csvfile)\n",
    "    discharge_notes = np.array(list(discharge_notes_reader),copy=False)\n",
    "    \n"
   ]
  },
  {
   "cell_type": "code",
   "execution_count": null,
   "metadata": {
    "collapsed": false
   },
   "outputs": [],
   "source": [
    "print 'Number of discharge clinical notes: ', len(discharge_notes)"
   ]
  },
  {
   "cell_type": "code",
   "execution_count": null,
   "metadata": {
    "collapsed": false
   },
   "outputs": [],
   "source": [
    "print 'Sample of a discharge note:'\n",
    "print \"-\" *100\n",
    "admission_id, subject_id, discharge_date, note_text, icd9_codes = discharge_notes[1]\n",
    "print \"Admission id: \", admission_id\n",
    "print \"Subject id:\", subject_id\n",
    "print \"Discharge date:\", discharge_date\n",
    "print \"ICD9 codes assigned to this discharge summary: \", icd9_codes\n",
    "print \"-\" *100\n",
    "print \"Discharge Summary Note: \"\n",
    "print \"-\" *100\n",
    "print note_text\n"
   ]
  },
  {
   "cell_type": "markdown",
   "metadata": {
    "collapsed": true
   },
   "source": [
    "## Creating training, dev and test dataset"
   ]
  },
  {
   "cell_type": "code",
   "execution_count": null,
   "metadata": {
    "collapsed": false
   },
   "outputs": [],
   "source": [
    "# spliting 70% for training, 15% for development and 15% for testing \n",
    "random.shuffle(discharge_notes)\n",
    "train_frac = 0.7\n",
    "dev_frac = 0.15\n",
    "train_split_idx = int(train_frac * len(discharge_notes))\n",
    "dev_split_idx = int ((train_frac + dev_frac)* len(discharge_notes))\n",
    "train_discharge_notes = discharge_notes[:train_split_idx]\n",
    "dev_discharge_notes = discharge_notes[train_split_idx:dev_split_idx]\n",
    "test_discharge_notes = discharge_notes[dev_split_idx:]"
   ]
  },
  {
   "cell_type": "code",
   "execution_count": null,
   "metadata": {
    "collapsed": false
   },
   "outputs": [],
   "source": [
    "print 'Training set samples:', len (train_discharge_notes)\n",
    "print 'Dev set samples:', len (dev_discharge_notes)\n",
    "print 'Test set samples:', len (test_discharge_notes)"
   ]
  },
  {
   "cell_type": "code",
   "execution_count": null,
   "metadata": {
    "collapsed": false
   },
   "outputs": [],
   "source": [
    "def separate_labels(data):\n",
    "    labels = data[:,4]\n",
    "    notes = data[:,3]\n",
    "    return (notes, labels)\n",
    "train_notes, train_labels = separate_labels(train_discharge_notes)\n",
    "dev_notes, dev_labels = separate_labels(dev_discharge_notes)\n",
    "test_notes, test_labels = separate_labels(test_discharge_notes)"
   ]
  },
  {
   "cell_type": "code",
   "execution_count": null,
   "metadata": {
    "collapsed": true
   },
   "outputs": [],
   "source": []
  }
 ],
 "metadata": {
  "kernelspec": {
   "display_name": "Python 2",
   "language": "python",
   "name": "python2"
  },
  "language_info": {
   "codemirror_mode": {
    "name": "ipython",
    "version": 2
   },
   "file_extension": ".py",
   "mimetype": "text/x-python",
   "name": "python",
   "nbconvert_exporter": "python",
   "pygments_lexer": "ipython2",
   "version": "2.7.13"
  }
 },
 "nbformat": 4,
 "nbformat_minor": 2
}
