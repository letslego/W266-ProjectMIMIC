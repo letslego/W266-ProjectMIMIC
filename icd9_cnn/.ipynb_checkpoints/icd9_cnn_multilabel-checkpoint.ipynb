{
 "cells": [
  {
   "cell_type": "code",
   "execution_count": 112,
   "metadata": {
    "collapsed": true
   },
   "outputs": [],
   "source": [
    "import csv\n",
    "import random\n",
    "import numpy as np\n",
    "from collections import Counter, defaultdict\n",
    "from sklearn.feature_extraction.text import *\n",
    "import re\n",
    "from tensorflow.contrib import learn\n",
    "import sys, os\n",
    "import tensorflow as tf\n",
    "import cnn_model\n",
    "\n",
    "from sklearn.metrics import label_ranking_loss\n",
    "from sklearn.metrics import f1_score\n",
    "import shutil"
   ]
  },
  {
   "cell_type": "markdown",
   "metadata": {},
   "source": [
    "General Sources:\n",
    "http://ruder.io/deep-learning-nlp-best-practices/index.html#classification"
   ]
  },
  {
   "cell_type": "markdown",
   "metadata": {},
   "source": [
    "### Reading File"
   ]
  },
  {
   "cell_type": "code",
   "execution_count": 4,
   "metadata": {
    "collapsed": false
   },
   "outputs": [
    {
     "name": "stdout",
     "output_type": "stream",
     "text": [
      "Number of records in the dataset:  45837\n"
     ]
    }
   ],
   "source": [
    "#with open('../../../psql_files/disch_notes_all_icd9.csv', 'rb') as csvfile:\n",
    "csv.field_size_limit(sys.maxsize)\n",
    "with open('../baseline/psql_files/dis_notes_icd9.csv', 'rb') as csvfile:\n",
    "    discharge_notes_reader = csv.reader(csvfile)\n",
    "    discharge_notes_list = list(discharge_notes_reader)    \n",
    "random.shuffle(discharge_notes_list)\n",
    "\n",
    "print \"Number of records in the dataset: \", len (discharge_notes_list)"
   ]
  },
  {
   "cell_type": "markdown",
   "metadata": {},
   "source": [
    "we will take only 10,000 records to compare with NN baseline"
   ]
  },
  {
   "cell_type": "code",
   "execution_count": 34,
   "metadata": {
    "collapsed": true
   },
   "outputs": [],
   "source": [
    "#starting for 1,000 just for programming\n",
    "number_records = 1000"
   ]
  },
  {
   "cell_type": "code",
   "execution_count": 35,
   "metadata": {
    "collapsed": false
   },
   "outputs": [
    {
     "name": "stdout",
     "output_type": "stream",
     "text": [
      "Number of discharge clinical notes:  1000\n"
     ]
    }
   ],
   "source": [
    "discharge_notes_icd9 = np.asarray(discharge_notes_list[0:number_records])\n",
    "print 'Number of discharge clinical notes: ', len(discharge_notes_icd9)\n",
    "discharge_notes= discharge_notes_icd9[:,3]\n",
    "discharge_labels = discharge_notes_icd9[:,4]"
   ]
  },
  {
   "cell_type": "markdown",
   "metadata": {},
   "source": [
    "## Pre Processing"
   ]
  },
  {
   "cell_type": "markdown",
   "metadata": {},
   "source": [
    "## Stats about Notes  (TODO:)\n",
    "* vocabulary of size\n",
    "* find out notes that are too large, outliers to take out (otherwise the embeddings will pad a lot of zeroes to the other note-vectors("
   ]
  },
  {
   "cell_type": "markdown",
   "metadata": {},
   "source": [
    "## Converting icd9 labels to vectors"
   ]
  },
  {
   "cell_type": "code",
   "execution_count": 36,
   "metadata": {
    "collapsed": false
   },
   "outputs": [
    {
     "name": "stdout",
     "output_type": "stream",
     "text": [
      "Counter({'4019': 444, '42731': 305, '41401': 301, '4280': 285, '5849': 205, '2724': 195, '25000': 190, '51881': 171, '5990': 169, '53081': 142, '2720': 135, '2859': 116, '486': 116, '2449': 109, '496': 94, '2851': 92, '2762': 92, '5070': 84, '99592': 80, '0389': 68})\n"
     ]
    }
   ],
   "source": [
    "#counts by icd9_codes\n",
    "icd9_codes = Counter()\n",
    "for label in discharge_labels:\n",
    "    for icd9_code in label.split():\n",
    "        icd9_codes[icd9_code] += 1\n",
    "print icd9_codes"
   ]
  },
  {
   "cell_type": "code",
   "execution_count": 37,
   "metadata": {
    "collapsed": false
   },
   "outputs": [
    {
     "name": "stdout",
     "output_type": "stream",
     "text": [
      "List of unique icd9 codes from all labels:  ['2859', '4019', '2724', '25000', '99592', '2851', '2762', '2449', '4280', '0389', '41401', '53081', '51881', '5990', '2720', '42731', '486', '5070', '496', '5849']\n"
     ]
    }
   ],
   "source": [
    "# list of unique icd9_codes and lookups for its index in the vector\n",
    "unique_icd9_codes = list (icd9_codes)\n",
    "index_to_icd9 = dict(enumerate(unique_icd9_codes))\n",
    "icd9_to_id = {v:k for k,v in index_to_icd9.iteritems()}\n",
    "print 'List of unique icd9 codes from all labels: ', unique_icd9_codes"
   ]
  },
  {
   "cell_type": "code",
   "execution_count": 38,
   "metadata": {
    "collapsed": true
   },
   "outputs": [],
   "source": [
    "#transforming list of icd_codes into a vector\n",
    "def get_icd9_array(icd9_codes):\n",
    "    icd9_index_array = [0]*len(unique_icd9_codes)\n",
    "    for icd9_code in icd9_codes.split():\n",
    "        index = icd9_to_id [icd9_code]\n",
    "        icd9_index_array[index] = 1\n",
    "    return icd9_index_array"
   ]
  },
  {
   "cell_type": "code",
   "execution_count": 39,
   "metadata": {
    "collapsed": false
   },
   "outputs": [],
   "source": [
    "labels_vector= list(map(get_icd9_array,discharge_labels))"
   ]
  },
  {
   "cell_type": "markdown",
   "metadata": {},
   "source": [
    "## Pre-processing notes"
   ]
  },
  {
   "cell_type": "markdown",
   "metadata": {},
   "source": [
    "https://github.com/yoonkim/CNN_sentence/blob/master/process_data.py\n",
    "\n",
    "\n",
    "(1) Clean the text data using the same code as the original paper.\n",
    "https://github.com/yoonkim/CNN_sentence\n",
    "\n",
    "(2) Pad each note to the maximum note length, which turns out to be NN. We append special <PAD> tokens to all other notes to make them NN words. Padding sentences to the same length is useful because it allows us to efficiently batch our data since each example in a batch must be of the same length.\n",
    "(3) Build a vocabulary index and map each word to an integer between 0 and 18,765 (the vocabulary size). Each sentence becomes a vector of integers"
   ]
  },
  {
   "cell_type": "code",
   "execution_count": 40,
   "metadata": {
    "collapsed": false
   },
   "outputs": [],
   "source": [
    "def clean_str(string):\n",
    "    \"\"\"\n",
    "    Tokenization/string cleaning for all datasets except for SST.\n",
    "    Original taken from https://github.com/yoonkim/CNN_sentence/blob/master/process_data.py\n",
    "    \"\"\"\n",
    "    string = re.sub(r\"[^A-Za-z0-9(),!?\\'\\`]\", \" \", string)\n",
    "    string = re.sub(r\"\\'s\", \" \\'s\", string)\n",
    "    string = re.sub(r\"\\'ve\", \" \\'ve\", string)\n",
    "    string = re.sub(r\"n\\'t\", \" n\\'t\", string)\n",
    "    string = re.sub(r\"\\'re\", \" \\'re\", string)\n",
    "    string = re.sub(r\"\\'d\", \" \\'d\", string)\n",
    "    string = re.sub(r\"\\'ll\", \" \\'ll\", string)\n",
    "    string = re.sub(r\",\", \" , \", string)\n",
    "    string = re.sub(r\"!\", \" ! \", string)\n",
    "    string = re.sub(r\"\\(\", \" \\( \", string)\n",
    "    string = re.sub(r\"\\)\", \" \\) \", string)\n",
    "    string = re.sub(r\"\\?\", \" \\? \", string)\n",
    "    string = re.sub(r\"\\s{2,}\", \" \", string)\n",
    "    return string.strip().lower()"
   ]
  },
  {
   "cell_type": "code",
   "execution_count": 41,
   "metadata": {
    "collapsed": false
   },
   "outputs": [],
   "source": [
    "def note_preprocessing(data_notes):\n",
    "    notes_stripped = [s.strip() for s in data_notes]\n",
    "    notes_clean = [clean_str(note) for note in notes_stripped ]\n",
    "    # Build vocabulary\n",
    "    note_words_length =  [len(x.split(\" \")) for x in notes_clean]\n",
    "    max_document_length = max( note_words_length)  \n",
    "    average_length = np.mean(note_words_length)\n",
    "    return max_document_length, average_length, notes_clean"
   ]
  },
  {
   "cell_type": "code",
   "execution_count": 42,
   "metadata": {
    "collapsed": false
   },
   "outputs": [
    {
     "name": "stdout",
     "output_type": "stream",
     "text": [
      " max document length:  6956\n",
      "average document length:  1882.131\n",
      "Vocabulary_size:  28272\n"
     ]
    }
   ],
   "source": [
    "#preprocess documents\n",
    "max_document_length, average_document_length, notes_processed = note_preprocessing(discharge_notes)\n",
    "\n",
    "\n",
    "print ' max document length: ', max_document_length\n",
    "print 'average document length: ', average_document_length\n",
    "\n",
    "#create vocabulary processor\n",
    "vocab_processor = learn.preprocessing.VocabularyProcessor(max_document_length)\n",
    "    \n",
    "# convert words to ids, and each document is padded\n",
    "notes_ids = np.array(list(vocab_processor.fit_transform(notes_processed)))\n",
    "\n",
    "# vocabulary size\n",
    "vocabulary_size = len(vocab_processor.vocabulary_)\n",
    "print 'Vocabulary_size: ', vocabulary_size"
   ]
  },
  {
   "cell_type": "markdown",
   "metadata": {},
   "source": [
    "### question?\n",
    "VVVVVVVVVVVVVVVVVVVVVVVVVVVVVVVVVVVVVVVVVVVVVVVVVVVVVV   \n",
    "what do we do if the test data has a document with a bigger length than the max for the padding? "
   ]
  },
  {
   "cell_type": "markdown",
   "metadata": {},
   "source": [
    "### transforming to embeddings using word2vec\n",
    "\n",
    "From: \"A Comparison of Rule-Based and Deep Learning Models for Patient Phenotyping\"\n",
    "\n",
    "\"We pre-train our embeddings with word2vec on all discharge notes available in the MIMIC-III database.   \n",
    "The word embeddings of all words in the text to classify are concatenated and used as input to the\n",
    "convolutional layer. Convolutions detect a signal from a combination of adjacent inputs. We\n",
    "combine multiple convolutions of different lengths to evaluate phrases that are anywhere from\n",
    "two to five words long,\"   \n",
    "\n",
    "(tf-idf is removing negations..  embedding is taking care of mispellings.. we may need further training-tuning because of medical terms)"
   ]
  },
  {
   "cell_type": "markdown",
   "metadata": {},
   "source": [
    "https://code.google.com/archive/p/word2vec/\n",
    "    \n",
    "Pre-trained word and phrase vectors\n",
    "\n",
    "\"We are publishing pre-trained vectors trained on part of Google News dataset (about 100 billion words). The model contains 300-dimensional vectors for 3 million words and phrases. The phrases were obtained using a simple data-driven approach described in [2]. The archive is available here: GoogleNews-vectors-negative300.bin.gz.\"   \n",
    "\n",
    "### for now we wil train our own embeddings, but word2vec will be better"
   ]
  },
  {
   "cell_type": "markdown",
   "metadata": {},
   "source": [
    "## Split Files"
   ]
  },
  {
   "cell_type": "code",
   "execution_count": 43,
   "metadata": {
    "collapsed": false
   },
   "outputs": [
    {
     "name": "stdout",
     "output_type": "stream",
     "text": [
      "Training set samples: 700\n",
      "Dev set samples: 150\n",
      "Test set samples: 150\n"
     ]
    }
   ],
   "source": [
    "def split_file(data, train_frac = 0.7, dev_frac = 0.15):   \n",
    "    train_split_idx = int(train_frac * len(data))\n",
    "    dev_split_idx = int ((train_frac + dev_frac)* len(data))\n",
    "    train_data = data[:train_split_idx]\n",
    "    dev_data = data[train_split_idx:dev_split_idx]\n",
    "    test_data = data[dev_split_idx:]\n",
    "    return train_data, dev_data, test_data\n",
    "\n",
    "\n",
    "train_notes, dev_notes, test_notes = split_file (notes_ids)\n",
    "train_labels, dev_labels, test_labels = split_file (labels_vector)\n",
    "print 'Training set samples:', len (train_notes)\n",
    "print 'Dev set samples:', len (dev_notes)\n",
    "print 'Test set samples:', len (test_notes)"
   ]
  },
  {
   "cell_type": "markdown",
   "metadata": {},
   "source": []
  },
  {
   "cell_type": "markdown",
   "metadata": {},
   "source": [
    "## CNN Training\n",
    "\n",
    "here is an example of a CNN to classify text.. our model will have different values for d (embedding-size, region sizes, etc)\n",
    "<img src=\"CNN_for_text2.png\"/>"
   ]
  },
  {
   "cell_type": "markdown",
   "metadata": {},
   "source": [
    "This is the CNN used with the MIMIC discharge summaries\n",
    "<img src=\"mimic_CNN_text_classification.png\"/>"
   ]
  },
  {
   "cell_type": "markdown",
   "metadata": {
    "collapsed": true
   },
   "source": [
    "### sources:\n",
    "http://www.wildml.com/2015/11/understanding-convolutional-neural-networks-for-nlp/  \n",
    "http://www.wildml.com/2015/12/implementing-a-cnn-for-text-classification-in-tensorflow/   \n",
    "https://github.com/dennybritz/cnn-text-classification-tf/blob/master/text_cnn.py   \n",
    "https://www.tensorflow.org/get_started/mnist/pros   \n",
    "https://www.tensorflow.org/api_docs/python/tf/nn/conv2d   \n",
    " "
   ]
  },
  {
   "cell_type": "markdown",
   "metadata": {},
   "source": [
    "From: \"A Comparison of Rule-Based and Deep Learning Models for Patient Phenotyping\"\n",
    "\n",
    "\"For the CNN model, we used 100 filters for each of the widths 2, 3, 4, and 5.   \n",
    "To prevent overfitting, we set the dropout probability to 0.5 and used L2-normalization to normalize word\n",
    "embeddings to have a max norm of 3.64   \n",
    "The model was trained using adadelta with an initial learning rate of 1 for 20 epochs\""
   ]
  },
  {
   "cell_type": "code",
   "execution_count": 147,
   "metadata": {
    "collapsed": true
   },
   "outputs": [],
   "source": [
    "def run_epoch(lm, session, X, y, batch_size):\n",
    "    for batch in xrange(0, X.shape[0], batch_size):\n",
    "        # x SHAPE:   [batch_size, sequence_length, embedding_size]\n",
    "        print 'running batch: ', batch \n",
    "        X_batch = X[batch : batch + batch_size]\n",
    "        y_batch = y[batch : batch + batch_size]\n",
    "        feed_dict = {lm.input_x:X_batch,lm.input_y:y_batch,lm.dropout_keep_prob:0.5}\n",
    "        #loss, train_op_value =  session.run( [lm.loss,lm.train],feed_dict=feed_dict ) \n",
    "        loss, _, step = session.run([lm.loss, lm.train_op, lm.global_step], feed_dict)\n",
    "        print 'loss: ', loss"
   ]
  },
  {
   "cell_type": "code",
   "execution_count": 148,
   "metadata": {
    "collapsed": true
   },
   "outputs": [],
   "source": [
    "def predict_icd9_codes(lm, session, x_data, y_data):\n",
    "    total_y_hat = []\n",
    "    for batch in xrange(0, x_data.shape[0], batch_size):\n",
    "        X_batch = x_data[batch : batch + batch_size]\n",
    "        Y_batch = y_data[batch : batch + batch_size]\n",
    "        y_hat_out = session.run(lm.y_hat, feed_dict={lm.input_x:X_batch,lm.input_y:Y_batch, lm.dropout_keep_prob: 1.0})\n",
    "        total_y_hat.extend(y_hat_out)\n",
    "    return  total_y_hat"
   ]
  },
  {
   "cell_type": "code",
   "execution_count": 167,
   "metadata": {
    "collapsed": false
   },
   "outputs": [],
   "source": [
    "#build tensorflow graphs\n",
    "reload(cnn_model)\n",
    "\n",
    "# Model parameters\n",
    "\n",
    "model_params = dict(vocab_size= vocabulary_size, sequence_length=max_document_length, learning_rate=1.0,\\\n",
    "                    embedding_size=128, num_classes=20, filter_sizes=[2,3,4,5], num_filters=100)\n",
    "\n",
    "# Build and Train Model\n",
    "cnn = cnn_model.NNLM(**model_params)\n",
    "cnn.BuildCoreGraph()\n",
    "cnn.BuildTrainGraph()"
   ]
  },
  {
   "cell_type": "code",
   "execution_count": 168,
   "metadata": {
    "collapsed": false
   },
   "outputs": [],
   "source": [
    "TF_SAVEDIR = \"tf_saved\"\n",
    "trained_filename = os.path.join(TF_SAVEDIR, \"cnn_trained\")"
   ]
  },
  {
   "cell_type": "code",
   "execution_count": 187,
   "metadata": {
    "collapsed": false
   },
   "outputs": [
    {
     "name": "stdout",
     "output_type": "stream",
     "text": [
      "epoch_num: 0\n",
      "running batch:  0\n",
      "loss:  44.6726\n",
      "running batch:  500\n",
      "loss:  37.2105\n",
      "epoch_num: 1\n",
      "running batch:  0\n",
      "loss:  40.1158\n",
      "running batch:  500\n",
      "loss:  34.6308\n",
      "epoch_num: 2\n",
      "running batch:  0\n",
      "loss:  39.0987\n",
      "running batch:  500\n",
      "loss:  34.7382\n",
      "epoch_num: 3\n",
      "running batch:  0\n",
      "loss:  37.4993\n",
      "running batch:  500\n",
      "loss:  33.7612\n",
      "epoch_num: 4\n",
      "running batch:  0\n",
      "loss:  36.073\n",
      "running batch:  500\n",
      "loss:  31.124\n",
      "epoch_num: 5\n",
      "running batch:  0\n",
      "loss:  35.0206\n",
      "running batch:  500\n",
      "loss:  30.9945\n",
      "epoch_num: 6\n",
      "running batch:  0\n",
      "loss:  35.4492\n",
      "running batch:  500\n",
      "loss:  30.9623\n",
      "epoch_num: 7\n",
      "running batch:  0\n",
      "loss:  35.1409\n",
      "running batch:  500\n",
      "loss:  30.8021\n",
      "epoch_num: 8\n",
      "running batch:  0\n",
      "loss:  34.6098\n",
      "running batch:  500\n",
      "loss:  30.3799\n",
      "epoch_num: 9\n",
      "running batch:  0\n",
      "loss:  35.2391\n",
      "running batch:  500\n",
      "loss:  31.1178\n",
      "epoch_num: 10\n",
      "running batch:  0\n",
      "loss:  34.4539\n",
      "running batch:  500\n",
      "loss:  30.7931\n",
      "epoch_num: 11\n",
      "running batch:  0\n",
      "loss:  34.8087\n",
      "running batch:  500\n",
      "loss:  32.2258\n",
      "epoch_num: 12\n",
      "running batch:  0\n",
      "loss:  35.7279\n",
      "running batch:  500\n",
      "loss:  32.3582\n",
      "epoch_num: 13\n",
      "running batch:  0\n",
      "loss:  36.4695\n",
      "running batch:  500\n",
      "loss:  30.3224\n",
      "epoch_num: 14\n",
      "running batch:  0\n",
      "loss:  36.5282\n",
      "running batch:  500\n",
      "loss:  32.2832\n",
      "epoch_num: 15\n",
      "running batch:  0\n",
      "loss:  37.5968\n",
      "running batch:  500\n",
      "loss:  32.2909\n",
      "epoch_num: 16\n",
      "running batch:  0\n",
      "loss:  38.1585\n",
      "running batch:  500\n",
      "loss:  34.035\n",
      "epoch_num: 17\n",
      "running batch:  0\n",
      "loss:  39.6558\n",
      "running batch:  500\n",
      "loss:  35.6995\n",
      "epoch_num: 18\n",
      "running batch:  0\n",
      "loss:  39.9264\n",
      "running batch:  500\n",
      "loss:  35.3581\n",
      "epoch_num: 19\n",
      "running batch:  0\n",
      "loss:  41.4571\n",
      "running batch:  500\n",
      "loss:  37.684\n",
      "predicting training now \n",
      "predicting dev set now\n",
      "done!\n"
     ]
    }
   ],
   "source": [
    "batch_size = 500\n",
    "num_epochs = 20\n",
    "\n",
    "\n",
    "with cnn.graph.as_default():\n",
    "    initializer = tf.global_variables_initializer()\n",
    "    saver = tf.train.Saver()\n",
    "    \n",
    "# Clear old log directory\n",
    "shutil.rmtree(TF_SAVEDIR, ignore_errors=True)\n",
    "if not os.path.isdir(TF_SAVEDIR):\n",
    "    os.makedirs(TF_SAVEDIR)\n",
    "\n",
    "with tf.Session(graph=cnn.graph) as session:\n",
    "    session.run(initializer)\n",
    "    #training\n",
    "    for epoch_num in xrange(num_epochs):\n",
    "        print 'epoch_num:' , epoch_num\n",
    "        run_epoch(cnn, session, train_notes, train_labels, batch_size)\n",
    "    saver.save(session, trained_filename)\n",
    "    print 'predicting training now '\n",
    "    train_y_hat = predict_icd9_codes(cnn, session, train_notes, train_labels)   \n",
    "    print 'predicting dev set now'\n",
    "    dev_y_hat = predict_icd9_codes(cnn, session, dev_notes, dev_labels)\n",
    "    print 'done!'\n",
    "\n"
   ]
  },
  {
   "cell_type": "code",
   "execution_count": 188,
   "metadata": {
    "collapsed": false
   },
   "outputs": [
    {
     "data": {
      "text/plain": [
       "array([ 1.,  1.,  1.,  1.,  1.,  1.,  1.,  1.,  1.,  1.,  1.,  1.,  1.,\n",
       "        1.,  1.,  1.,  1.,  1.,  1.,  1.], dtype=float32)"
      ]
     },
     "execution_count": 188,
     "metadata": {},
     "output_type": "execute_result"
    }
   ],
   "source": [
    "train_y_hat[2]"
   ]
  },
  {
   "cell_type": "code",
   "execution_count": 189,
   "metadata": {
    "collapsed": false
   },
   "outputs": [
    {
     "data": {
      "text/plain": [
       "[0, 0, 0, 0, 0, 0, 0, 1, 1, 0, 0, 0, 0, 0, 0, 0, 0, 0, 0, 0]"
      ]
     },
     "execution_count": 189,
     "metadata": {},
     "output_type": "execute_result"
    }
   ],
   "source": [
    "train_labels[2]"
   ]
  },
  {
   "cell_type": "markdown",
   "metadata": {},
   "source": [
    "## Performance Evaluation\n"
   ]
  },
  {
   "cell_type": "code",
   "execution_count": 190,
   "metadata": {
    "collapsed": false
   },
   "outputs": [
    {
     "name": "stdout",
     "output_type": "stream",
     "text": [
      "Training ranking loss:  0.999915966387\n",
      "Development ranking loss:  1.0\n"
     ]
    }
   ],
   "source": [
    "# ranking loss\n",
    "training_ranking_loss = label_ranking_loss(train_labels, train_y_hat)\n",
    "print \"Training ranking loss: \", training_ranking_loss\n",
    "dev_ranking_loss = label_ranking_loss(dev_labels, dev_y_hat)\n",
    "print \"Development ranking loss: \", dev_ranking_loss"
   ]
  },
  {
   "cell_type": "code",
   "execution_count": 191,
   "metadata": {
    "collapsed": true
   },
   "outputs": [],
   "source": [
    "#choosing a threshold \n",
    "def get_hot_vector (probs_list, threshold):\n",
    "    vector  = []\n",
    "    for prob in probs_list:\n",
    "        train_y_hat_hot = [ 1 if  p > threshold else 0 for p in prob]\n",
    "        vector.append(train_y_hat_hot)\n",
    "    return vector"
   ]
  },
  {
   "cell_type": "code",
   "execution_count": 192,
   "metadata": {
    "collapsed": true
   },
   "outputs": [],
   "source": [
    "threshold= 0.5\n",
    "hot_y_hat = get_hot_vector(train_y_hat, threshold)\n",
    "hot_dev_y_hat = get_hot_vector(dev_y_hat, threshold)"
   ]
  },
  {
   "cell_type": "code",
   "execution_count": 193,
   "metadata": {
    "collapsed": false
   },
   "outputs": [
    {
     "name": "stdout",
     "output_type": "stream",
     "text": [
      "training f1 score:  0.289658542545\n"
     ]
    }
   ],
   "source": [
    "train_f1 = f1_score(np.array(train_labels), np.array(hot_y_hat), average='micro')\n",
    "print \"training f1 score: \", train_f1"
   ]
  },
  {
   "cell_type": "code",
   "execution_count": 194,
   "metadata": {
    "collapsed": false
   },
   "outputs": [
    {
     "name": "stdout",
     "output_type": "stream",
     "text": [
      "dev f1 score:  0.296906045984\n"
     ]
    }
   ],
   "source": [
    "dev_f1 = f1_score(np.array(dev_labels), np.array(hot_dev_y_hat), average='micro')\n",
    "print \"dev f1 score: \", dev_f1"
   ]
  }
 ],
 "metadata": {
  "kernelspec": {
   "display_name": "Python 2",
   "language": "python",
   "name": "python2"
  },
  "language_info": {
   "codemirror_mode": {
    "name": "ipython",
    "version": 2
   },
   "file_extension": ".py",
   "mimetype": "text/x-python",
   "name": "python",
   "nbconvert_exporter": "python",
   "pygments_lexer": "ipython2",
   "version": "2.7.13"
  }
 },
 "nbformat": 4,
 "nbformat_minor": 2
}
