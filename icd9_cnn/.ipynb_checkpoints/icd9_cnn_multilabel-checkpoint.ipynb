{
 "cells": [
  {
   "cell_type": "code",
   "execution_count": 1,
   "metadata": {
    "collapsed": false
   },
   "outputs": [],
   "source": [
    "import csv\n",
    "import random\n",
    "import numpy as np\n",
    "from collections import Counter, defaultdict\n",
    "from sklearn.feature_extraction.text import *\n",
    "import re\n",
    "from tensorflow.contrib import learn\n",
    "import sys, os\n",
    "import tensorflow as tf\n",
    "import cnn_model\n",
    "import utils\n",
    "\n",
    "from sklearn.metrics import label_ranking_loss\n",
    "from sklearn.metrics import f1_score\n",
    "import shutil"
   ]
  },
  {
   "cell_type": "markdown",
   "metadata": {},
   "source": [
    "General Sources:\n",
    "http://ruder.io/deep-learning-nlp-best-practices/index.html#classification"
   ]
  },
  {
   "cell_type": "markdown",
   "metadata": {},
   "source": [
    "### Reading File"
   ]
  },
  {
   "cell_type": "code",
   "execution_count": 2,
   "metadata": {
    "collapsed": false
   },
   "outputs": [
    {
     "name": "stdout",
     "output_type": "stream",
     "text": [
      "Number of records in the dataset:  45837\n"
     ]
    }
   ],
   "source": [
    "#with open('../../../psql_files/disch_notes_all_icd9.csv', 'rb') as csvfile:\n",
    "csv.field_size_limit(sys.maxsize)\n",
    "with open('../baseline/psql_files/dis_notes_icd9.csv', 'rb') as csvfile:\n",
    "    discharge_notes_reader = csv.reader(csvfile)\n",
    "    discharge_notes_list = list(discharge_notes_reader)    \n",
    "random.shuffle(discharge_notes_list)\n",
    "\n",
    "print \"Number of records in the dataset: \", len (discharge_notes_list)"
   ]
  },
  {
   "cell_type": "markdown",
   "metadata": {},
   "source": [
    "we will take only 10,000 records to compare with NN baseline"
   ]
  },
  {
   "cell_type": "code",
   "execution_count": 3,
   "metadata": {
    "collapsed": true
   },
   "outputs": [],
   "source": [
    "#starting for 1,000 just for programming\n",
    "number_records = 1000"
   ]
  },
  {
   "cell_type": "code",
   "execution_count": 4,
   "metadata": {
    "collapsed": false
   },
   "outputs": [
    {
     "name": "stdout",
     "output_type": "stream",
     "text": [
      "Number of discharge clinical notes:  1000\n"
     ]
    }
   ],
   "source": [
    "discharge_notes_icd9 = np.asarray(discharge_notes_list[0:number_records])\n",
    "print 'Number of discharge clinical notes: ', len(discharge_notes_icd9)\n",
    "discharge_notes= discharge_notes_icd9[:,3]\n",
    "discharge_labels = discharge_notes_icd9[:,4]"
   ]
  },
  {
   "cell_type": "markdown",
   "metadata": {},
   "source": [
    "## Pre Processing"
   ]
  },
  {
   "cell_type": "markdown",
   "metadata": {},
   "source": [
    "## Stats about Notes  (TODO:)\n",
    "* vocabulary of size\n",
    "* find out notes that are too large, outliers to take out (otherwise the embeddings will pad a lot of zeroes to the other note-vectors("
   ]
  },
  {
   "cell_type": "markdown",
   "metadata": {},
   "source": [
    "## Converting icd9 labels to vectors"
   ]
  },
  {
   "cell_type": "code",
   "execution_count": 5,
   "metadata": {
    "collapsed": true
   },
   "outputs": [],
   "source": [
    "#transforming list of icd_codes into a vector\n",
    "def get_icd9_array(icd9_codes):\n",
    "    icd9_index_array = [0]*len(unique_icd9_codes)\n",
    "    for icd9_code in icd9_codes.split():\n",
    "        index = icd9_to_id [icd9_code]\n",
    "        icd9_index_array[index] = 1\n",
    "    return icd9_index_array"
   ]
  },
  {
   "cell_type": "code",
   "execution_count": 6,
   "metadata": {
    "collapsed": false
   },
   "outputs": [
    {
     "name": "stdout",
     "output_type": "stream",
     "text": [
      "Counter({'4019': 454, '4280': 283, '41401': 282, '42731': 281, '25000': 217, '5849': 196, '51881': 173, '2724': 169, '5990': 148, '53081': 127, '2720': 122, '2859': 113, '2449': 107, '486': 105, '2762': 96, '496': 93, '2851': 91, '5070': 84, '0389': 80, '99592': 77})\n",
      "  \n",
      "List of unique icd9 codes from all labels:  ['2859', '99592', '4280', '2724', '25000', '2720', '2851', '2762', '2449', '4019', '0389', '41401', '42731', '5990', '53081', '486', '496', '5070', '51881', '5849']\n"
     ]
    }
   ],
   "source": [
    "#counts by icd9_codes\n",
    "icd9_codes = Counter()\n",
    "for label in discharge_labels:\n",
    "    for icd9_code in label.split():\n",
    "        icd9_codes[icd9_code] += 1\n",
    "print icd9_codes\n",
    "\n",
    "# list of unique icd9_codes and lookups for its index in the vector\n",
    "unique_icd9_codes = list (icd9_codes)\n",
    "index_to_icd9 = dict(enumerate(unique_icd9_codes))\n",
    "icd9_to_id = {v:k for k,v in index_to_icd9.iteritems()}\n",
    "print '  '\n",
    "print 'List of unique icd9 codes from all labels: ', unique_icd9_codes\n",
    "\n",
    "#convert icd9 codes into ids\n",
    "labels_vector= list(map(get_icd9_array,discharge_labels))"
   ]
  },
  {
   "cell_type": "markdown",
   "metadata": {},
   "source": [
    "## Pre-processing notes"
   ]
  },
  {
   "cell_type": "markdown",
   "metadata": {},
   "source": [
    "https://github.com/yoonkim/CNN_sentence/blob/master/process_data.py\n",
    "\n",
    "\n",
    "(1) Clean the text data using the same code as the original paper.\n",
    "https://github.com/yoonkim/CNN_sentence\n",
    "\n",
    "(2) Pad each note to the maximum note length, which turns out to be NN. We append special <PAD> tokens to all other notes to make them NN words. Padding sentences to the same length is useful because it allows us to efficiently batch our data since each example in a batch must be of the same length.\n",
    "(3) Build a vocabulary index and map each word to an integer between 0 and 18,765 (the vocabulary size). Each sentence becomes a vector of integers"
   ]
  },
  {
   "cell_type": "code",
   "execution_count": 7,
   "metadata": {
    "collapsed": false
   },
   "outputs": [],
   "source": [
    "def clean_str(string):\n",
    "    \"\"\"\n",
    "    Tokenization/string cleaning for all datasets except for SST.\n",
    "    Original taken from https://github.com/yoonkim/CNN_sentence/blob/master/process_data.py\n",
    "    \"\"\"\n",
    "    string = re.sub(r\"[^A-Za-z0-9(),!?\\'\\`]\", \" \", string)\n",
    "    string = re.sub(r\"\\'s\", \" \\'s\", string)\n",
    "    string = re.sub(r\"\\'ve\", \" \\'ve\", string)\n",
    "    string = re.sub(r\"n\\'t\", \" n\\'t\", string)\n",
    "    string = re.sub(r\"\\'re\", \" \\'re\", string)\n",
    "    string = re.sub(r\"\\'d\", \" \\'d\", string)\n",
    "    string = re.sub(r\"\\'ll\", \" \\'ll\", string)\n",
    "    string = re.sub(r\",\", \" , \", string)\n",
    "    string = re.sub(r\"!\", \" ! \", string)\n",
    "    string = re.sub(r\"\\(\", \" \\( \", string)\n",
    "    string = re.sub(r\"\\)\", \" \\) \", string)\n",
    "    string = re.sub(r\"\\?\", \" \\? \", string)\n",
    "    string = re.sub(r\"\\s{2,}\", \" \", string)\n",
    "    return string.strip().lower()\n",
    "\n",
    "def note_preprocessing(data_notes):\n",
    "    notes_stripped = [s.strip() for s in data_notes]\n",
    "    notes_clean = [clean_str(note) for note in notes_stripped ]\n",
    "    notes_canonicalized = [\" \".join (utils.canonicalize_words(note.split(\" \"))) for note in notes_clean ]\n",
    "    \n",
    "    note_words_length =  [len(x.split(\" \")) for x in notes_canonicalized]\n",
    "    max_document_length = max( note_words_length)  \n",
    "    average_length = np.mean(note_words_length)\n",
    "    return max_document_length, average_length, notes_canonicalized"
   ]
  },
  {
   "cell_type": "code",
   "execution_count": 8,
   "metadata": {
    "collapsed": false
   },
   "outputs": [
    {
     "name": "stdout",
     "output_type": "stream",
     "text": [
      " max document length:  7832\n",
      "average document length:  1881.527\n",
      "Vocabulary_size:  23292\n"
     ]
    }
   ],
   "source": [
    "#preprocess documents\n",
    "max_document_length, average_document_length, notes_processed = note_preprocessing(discharge_notes)\n",
    "\n",
    "\n",
    "print ' max document length: ', max_document_length\n",
    "print 'average document length: ', average_document_length\n",
    "\n",
    "#create vocabulary processor\n",
    "vocab_processor = learn.preprocessing.VocabularyProcessor(max_document_length)\n",
    "    \n",
    "# convert words to ids, and each document is padded\n",
    "notes_ids = np.array(list(vocab_processor.fit_transform(notes_processed)))\n",
    "\n",
    "# vocabulary size\n",
    "vocabulary_size = len(vocab_processor.vocabulary_)\n",
    "print 'Vocabulary_size: ', vocabulary_size"
   ]
  },
  {
   "cell_type": "code",
   "execution_count": 9,
   "metadata": {
    "collapsed": false
   },
   "outputs": [],
   "source": [
    "#notes_processed[0]"
   ]
  },
  {
   "cell_type": "markdown",
   "metadata": {},
   "source": [
    "### question?\n",
    "VVVVVVVVVVVVVVVVVVVVVVVVVVVVVVVVVVVVVVVVVVVVVVVVVVVVVV   \n",
    "what do we do if the test data has a document with a bigger length than the max for the padding? "
   ]
  },
  {
   "cell_type": "markdown",
   "metadata": {},
   "source": [
    "### transforming to embeddings using word2vec\n",
    "\n",
    "From: \"A Comparison of Rule-Based and Deep Learning Models for Patient Phenotyping\"\n",
    "\n",
    "\"We pre-train our embeddings with word2vec on all discharge notes available in the MIMIC-III database.   \n",
    "The word embeddings of all words in the text to classify are concatenated and used as input to the\n",
    "convolutional layer. Convolutions detect a signal from a combination of adjacent inputs. We\n",
    "combine multiple convolutions of different lengths to evaluate phrases that are anywhere from\n",
    "two to five words long,\"   \n",
    "\n",
    "(tf-idf is removing negations..  embedding is taking care of mispellings.. we may need further training-tuning because of medical terms)"
   ]
  },
  {
   "cell_type": "markdown",
   "metadata": {},
   "source": [
    "https://code.google.com/archive/p/word2vec/\n",
    "    \n",
    "Pre-trained word and phrase vectors\n",
    "\n",
    "\"We are publishing pre-trained vectors trained on part of Google News dataset (about 100 billion words). The model contains 300-dimensional vectors for 3 million words and phrases. The phrases were obtained using a simple data-driven approach described in [2]. The archive is available here: GoogleNews-vectors-negative300.bin.gz.\"   \n",
    "\n",
    "### for now we wil train our own embeddings, but word2vec will be better"
   ]
  },
  {
   "cell_type": "markdown",
   "metadata": {},
   "source": [
    "## Split Files"
   ]
  },
  {
   "cell_type": "code",
   "execution_count": 10,
   "metadata": {
    "collapsed": false
   },
   "outputs": [
    {
     "name": "stdout",
     "output_type": "stream",
     "text": [
      "Training set samples: 700\n",
      "Dev set samples: 150\n",
      "Test set samples: 150\n"
     ]
    }
   ],
   "source": [
    "def split_file(data, train_frac = 0.7, dev_frac = 0.15):   \n",
    "    train_split_idx = int(train_frac * len(data))\n",
    "    dev_split_idx = int ((train_frac + dev_frac)* len(data))\n",
    "    train_data = data[:train_split_idx]\n",
    "    dev_data = data[train_split_idx:dev_split_idx]\n",
    "    test_data = data[dev_split_idx:]\n",
    "    return train_data, dev_data, test_data\n",
    "\n",
    "\n",
    "train_notes, dev_notes, test_notes = split_file (notes_ids)\n",
    "train_labels, dev_labels, test_labels = split_file (labels_vector)\n",
    "print 'Training set samples:', len (train_notes)\n",
    "print 'Dev set samples:', len (dev_notes)\n",
    "print 'Test set samples:', len (test_notes)"
   ]
  },
  {
   "cell_type": "markdown",
   "metadata": {},
   "source": []
  },
  {
   "cell_type": "markdown",
   "metadata": {},
   "source": [
    "## CNN Training\n",
    "\n",
    "here is an example of a CNN to classify text.. our model will have different values for d (embedding-size, region sizes, etc)\n",
    "<img src=\"CNN_for_text2.png\"/>"
   ]
  },
  {
   "cell_type": "markdown",
   "metadata": {},
   "source": [
    "This is the CNN used with the MIMIC discharge summaries\n",
    "<img src=\"mimic_CNN_text_classification.png\"/>\n",
    "\n",
    "\n",
    "\"For the CNN model, we used 100 filters for each of the widths 2, 3, 4, and 5.    \n",
    "To prevent overfitting, we set the dropout probability to 0.5 and used L2-normalization to normalize word\n",
    "embeddings to have a max norm of 3.64     \n",
    "The model was trained using adadelta with an initial learning rate of 1 for 20 epochs.   \n",
    "The CNN model was implemented using Lua and the Torch7 framework.66    \n",
    "All baseline models were implemented using Python with the scikit-learn library.\""
   ]
  },
  {
   "cell_type": "markdown",
   "metadata": {
    "collapsed": true
   },
   "source": [
    "### sources:\n",
    "http://www.wildml.com/2015/11/understanding-convolutional-neural-networks-for-nlp/  \n",
    "http://www.wildml.com/2015/12/implementing-a-cnn-for-text-classification-in-tensorflow/   \n",
    "https://github.com/dennybritz/cnn-text-classification-tf/blob/master/text_cnn.py   \n",
    "https://www.tensorflow.org/get_started/mnist/pros   \n",
    "https://www.tensorflow.org/api_docs/python/tf/nn/conv2d   \n",
    " \n",
    " multi-label\n",
    " https://github.com/may-/cnn-re-tf/blob/master/cnn.py"
   ]
  },
  {
   "cell_type": "markdown",
   "metadata": {},
   "source": [
    "From: \"A Comparison of Rule-Based and Deep Learning Models for Patient Phenotyping\"\n",
    "\n",
    "\"For the CNN model, we used 100 filters for each of the widths 2, 3, 4, and 5.   \n",
    "To prevent overfitting, we set the dropout probability to 0.5 and used L2-normalization to normalize word\n",
    "embeddings to have a max norm of 3.64   \n",
    "The model was trained using adadelta with an initial learning rate of 1 for 20 epochs\""
   ]
  },
  {
   "cell_type": "code",
   "execution_count": 22,
   "metadata": {
    "collapsed": false
   },
   "outputs": [],
   "source": [
    "def run_epoch(lm, session, X, y, batch_size, dropout_keep_prob):\n",
    "    for batch in xrange(0, X.shape[0], batch_size):\n",
    "        # x SHAPE:   [batch_size, sequence_length, embedding_size]\n",
    "        X_batch = X[batch : batch + batch_size]\n",
    "        y_batch = y[batch : batch + batch_size]\n",
    "        feed_dict = {lm.input_x:X_batch,lm.input_y:y_batch,lm.dropout_keep_prob: dropout_keep_prob}\n",
    "        #loss, train_op_value =  session.run( [lm.loss,lm.train],feed_dict=feed_dict ) \n",
    "        loss, _, step = session.run([lm.loss, lm.train_op, lm.global_step], feed_dict)\n",
    "        print 'batch: %d, loss: %5.5f' % (batch, loss) "
   ]
  },
  {
   "cell_type": "code",
   "execution_count": 39,
   "metadata": {
    "collapsed": true
   },
   "outputs": [],
   "source": [
    "def predict_icd9_codes(lm, session, x_data, y_data, dropout_keep_prob=1.0):\n",
    "    total_y_hat = []\n",
    "    for batch in xrange(0, x_data.shape[0], batch_size):\n",
    "        X_batch = x_data[batch : batch + batch_size]\n",
    "        Y_batch = y_data[batch : batch + batch_size]\n",
    "        y_hat_out = session.run(lm.y_hat, feed_dict={lm.input_x:X_batch,lm.input_y:Y_batch, lm.dropout_keep_prob: dropout_keep_prob})\n",
    "        total_y_hat.extend(y_hat_out)\n",
    "    return  total_y_hat"
   ]
  },
  {
   "cell_type": "code",
   "execution_count": null,
   "metadata": {
    "collapsed": true
   },
   "outputs": [],
   "source": []
  },
  {
   "cell_type": "code",
   "execution_count": 40,
   "metadata": {
    "collapsed": false
   },
   "outputs": [],
   "source": [
    "#build tensorflow graphs\n",
    "reload(cnn_model)\n",
    "\n",
    "# Model parameters\n",
    "\n",
    "model_params = dict(vocab_size= vocabulary_size, sequence_length=max_document_length, learning_rate=0.5,\\\n",
    "                    embedding_size=128, num_classes=20, filter_sizes=[2,3,4,5], num_filters=100)\n",
    "\n",
    "# Build and Train Model\n",
    "cnn = cnn_model.NNLM(**model_params)\n",
    "cnn.BuildCoreGraph()\n",
    "cnn.BuildTrainGraph()"
   ]
  },
  {
   "cell_type": "code",
   "execution_count": 41,
   "metadata": {
    "collapsed": false
   },
   "outputs": [],
   "source": [
    "TF_SAVEDIR = \"tf_saved\"\n",
    "trained_filename = os.path.join(TF_SAVEDIR, \"cnn_trained\")"
   ]
  },
  {
   "cell_type": "code",
   "execution_count": 44,
   "metadata": {
    "collapsed": false
   },
   "outputs": [
    {
     "name": "stdout",
     "output_type": "stream",
     "text": [
      "epoch_num: 0\n",
      "batch: 0, loss: 30.44728\n",
      "batch: 50, loss: 30.63746\n",
      "batch: 100, loss: 27.05397\n",
      "batch: 150, loss: 28.58145\n",
      "batch: 200, loss: 21.22004\n",
      "batch: 250, loss: 24.82901\n",
      "batch: 300, loss: 23.09870\n",
      "batch: 350, loss: 17.58297\n",
      "batch: 400, loss: 17.96032\n",
      "batch: 450, loss: 18.03284\n",
      "batch: 500, loss: 20.59827\n",
      "batch: 550, loss: 13.40927\n",
      "batch: 600, loss: 17.49952\n",
      "batch: 650, loss: 17.10818\n",
      "epoch_num: 1\n",
      "batch: 0, loss: 17.77973\n",
      "batch: 50, loss: 18.94300\n",
      "batch: 100, loss: 17.24558\n",
      "batch: 150, loss: 17.68796\n",
      "batch: 200, loss: 13.19204\n",
      "batch: 250, loss: 16.74121\n",
      "batch: 300, loss: 15.29062\n",
      "batch: 350, loss: 13.34749\n",
      "batch: 400, loss: 13.02249\n",
      "batch: 450, loss: 14.07685\n",
      "batch: 500, loss: 15.24679\n",
      "batch: 550, loss: 12.61218\n",
      "batch: 600, loss: 15.20006\n",
      "batch: 650, loss: 15.10294\n",
      "epoch_num: 2\n",
      "batch: 0, loss: 14.07691\n",
      "batch: 50, loss: 14.97630\n",
      "batch: 100, loss: 15.75290\n",
      "batch: 150, loss: 15.77516\n",
      "batch: 200, loss: 11.58902\n",
      "batch: 250, loss: 16.35245\n",
      "batch: 300, loss: 14.73437\n",
      "batch: 350, loss: 12.26845\n",
      "batch: 400, loss: 12.91034\n",
      "batch: 450, loss: 13.73867\n",
      "batch: 500, loss: 15.24242\n",
      "batch: 550, loss: 10.41326\n",
      "batch: 600, loss: 15.24260\n",
      "batch: 650, loss: 14.44478\n",
      "epoch_num: 3\n",
      "batch: 0, loss: 16.17867\n",
      "batch: 50, loss: 15.78911\n",
      "batch: 100, loss: 15.73475\n",
      "batch: 150, loss: 16.79529\n",
      "batch: 200, loss: 12.26864\n",
      "batch: 250, loss: 16.13542\n",
      "batch: 300, loss: 14.12429\n",
      "batch: 350, loss: 12.76394\n",
      "batch: 400, loss: 13.27427\n",
      "batch: 450, loss: 13.85367\n",
      "batch: 500, loss: 14.68397\n",
      "batch: 550, loss: 12.19675\n",
      "batch: 600, loss: 15.32747\n",
      "batch: 650, loss: 15.32428\n",
      "predicting training now \n",
      "predicting dev set now\n",
      "done!\n"
     ]
    }
   ],
   "source": [
    "batch_size = 50\n",
    "num_epochs = 4\n",
    "training_dropout_keep_prob = 0.9\n",
    "\n",
    "with cnn.graph.as_default():\n",
    "    initializer = tf.global_variables_initializer()\n",
    "    saver = tf.train.Saver()\n",
    "    \n",
    "# Clear old log directory\n",
    "shutil.rmtree(TF_SAVEDIR, ignore_errors=True)\n",
    "if not os.path.isdir(TF_SAVEDIR):\n",
    "    os.makedirs(TF_SAVEDIR)\n",
    "\n",
    "with tf.Session(graph=cnn.graph) as session:\n",
    "    session.run(initializer)\n",
    "    #training\n",
    "    for epoch_num in xrange(num_epochs):\n",
    "        print 'epoch_num:' , epoch_num\n",
    "        run_epoch(cnn, session, train_notes, train_labels, batch_size,dropout_keep_prob=training_dropout_keep_prob )\n",
    "    saver.save(session, trained_filename)\n",
    "    print 'predicting training now '\n",
    "    train_y_hat = predict_icd9_codes(cnn, session, train_notes, train_labels)   \n",
    "    print 'predicting dev set now'\n",
    "    dev_y_hat = predict_icd9_codes(cnn, session, dev_notes, dev_labels)\n",
    "    print 'done!'\n",
    "\n"
   ]
  },
  {
   "cell_type": "code",
   "execution_count": 45,
   "metadata": {
    "collapsed": false
   },
   "outputs": [
    {
     "name": "stdout",
     "output_type": "stream",
     "text": [
      "[0, 0, 0, 1, 0, 0, 0, 0, 0, 0, 0, 0, 0, 0, 0, 0, 1, 0, 1, 0]\n",
      "[  1.37341013e-02   3.58801312e-03   4.23351675e-02   6.23010471e-02\n",
      "   4.43936437e-01   6.92990497e-02   5.83615201e-03   4.37351922e-03\n",
      "   2.31691357e-03   8.52716416e-02   4.62091668e-03   2.33008582e-02\n",
      "   8.12236592e-02   5.32411598e-02   1.10347918e-03   4.43940866e-04\n",
      "   9.17983532e-04   2.27310695e-04   3.81397679e-02   6.37889355e-02]\n",
      "1.00000005419\n"
     ]
    }
   ],
   "source": [
    "print train_labels[0]\n",
    "print train_y_hat[0]\n",
    "print sum (train_y_hat[0])"
   ]
  },
  {
   "cell_type": "markdown",
   "metadata": {},
   "source": [
    "## Performance Evaluation\n"
   ]
  },
  {
   "cell_type": "code",
   "execution_count": 46,
   "metadata": {
    "collapsed": false
   },
   "outputs": [
    {
     "name": "stdout",
     "output_type": "stream",
     "text": [
      "Training ranking loss:  0.302002840715\n",
      "Development ranking loss:  0.351595843225\n"
     ]
    }
   ],
   "source": [
    "# ranking loss\n",
    "training_ranking_loss = label_ranking_loss(train_labels, train_y_hat)\n",
    "print \"Training ranking loss: \", training_ranking_loss\n",
    "dev_ranking_loss = label_ranking_loss(dev_labels, dev_y_hat)\n",
    "print \"Development ranking loss: \", dev_ranking_loss"
   ]
  },
  {
   "cell_type": "markdown",
   "metadata": {},
   "source": [
    "## TODO  create a model for thresholding\n",
    "\n",
    "Large-scale Multi-label Text Classification—Revisiting Neural Networks\n",
    "\n",
    "\n",
    "\"3.3 Thresholding\n",
    "Once training of the neural network is finished, its output may be interpreted as a probability\n",
    "distribution p (ojx) over the labels for a given document x. The probability distribution\n",
    "can be used to rank labels, but additional measures are needed in order to split\n",
    "the ranking into relevant and irrelevant labels. For transforming the ranked list of labels\n",
    "into a set of binary predictions, we train a multi-label threshold predictor from training\n",
    "data. This sort of thresholding methods are also used in [6, 31]\n",
    "For each document xm, labels are sorted by the probabilities in decreasing order.\n",
    "Ideally, if NNs successfully learn a mapping function f , all correct (positive) labels\n",
    "will be placed on top of the sorted list and there should be large margin between the set\n",
    "of positive labels and the set of negative labels. Using F1 score as a reference measure,\n",
    "we calculate classification performances at every pair of successive positive labels and\n",
    "choose a threshold value tm that produces the best performance\""
   ]
  },
  {
   "cell_type": "code",
   "execution_count": 47,
   "metadata": {
    "collapsed": true
   },
   "outputs": [],
   "source": [
    "def get_f1_score(y_true,y_hat,threshold, average):\n",
    "    hot_y = np.where(np.array(y_hat) > threshold, 1, 0)\n",
    "    return f1_score(np.array(y_true), hot_y, average=average)"
   ]
  },
  {
   "cell_type": "code",
   "execution_count": 48,
   "metadata": {
    "collapsed": false
   },
   "outputs": [
    {
     "name": "stdout",
     "output_type": "stream",
     "text": [
      "F1 scores\n",
      "threshold | training | dev  \n",
      "0.005:      0.330      0.311\n",
      "0.010:      0.348      0.330\n",
      "0.020:      0.367      0.349\n",
      "0.030:      0.379      0.358\n",
      "0.040:      0.386      0.354\n",
      "0.050:      0.388      0.347\n",
      "0.055:      0.388      0.349\n",
      "0.058:      0.390      0.345\n",
      "0.060:      0.389      0.343\n",
      "0.070:      0.382      0.344\n",
      "0.080:      0.376      0.345\n",
      "0.100:      0.353      0.335\n",
      "0.500:      0.030      0.015\n"
     ]
    }
   ],
   "source": [
    "print 'F1 scores'\n",
    "print 'threshold | training | dev  '\n",
    "f1_score_average = 'micro'\n",
    "for threshold in [ 0.005, 0.01,0.02,0.03,0.04,0.05,0.055,0.058,0.06, 0.07, 0.08, 0.1, 0.5]:\n",
    "    train_f1 = get_f1_score(train_labels, train_y_hat,threshold,f1_score_average)\n",
    "    dev_f1 = get_f1_score(dev_labels, dev_y_hat,threshold,f1_score_average)\n",
    "    print '%1.3f:      %1.3f      %1.3f' % (threshold,train_f1, dev_f1)"
   ]
  },
  {
   "cell_type": "markdown",
   "metadata": {},
   "source": [
    "```\n",
    "1000 notes, top 20 labels, \n",
    "learning rate = 0.5, training-dropout = 1.0, batch_size = 50, num_epochs = 5\n",
    "\n",
    "F1 scores\n",
    "threshold | training | dev  \n",
    "0.005:      0.315      0.311\n",
    "0.010:      0.337      0.323\n",
    "0.020:      0.367      0.342\n",
    "0.030:      0.391      0.337\n",
    "0.040:      0.406      0.346\n",
    "0.050:      0.417      0.353\n",
    "0.055:      0.420      0.343\n",
    "0.058:      0.420      0.343\n",
    "0.060:      0.421      0.343\n",
    "0.070:      0.414      0.340\n",
    "0.080:      0.411      0.332\n",
    "0.100:      0.393      0.312\n",
    "0.500:      0.040      0.034\n",
    "```"
   ]
  },
  {
   "cell_type": "markdown",
   "metadata": {},
   "source": [
    "```\n",
    "1000 notes, top 20 labels, \n",
    "learning rate = 0.5, training-dropout = 0.5, batch_size = 50, num_epochs = 5\n",
    "F1 scores\n",
    "threshold | training | dev  \n",
    "0.005:      0.375      0.362\n",
    "0.010:      0.382      0.364\n",
    "0.020:      0.378      0.356\n",
    "0.030:      0.352      0.342\n",
    "0.040:      0.331      0.324\n",
    "0.050:      0.319      0.324\n",
    "0.060:      0.306      0.312\n",
    "0.100:      0.278      0.294\n",
    "0.500:      0.200      0.20\n",
    "```"
   ]
  },
  {
   "cell_type": "markdown",
   "metadata": {},
   "source": [
    "when I run 20 epochs, the loss at some point goes nuts!   \n",
    "\n",
    "```\n",
    "1000 notes, top 20 labels, \n",
    "learning rate = 0.5, training-dropout = 1.0, batch_size = 50, num_epochs = 5\n",
    "\n",
    "\n",
    "epoch_num: 0\n",
    "batch: 0, loss: 33.53806\n",
    "batch: 50, loss: 32.68279\n",
    "batch: 100, loss: 32.39622\n",
    "batch: 150, loss: 30.09744\n",
    "batch: 200, loss: 22.52661\n",
    "batch: 250, loss: 24.28724\n",
    "batch: 300, loss: 22.54469\n",
    "batch: 350, loss: 21.73339\n",
    "batch: 400, loss: 18.68521\n",
    "batch: 450, loss: 19.00465\n",
    "batch: 500, loss: 19.97169\n",
    "batch: 550, loss: 14.73909\n",
    "batch: 600, loss: 17.83201\n",
    "batch: 650, loss: 18.02255\n",
    "\n",
    "epoch_num: 3\n",
    "batch: 0, loss: 11.24714\n",
    "batch: 50, loss: 11.23766\n",
    "batch: 100, loss: 11.19149\n",
    "batch: 150, loss: 12.05674\n",
    "batch: 200, loss: 9.03359\n",
    "batch: 250, loss: 11.08389\n",
    "batch: 300, loss: 10.29257\n",
    "batch: 350, loss: 9.87561\n",
    "batch: 400, loss: 9.20383\n",
    "batch: 450, loss: 10.22355\n",
    "batch: 500, loss: 11.02877\n",
    "batch: 550, loss: 8.71328\n",
    "batch: 600, loss: 11.39537\n",
    "batch: 650, loss: 10.8239\n",
    "\n",
    "\n",
    "epoch_num: 13\n",
    "batch: 0, loss: 73.55081\n",
    "batch: 50, loss: 81.89517\n",
    "batch: 100, loss: 81.68012\n",
    "batch: 150, loss: 105.06064\n",
    "batch: 200, loss: 87.36885\n",
    "batch: 250, loss: 104.99406\n",
    "batch: 300, loss: 121.71890\n",
    "batch: 350, loss: 114.09972\n",
    "batch: 400, loss: 102.07778\n",
    "batch: 450, loss: 120.93321\n",
    "batch: 500, loss: 142.34270\n",
    "batch: 550, loss: 122.84288\n",
    "batch: 600, loss: 163.70401\n",
    "batch: 650, loss: 201.78319\n",
    "\n",
    "\n",
    "epoch_num: 14\n",
    "batch: 0, loss: 200.29755\n",
    "batch: 50, loss: 259.11685\n",
    "batch: 100, loss: 275.13800\n",
    "batch: 150, loss: 344.87277\n",
    "\n",
    "```"
   ]
  },
  {
   "cell_type": "markdown",
   "metadata": {
    "collapsed": true
   },
   "source": [
    "## Thoughts so far\n",
    "\n",
    "The CNN loss gets stuck with dropout_keep = 0.5.. \n",
    "I change it to 0.9, no overfitting, but the dev F1 score of 36%,which is just 1% hihter than the baseline model that always predict the top 4 most common icd-9 code and to the NN Baseline.\n",
    "\n",
    "There is a LSTM model by this paper: \"Applying Deep Learning to ICD-9 Multi-label Classification from Medical Records\" which did achieve a 42% F1-score. (https://cs224d.stanford.edu/reports/priyanka.pdf), but it only uses the top 10 icd9 codes.\n",
    "\n",
    "(note:  I think the CNN should be getting about 40% also)\n",
    "\n",
    "The \"A Comparison of Rule-Based and Deep Learning Models for Patient Phenotyping\"  study did get a 70% F1-score, but they don't use the icd9-labels but phenotypes labels they annotated themselved (via a group of medical professionals). (https://arxiv.org/abs/1703.08705). There were ONLY 10 phenotypes.\n",
    "\n",
    "The discharge summaries are labeled with ICD9-codes that are leaves in the ICD9-hierarchy (which has hundreds of ICD9-codes), then maybe these leave nodes are too specific and difficult to predict, one experiment would be to replaced all the ICD9-codes with their parent in the second or third level in the hierarchy and see if predictions work better that way."
   ]
  },
  {
   "cell_type": "code",
   "execution_count": null,
   "metadata": {
    "collapsed": true
   },
   "outputs": [],
   "source": []
  }
 ],
 "metadata": {
  "kernelspec": {
   "display_name": "Python 2",
   "language": "python",
   "name": "python2"
  },
  "language_info": {
   "codemirror_mode": {
    "name": "ipython",
    "version": 2
   },
   "file_extension": ".py",
   "mimetype": "text/x-python",
   "name": "python",
   "nbconvert_exporter": "python",
   "pygments_lexer": "ipython2",
   "version": "2.7.13"
  }
 },
 "nbformat": 4,
 "nbformat_minor": 2
}
