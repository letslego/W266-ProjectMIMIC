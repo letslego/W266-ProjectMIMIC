{
 "cells": [
  {
   "cell_type": "code",
   "execution_count": 1,
   "metadata": {
    "collapsed": true
   },
   "outputs": [],
   "source": [
    "import csv\n",
    "import random\n",
    "import numpy as np\n",
    "from collections import Counter, defaultdict\n",
    "from sklearn.feature_extraction.text import *\n",
    "import re\n",
    "from tensorflow.contrib import learn\n",
    "import sys\n",
    "import tensorflow as tf\n",
    "import cnn_model\n",
    "\n",
    "from sklearn.metrics import label_ranking_loss\n",
    "from sklearn.metrics import f1_score"
   ]
  },
  {
   "cell_type": "markdown",
   "metadata": {},
   "source": [
    "General Sources:\n",
    "http://ruder.io/deep-learning-nlp-best-practices/index.html#classification"
   ]
  },
  {
   "cell_type": "markdown",
   "metadata": {},
   "source": [
    "### Reading File"
   ]
  },
  {
   "cell_type": "code",
   "execution_count": 2,
   "metadata": {
    "collapsed": false
   },
   "outputs": [
    {
     "name": "stdout",
     "output_type": "stream",
     "text": [
      "Number of records in the dataset:  45837\n"
     ]
    }
   ],
   "source": [
    "#with open('../../../psql_files/disch_notes_all_icd9.csv', 'rb') as csvfile:\n",
    "csv.field_size_limit(sys.maxsize)\n",
    "with open('../baseline/psql_files/dis_notes_icd9.csv', 'rb') as csvfile:\n",
    "    discharge_notes_reader = csv.reader(csvfile)\n",
    "    discharge_notes_list = list(discharge_notes_reader)    \n",
    "random.shuffle(discharge_notes_list)\n",
    "\n",
    "print \"Number of records in the dataset: \", len (discharge_notes_list)"
   ]
  },
  {
   "cell_type": "markdown",
   "metadata": {},
   "source": [
    "we will take only 10,000 records to compare with NN baseline"
   ]
  },
  {
   "cell_type": "code",
   "execution_count": 3,
   "metadata": {
    "collapsed": true
   },
   "outputs": [],
   "source": [
    "#starting for 1,000 just for programming\n",
    "number_records = 100"
   ]
  },
  {
   "cell_type": "code",
   "execution_count": 4,
   "metadata": {
    "collapsed": false
   },
   "outputs": [
    {
     "name": "stdout",
     "output_type": "stream",
     "text": [
      "Number of discharge clinical notes:  100\n"
     ]
    }
   ],
   "source": [
    "discharge_notes_icd9 = np.asarray(discharge_notes_list[0:number_records])\n",
    "print 'Number of discharge clinical notes: ', len(discharge_notes_icd9)\n",
    "discharge_notes= discharge_notes_icd9[:,3]\n",
    "discharge_labels = discharge_notes_icd9[:,4]"
   ]
  },
  {
   "cell_type": "markdown",
   "metadata": {},
   "source": [
    "## Pre Processing"
   ]
  },
  {
   "cell_type": "markdown",
   "metadata": {},
   "source": [
    "## Stats about Notes  (TODO:)\n",
    "* vocabulary of size\n",
    "* find out notes that are too large, outliers to take out (otherwise the embeddings will pad a lot of zeroes to the other note-vectors("
   ]
  },
  {
   "cell_type": "markdown",
   "metadata": {},
   "source": [
    "## Converting icd9 labels to vectors"
   ]
  },
  {
   "cell_type": "code",
   "execution_count": 5,
   "metadata": {
    "collapsed": false
   },
   "outputs": [
    {
     "name": "stdout",
     "output_type": "stream",
     "text": [
      "Counter({'4019': 46, '42731': 35, '41401': 32, '4280': 31, '5849': 23, '2724': 18, '25000': 17, '51881': 17, '2720': 16, '53081': 13, '2851': 12, '2859': 11, '2762': 10, '5990': 10, '2449': 7, '486': 7, '5070': 6, '99592': 4, '496': 4, '0389': 3})\n"
     ]
    }
   ],
   "source": [
    "#counts by icd9_codes\n",
    "icd9_codes = Counter()\n",
    "for label in discharge_labels:\n",
    "    for icd9_code in label.split():\n",
    "        icd9_codes[icd9_code] += 1\n",
    "print icd9_codes"
   ]
  },
  {
   "cell_type": "code",
   "execution_count": 6,
   "metadata": {
    "collapsed": false
   },
   "outputs": [
    {
     "name": "stdout",
     "output_type": "stream",
     "text": [
      "List of unique icd9 codes from all labels:  ['2859', '99592', '4019', '2724', '25000', '2720', '2851', '2762', '2449', '4280', '0389', '41401', '53081', '51881', '5990', '42731', '486', '496', '5070', '5849']\n"
     ]
    }
   ],
   "source": [
    "# list of unique icd9_codes and lookups for its index in the vector\n",
    "unique_icd9_codes = list (icd9_codes)\n",
    "index_to_icd9 = dict(enumerate(unique_icd9_codes))\n",
    "icd9_to_id = {v:k for k,v in index_to_icd9.iteritems()}\n",
    "print 'List of unique icd9 codes from all labels: ', unique_icd9_codes"
   ]
  },
  {
   "cell_type": "code",
   "execution_count": 8,
   "metadata": {
    "collapsed": true
   },
   "outputs": [],
   "source": [
    "#transforming list of icd_codes into a vector\n",
    "def get_icd9_array(icd9_codes):\n",
    "    icd9_index_array = [0]*len(unique_icd9_codes)\n",
    "    for icd9_code in icd9_codes.split():\n",
    "        index = icd9_to_id [icd9_code]\n",
    "        icd9_index_array[index] = 1\n",
    "    return icd9_index_array"
   ]
  },
  {
   "cell_type": "code",
   "execution_count": 9,
   "metadata": {
    "collapsed": false
   },
   "outputs": [],
   "source": [
    "labels_vector= list(map(get_icd9_array,discharge_labels))"
   ]
  },
  {
   "cell_type": "markdown",
   "metadata": {},
   "source": [
    "## Pre-processing notes"
   ]
  },
  {
   "cell_type": "markdown",
   "metadata": {},
   "source": [
    "https://github.com/yoonkim/CNN_sentence/blob/master/process_data.py\n",
    "\n",
    "\n",
    "(1) Clean the text data using the same code as the original paper.\n",
    "https://github.com/yoonkim/CNN_sentence\n",
    "\n",
    "(2) Pad each note to the maximum note length, which turns out to be NN. We append special <PAD> tokens to all other notes to make them NN words. Padding sentences to the same length is useful because it allows us to efficiently batch our data since each example in a batch must be of the same length.\n",
    "(3) Build a vocabulary index and map each word to an integer between 0 and 18,765 (the vocabulary size). Each sentence becomes a vector of integers"
   ]
  },
  {
   "cell_type": "code",
   "execution_count": 10,
   "metadata": {
    "collapsed": false
   },
   "outputs": [],
   "source": [
    "def clean_str(string):\n",
    "    \"\"\"\n",
    "    Tokenization/string cleaning for all datasets except for SST.\n",
    "    Original taken from https://github.com/yoonkim/CNN_sentence/blob/master/process_data.py\n",
    "    \"\"\"\n",
    "    string = re.sub(r\"[^A-Za-z0-9(),!?\\'\\`]\", \" \", string)\n",
    "    string = re.sub(r\"\\'s\", \" \\'s\", string)\n",
    "    string = re.sub(r\"\\'ve\", \" \\'ve\", string)\n",
    "    string = re.sub(r\"n\\'t\", \" n\\'t\", string)\n",
    "    string = re.sub(r\"\\'re\", \" \\'re\", string)\n",
    "    string = re.sub(r\"\\'d\", \" \\'d\", string)\n",
    "    string = re.sub(r\"\\'ll\", \" \\'ll\", string)\n",
    "    string = re.sub(r\",\", \" , \", string)\n",
    "    string = re.sub(r\"!\", \" ! \", string)\n",
    "    string = re.sub(r\"\\(\", \" \\( \", string)\n",
    "    string = re.sub(r\"\\)\", \" \\) \", string)\n",
    "    string = re.sub(r\"\\?\", \" \\? \", string)\n",
    "    string = re.sub(r\"\\s{2,}\", \" \", string)\n",
    "    return string.strip().lower()"
   ]
  },
  {
   "cell_type": "code",
   "execution_count": 11,
   "metadata": {
    "collapsed": false
   },
   "outputs": [],
   "source": [
    "def note_preprocessing(data_notes):\n",
    "    notes_stripped = [s.strip() for s in data_notes]\n",
    "    notes_clean = [clean_str(note) for note in notes_stripped ]\n",
    "    # Build vocabulary\n",
    "    note_words_length =  [len(x.split(\" \")) for x in notes_clean]\n",
    "    max_document_length = max( note_words_length)  \n",
    "    average_length = np.mean(note_words_length)\n",
    "    return max_document_length, average_length, notes_clean"
   ]
  },
  {
   "cell_type": "code",
   "execution_count": 13,
   "metadata": {
    "collapsed": false
   },
   "outputs": [
    {
     "name": "stdout",
     "output_type": "stream",
     "text": [
      " max document length:  5167\n",
      "average document length:  1907.6\n",
      "Vocabulary_size:  9922\n"
     ]
    }
   ],
   "source": [
    "#preprocess documents\n",
    "max_document_length, average_document_length, notes_processed = note_preprocessing(discharge_notes)\n",
    "\n",
    "\n",
    "print ' max document length: ', max_document_length\n",
    "print 'average document length: ', average_document_length\n",
    "\n",
    "#create vocabulary processor\n",
    "vocab_processor = learn.preprocessing.VocabularyProcessor(max_document_length)\n",
    "    \n",
    "# convert words to ids, and each document is padded\n",
    "notes_ids = np.array(list(vocab_processor.fit_transform(notes_processed)))\n",
    "\n",
    "# vocabulary size\n",
    "vocabulary_size = len(vocab_processor.vocabulary_)\n",
    "print 'Vocabulary_size: ', vocabulary_size"
   ]
  },
  {
   "cell_type": "markdown",
   "metadata": {},
   "source": [
    "### question?\n",
    "VVVVVVVVVVVVVVVVVVVVVVVVVVVVVVVVVVVVVVVVVVVVVVVVVVVVVV   \n",
    "what do we do if the test data has a document with a bigger length than the max for the padding? "
   ]
  },
  {
   "cell_type": "markdown",
   "metadata": {},
   "source": [
    "### transforming to embeddings using word2vec\n",
    "\n",
    "From: \"A Comparison of Rule-Based and Deep Learning Models for Patient Phenotyping\"\n",
    "\n",
    "\"We pre-train our embeddings with word2vec on all discharge notes available in the MIMIC-III database.   \n",
    "The word embeddings of all words in the text to classify are concatenated and used as input to the\n",
    "convolutional layer. Convolutions detect a signal from a combination of adjacent inputs. We\n",
    "combine multiple convolutions of different lengths to evaluate phrases that are anywhere from\n",
    "two to five words long,\"   \n",
    "\n",
    "(tf-idf is removing negations..  embedding is taking care of mispellings.. we may need further training-tuning because of medical terms)"
   ]
  },
  {
   "cell_type": "markdown",
   "metadata": {},
   "source": [
    "https://code.google.com/archive/p/word2vec/\n",
    "    \n",
    "Pre-trained word and phrase vectors\n",
    "\n",
    "\"We are publishing pre-trained vectors trained on part of Google News dataset (about 100 billion words). The model contains 300-dimensional vectors for 3 million words and phrases. The phrases were obtained using a simple data-driven approach described in [2]. The archive is available here: GoogleNews-vectors-negative300.bin.gz.\"   \n",
    "\n",
    "### for now we wil train our own embeddings, but word2vec will be better"
   ]
  },
  {
   "cell_type": "markdown",
   "metadata": {},
   "source": [
    "## Split Files"
   ]
  },
  {
   "cell_type": "code",
   "execution_count": 14,
   "metadata": {
    "collapsed": false
   },
   "outputs": [
    {
     "name": "stdout",
     "output_type": "stream",
     "text": [
      "Training set samples: 70\n",
      "Dev set samples: 15\n",
      "Test set samples: 15\n"
     ]
    }
   ],
   "source": [
    "def split_file(data, train_frac = 0.7, dev_frac = 0.15):   \n",
    "    train_split_idx = int(train_frac * len(data))\n",
    "    dev_split_idx = int ((train_frac + dev_frac)* len(data))\n",
    "    train_data = data[:train_split_idx]\n",
    "    dev_data = data[train_split_idx:dev_split_idx]\n",
    "    test_data = data[dev_split_idx:]\n",
    "    return train_data, dev_data, test_data\n",
    "\n",
    "\n",
    "train_notes, dev_notes, test_notes = split_file (notes_ids)\n",
    "train_labels, dev_labels, test_labels = split_file (labels_vector)\n",
    "print 'Training set samples:', len (train_notes)\n",
    "print 'Dev set samples:', len (dev_notes)\n",
    "print 'Test set samples:', len (test_notes)"
   ]
  },
  {
   "cell_type": "markdown",
   "metadata": {},
   "source": []
  },
  {
   "cell_type": "markdown",
   "metadata": {},
   "source": [
    "## CNN Training\n",
    "\n",
    "here is an example of a CNN to classify text.. our model will have different values for d (embedding-size, region sizes, etc)\n",
    "<img src=\"CNN_for_text2.png\"/>"
   ]
  },
  {
   "cell_type": "markdown",
   "metadata": {},
   "source": [
    "This is the CNN used with the MIMIC discharge summaries\n",
    "<img src=\"mimic_CNN_text_classification.png\"/>"
   ]
  },
  {
   "cell_type": "markdown",
   "metadata": {
    "collapsed": true
   },
   "source": [
    "### sources:\n",
    "http://www.wildml.com/2015/11/understanding-convolutional-neural-networks-for-nlp/  \n",
    "http://www.wildml.com/2015/12/implementing-a-cnn-for-text-classification-in-tensorflow/   \n",
    "https://github.com/dennybritz/cnn-text-classification-tf/blob/master/text_cnn.py   \n",
    "https://www.tensorflow.org/get_started/mnist/pros   \n",
    "https://www.tensorflow.org/api_docs/python/tf/nn/conv2d   \n",
    " "
   ]
  },
  {
   "cell_type": "markdown",
   "metadata": {},
   "source": [
    "From: \"A Comparison of Rule-Based and Deep Learning Models for Patient Phenotyping\"\n",
    "\n",
    "\"For the CNN model, we used 100 filters for each of the widths 2, 3, 4, and 5.   \n",
    "To prevent overfitting, we set the dropout probability to 0.5 and used L2-normalization to normalize word\n",
    "embeddings to have a max norm of 3.64   \n",
    "The model was trained using adadelta with an initial learning rate of 1 for 20 epochs\""
   ]
  },
  {
   "cell_type": "code",
   "execution_count": 15,
   "metadata": {
    "collapsed": false
   },
   "outputs": [],
   "source": [
    "#build tensorflow graphs\n",
    "reload(cnn_model)\n",
    "\n",
    "# Model parameters\n",
    "\n",
    "model_params = dict(vocab_size= vocabulary_size, sequence_length=max_document_length, embedding_size=128, num_classes=20, filter_sizes=[3,4,5], num_filters=100)\n",
    "\n",
    "# Build and Train Model\n",
    "cnn = cnn_model.NNLM(**model_params)\n",
    "cnn.BuildCoreGraph()\n",
    "cnn.BuildTrainGraph()"
   ]
  },
  {
   "cell_type": "code",
   "execution_count": 16,
   "metadata": {
    "collapsed": true
   },
   "outputs": [],
   "source": [
    "def run_epoch(lm, session, X, y, batch_size):\n",
    "    for batch in xrange(0, X.shape[0], batch_size):\n",
    "        # x SHAPE:   [batch_size, sequence_length, embedding_size]\n",
    "        print 'running batch: ', batch \n",
    "        X_batch = X[batch : batch + batch_size]\n",
    "        y_batch = y[batch : batch + batch_size]\n",
    "        feed_dict = {lm.input_x:X_batch,lm.input_y:y_batch,lm.dropout_keep_prob:0.5}\n",
    "        #loss, train_op_value =  session.run( [lm.loss,lm.train],feed_dict=feed_dict ) \n",
    "        _, step,loss = session.run([lm.train_op, lm.global_step, lm.loss], feed_dict)"
   ]
  },
  {
   "cell_type": "code",
   "execution_count": 17,
   "metadata": {
    "collapsed": true
   },
   "outputs": [],
   "source": [
    "def predict_icd9_codes(lm, session, x_data, y_data):\n",
    "    total_y_hat = []\n",
    "    for batch in xrange(0, x_data.shape[0], batch_size):\n",
    "        X_batch = x_data[batch : batch + batch_size]\n",
    "        Y_batch = y_data[batch : batch + batch_size]\n",
    "        y_hat_out = session.run(lm.y_hat, feed_dict={lm.input_x:X_batch,lm.input_y:Y_batch, lm.dropout_keep_prob: 1.0})\n",
    "        total_y_hat.extend(y_hat_out)\n",
    "    return  total_y_hat"
   ]
  },
  {
   "cell_type": "code",
   "execution_count": 19,
   "metadata": {
    "collapsed": false
   },
   "outputs": [
    {
     "name": "stdout",
     "output_type": "stream",
     "text": [
      "epoch_num: 0\n",
      "running batch:  0\n",
      "running batch:  50\n",
      "predicting trainin now \n"
     ]
    }
   ],
   "source": [
    "batch_size = 50\n",
    "num_epochs = 1\n",
    "\n",
    "with cnn.graph.as_default():\n",
    "    initializer = tf.global_variables_initializer()\n",
    "\n",
    "with tf.Session(graph=cnn.graph) as session:\n",
    "    session.run(initializer)\n",
    "    #training\n",
    "    for epoch_num in xrange(num_epochs):\n",
    "        print 'epoch_num:' , epoch_num\n",
    "        run_epoch(cnn, session, train_notes, train_labels, batch_size)\n",
    "    #prediction using training and dev data \n",
    "    print 'predicting trainin now '\n",
    "    train_y_hat = predict_icd9_codes(cnn, session, train_notes, train_labels)    \n",
    "    dev_y_hat = predict_icd9_codes(cnn, session, dev_notes, dev_labels)\n"
   ]
  },
  {
   "cell_type": "markdown",
   "metadata": {},
   "source": [
    "## Performance Evaluation\n"
   ]
  },
  {
   "cell_type": "code",
   "execution_count": 21,
   "metadata": {
    "collapsed": false
   },
   "outputs": [
    {
     "name": "stdout",
     "output_type": "stream",
     "text": [
      "Training ranking loss:  0.509912077179\n",
      "Development ranking loss:  0.371283266613\n"
     ]
    }
   ],
   "source": [
    "# ranking loss\n",
    "training_ranking_loss = label_ranking_loss(train_labels, train_y_hat)\n",
    "print \"Training ranking loss: \", training_ranking_loss\n",
    "dev_ranking_loss = label_ranking_loss(dev_labels, dev_y_hat)\n",
    "print \"Development ranking loss: \", dev_ranking_loss"
   ]
  },
  {
   "cell_type": "code",
   "execution_count": 22,
   "metadata": {
    "collapsed": true
   },
   "outputs": [],
   "source": [
    "#choosing a threshold \n",
    "def get_hot_vector (probs_list, threshold):\n",
    "    vector  = []\n",
    "    for prob in probs_list:\n",
    "        train_y_hat_hot = [ 1 if  p > threshold else 0 for p in prob]\n",
    "        vector.append(train_y_hat_hot)\n",
    "    return vector"
   ]
  },
  {
   "cell_type": "code",
   "execution_count": 23,
   "metadata": {
    "collapsed": true
   },
   "outputs": [],
   "source": [
    "threshold= 0.5\n",
    "hot_y_hat = get_hot_vector(train_y_hat, threshold)\n",
    "hot_dev_y_hat = get_hot_vector(dev_y_hat, threshold)"
   ]
  },
  {
   "cell_type": "code",
   "execution_count": 26,
   "metadata": {
    "collapsed": false
   },
   "outputs": [
    {
     "name": "stdout",
     "output_type": "stream",
     "text": [
      "training f1 score:  0.253694581281\n"
     ]
    }
   ],
   "source": [
    "train_f1 = f1_score(np.array(train_labels), np.array(hot_y_hat), average='micro')\n",
    "print \"training f1 score: \", train_f1"
   ]
  },
  {
   "cell_type": "code",
   "execution_count": 27,
   "metadata": {
    "collapsed": false
   },
   "outputs": [
    {
     "name": "stdout",
     "output_type": "stream",
     "text": [
      "dev f1 score:  0.277456647399\n"
     ]
    }
   ],
   "source": [
    "dev_f1 = f1_score(np.array(dev_labels), np.array(hot_dev_y_hat), average='micro')\n",
    "print \"dev f1 score: \", dev_f1"
   ]
  },
  {
   "cell_type": "code",
   "execution_count": null,
   "metadata": {
    "collapsed": true
   },
   "outputs": [],
   "source": []
  }
 ],
 "metadata": {
  "kernelspec": {
   "display_name": "Python 2",
   "language": "python",
   "name": "python2"
  },
  "language_info": {
   "codemirror_mode": {
    "name": "ipython",
    "version": 2
   },
   "file_extension": ".py",
   "mimetype": "text/x-python",
   "name": "python",
   "nbconvert_exporter": "python",
   "pygments_lexer": "ipython2",
   "version": "2.7.13"
  }
 },
 "nbformat": 4,
 "nbformat_minor": 2
}
