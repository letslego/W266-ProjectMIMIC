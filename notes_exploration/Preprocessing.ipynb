{
 "cells": [
  {
   "cell_type": "markdown",
   "metadata": {
    "deletable": true,
    "editable": true
   },
   "source": [
    "# Preprocessing"
   ]
  },
  {
   "cell_type": "code",
   "execution_count": 24,
   "metadata": {
    "collapsed": false,
    "deletable": true,
    "editable": true
   },
   "outputs": [],
   "source": [
    "import numpy as np\n",
    "import pandas as pd\n",
    "import re, nltk, string\n",
    "from sklearn.model_selection import train_test_split\n",
    "import ggplot, datetime, time\n",
    "import matplotlib\n",
    "from collections import Counter\n",
    "from matplotlib import pyplot as plt\n",
    "matplotlib.style.use('ggplot')\n",
    "%matplotlib inline"
   ]
  },
  {
   "cell_type": "markdown",
   "metadata": {
    "deletable": true,
    "editable": true
   },
   "source": [
    "## Select data for top ICD code"
   ]
  },
  {
   "cell_type": "markdown",
   "metadata": {
    "deletable": true,
    "editable": true
   },
   "source": [
    "After some tests, we find that it is preferable to look for the top values before converting the top column to a list. In the spirit of not modifying the coding too early, we keep the ICD9 column as a string too."
   ]
  },
  {
   "cell_type": "code",
   "execution_count": 25,
   "metadata": {
    "collapsed": true,
    "deletable": true,
    "editable": true
   },
   "outputs": [],
   "source": [
    "df = pd.read_csv('../data/disch_notes_all_icd9.csv',\n",
    "                 names = ['HADM_ID', 'SUBJECT_ID', 'DATE', 'ICD9','TEXT'])"
   ]
  },
  {
   "cell_type": "code",
   "execution_count": 26,
   "metadata": {
    "collapsed": false,
    "deletable": true,
    "editable": true
   },
   "outputs": [
    {
     "data": {
      "text/plain": [
       "(52696, 5)"
      ]
     },
     "execution_count": 26,
     "metadata": {},
     "output_type": "execute_result"
    }
   ],
   "source": [
    "df.shape"
   ]
  },
  {
   "cell_type": "code",
   "execution_count": 27,
   "metadata": {
    "collapsed": false,
    "deletable": true,
    "editable": true
   },
   "outputs": [
    {
     "data": {
      "text/html": [
       "<div>\n",
       "<style>\n",
       "    .dataframe thead tr:only-child th {\n",
       "        text-align: right;\n",
       "    }\n",
       "\n",
       "    .dataframe thead th {\n",
       "        text-align: left;\n",
       "    }\n",
       "\n",
       "    .dataframe tbody tr th {\n",
       "        vertical-align: top;\n",
       "    }\n",
       "</style>\n",
       "<table border=\"1\" class=\"dataframe\">\n",
       "  <thead>\n",
       "    <tr style=\"text-align: right;\">\n",
       "      <th></th>\n",
       "      <th>HADM_ID</th>\n",
       "      <th>SUBJECT_ID</th>\n",
       "      <th>DATE</th>\n",
       "      <th>ICD9</th>\n",
       "      <th>TEXT</th>\n",
       "    </tr>\n",
       "  </thead>\n",
       "  <tbody>\n",
       "    <tr>\n",
       "      <th>0</th>\n",
       "      <td>100001</td>\n",
       "      <td>58526</td>\n",
       "      <td>2117-09-17 00:00:00</td>\n",
       "      <td>25013 3371 5849 5780 25063 5363 4580 25043 403...</td>\n",
       "      <td>Admission Date:  [**2117-9-11**]              ...</td>\n",
       "    </tr>\n",
       "    <tr>\n",
       "      <th>1</th>\n",
       "      <td>100003</td>\n",
       "      <td>54610</td>\n",
       "      <td>2150-04-21 00:00:00</td>\n",
       "      <td>53100 2851 07054 5715 45621 53789 4019 53550 7823</td>\n",
       "      <td>Admission Date:  [**2150-4-17**]              ...</td>\n",
       "    </tr>\n",
       "    <tr>\n",
       "      <th>2</th>\n",
       "      <td>100006</td>\n",
       "      <td>9895</td>\n",
       "      <td>2108-04-17 00:00:00</td>\n",
       "      <td>49320 51881 486 20300 2761 7850 3090</td>\n",
       "      <td>Admission Date:  [**2108-4-6**]       Discharg...</td>\n",
       "    </tr>\n",
       "    <tr>\n",
       "      <th>3</th>\n",
       "      <td>100007</td>\n",
       "      <td>23018</td>\n",
       "      <td>2145-04-07 00:00:00</td>\n",
       "      <td>56081 5570 9973 486 4019</td>\n",
       "      <td>Admission Date:  [**2145-3-31**]              ...</td>\n",
       "    </tr>\n",
       "    <tr>\n",
       "      <th>4</th>\n",
       "      <td>100009</td>\n",
       "      <td>533</td>\n",
       "      <td>2162-05-21 00:00:00</td>\n",
       "      <td>41401 99604 4142 25000 27800 4148 4111 2859 40...</td>\n",
       "      <td>Admission Date:  [**2162-5-16**]              ...</td>\n",
       "    </tr>\n",
       "  </tbody>\n",
       "</table>\n",
       "</div>"
      ],
      "text/plain": [
       "   HADM_ID  SUBJECT_ID                 DATE  \\\n",
       "0   100001       58526  2117-09-17 00:00:00   \n",
       "1   100003       54610  2150-04-21 00:00:00   \n",
       "2   100006        9895  2108-04-17 00:00:00   \n",
       "3   100007       23018  2145-04-07 00:00:00   \n",
       "4   100009         533  2162-05-21 00:00:00   \n",
       "\n",
       "                                                ICD9  \\\n",
       "0  25013 3371 5849 5780 25063 5363 4580 25043 403...   \n",
       "1  53100 2851 07054 5715 45621 53789 4019 53550 7823   \n",
       "2               49320 51881 486 20300 2761 7850 3090   \n",
       "3                           56081 5570 9973 486 4019   \n",
       "4  41401 99604 4142 25000 27800 4148 4111 2859 40...   \n",
       "\n",
       "                                                TEXT  \n",
       "0  Admission Date:  [**2117-9-11**]              ...  \n",
       "1  Admission Date:  [**2150-4-17**]              ...  \n",
       "2  Admission Date:  [**2108-4-6**]       Discharg...  \n",
       "3  Admission Date:  [**2145-3-31**]              ...  \n",
       "4  Admission Date:  [**2162-5-16**]              ...  "
      ]
     },
     "execution_count": 27,
     "metadata": {},
     "output_type": "execute_result"
    }
   ],
   "source": [
    "df.head()"
   ]
  },
  {
   "cell_type": "code",
   "execution_count": 28,
   "metadata": {
    "collapsed": true,
    "deletable": true,
    "editable": true
   },
   "outputs": [],
   "source": [
    "def find_top_codes(df, col_name, n):\n",
    "    \"\"\" Find the top codes from a columns of strings\n",
    "    Returns a list of strings to make sure codes are treated as classes down the line \"\"\"\n",
    "    string_total = df[col_name].str.cat(sep=' ')\n",
    "    counter_total = Counter(string_total.split(' '))\n",
    "    return [word for word, word_count in counter_total.most_common(n)]"
   ]
  },
  {
   "cell_type": "code",
   "execution_count": 29,
   "metadata": {
    "collapsed": true,
    "deletable": true,
    "editable": true
   },
   "outputs": [],
   "source": [
    "def select_codes_in_string(string, top_codes):\n",
    "    \"\"\" Creates a sring of the codes which are both in the original string\n",
    "    and in the top codes list \"\"\"\n",
    "    r = ''\n",
    "    for code in top_codes:\n",
    "        if code in string:\n",
    "            r += ' ' + code\n",
    "    return r.strip()"
   ]
  },
  {
   "cell_type": "code",
   "execution_count": 30,
   "metadata": {
    "collapsed": true,
    "deletable": true,
    "editable": true
   },
   "outputs": [],
   "source": [
    "def filter_top_codes(df, col_name, n, filter_empty = True):\n",
    "    \"\"\" Creates a dataframe with the codes column containing only the top codes\n",
    "    and filters out the lines without any of the top codes if True\n",
    "    \n",
    "    Note: we may actually want to keep even the empty lines \"\"\"\n",
    "    r = df.copy()\n",
    "    top_codes = find_top_codes(r, col_name, n)\n",
    "    r[col_name] = r[col_name].apply(lambda x: select_codes_in_string(x, top_codes))\n",
    "    if filter_empty:\n",
    "        r = r.loc[r[col_name] != '']\n",
    "    return r, top_codes"
   ]
  },
  {
   "cell_type": "code",
   "execution_count": 31,
   "metadata": {
    "collapsed": false,
    "deletable": true,
    "editable": true
   },
   "outputs": [],
   "source": [
    "df, top_codes = filter_top_codes(df, 'ICD9', 20, filter_empty = True)"
   ]
  },
  {
   "cell_type": "code",
   "execution_count": 32,
   "metadata": {
    "collapsed": false
   },
   "outputs": [
    {
     "data": {
      "text/plain": [
       "['4019',\n",
       " '4280',\n",
       " '42731',\n",
       " '41401',\n",
       " '5849',\n",
       " '25000',\n",
       " '2724',\n",
       " '51881',\n",
       " '5990',\n",
       " '53081',\n",
       " '2720',\n",
       " '2859',\n",
       " '2449',\n",
       " '486',\n",
       " '2851',\n",
       " '2762',\n",
       " '496',\n",
       " '99592',\n",
       " '5070',\n",
       " '0389']"
      ]
     },
     "execution_count": 32,
     "metadata": {},
     "output_type": "execute_result"
    }
   ],
   "source": [
    "top_codes"
   ]
  },
  {
   "cell_type": "code",
   "execution_count": 33,
   "metadata": {
    "collapsed": false,
    "deletable": true,
    "editable": true
   },
   "outputs": [
    {
     "data": {
      "text/plain": [
       "(43992, 5)"
      ]
     },
     "execution_count": 33,
     "metadata": {},
     "output_type": "execute_result"
    }
   ],
   "source": [
    "df.shape"
   ]
  },
  {
   "cell_type": "code",
   "execution_count": 34,
   "metadata": {
    "collapsed": false,
    "deletable": true,
    "editable": true
   },
   "outputs": [
    {
     "data": {
      "text/html": [
       "<div>\n",
       "<style>\n",
       "    .dataframe thead tr:only-child th {\n",
       "        text-align: right;\n",
       "    }\n",
       "\n",
       "    .dataframe thead th {\n",
       "        text-align: left;\n",
       "    }\n",
       "\n",
       "    .dataframe tbody tr th {\n",
       "        vertical-align: top;\n",
       "    }\n",
       "</style>\n",
       "<table border=\"1\" class=\"dataframe\">\n",
       "  <thead>\n",
       "    <tr style=\"text-align: right;\">\n",
       "      <th></th>\n",
       "      <th>HADM_ID</th>\n",
       "      <th>SUBJECT_ID</th>\n",
       "      <th>DATE</th>\n",
       "      <th>ICD9</th>\n",
       "      <th>TEXT</th>\n",
       "    </tr>\n",
       "  </thead>\n",
       "  <tbody>\n",
       "    <tr>\n",
       "      <th>0</th>\n",
       "      <td>100001</td>\n",
       "      <td>58526</td>\n",
       "      <td>2117-09-17 00:00:00</td>\n",
       "      <td>5849</td>\n",
       "      <td>Admission Date:  [**2117-9-11**]              ...</td>\n",
       "    </tr>\n",
       "    <tr>\n",
       "      <th>1</th>\n",
       "      <td>100003</td>\n",
       "      <td>54610</td>\n",
       "      <td>2150-04-21 00:00:00</td>\n",
       "      <td>4019 2851</td>\n",
       "      <td>Admission Date:  [**2150-4-17**]              ...</td>\n",
       "    </tr>\n",
       "    <tr>\n",
       "      <th>2</th>\n",
       "      <td>100006</td>\n",
       "      <td>9895</td>\n",
       "      <td>2108-04-17 00:00:00</td>\n",
       "      <td>51881 486</td>\n",
       "      <td>Admission Date:  [**2108-4-6**]       Discharg...</td>\n",
       "    </tr>\n",
       "    <tr>\n",
       "      <th>3</th>\n",
       "      <td>100007</td>\n",
       "      <td>23018</td>\n",
       "      <td>2145-04-07 00:00:00</td>\n",
       "      <td>4019 486</td>\n",
       "      <td>Admission Date:  [**2145-3-31**]              ...</td>\n",
       "    </tr>\n",
       "    <tr>\n",
       "      <th>4</th>\n",
       "      <td>100009</td>\n",
       "      <td>533</td>\n",
       "      <td>2162-05-21 00:00:00</td>\n",
       "      <td>4019 41401 25000 2720 2859</td>\n",
       "      <td>Admission Date:  [**2162-5-16**]              ...</td>\n",
       "    </tr>\n",
       "  </tbody>\n",
       "</table>\n",
       "</div>"
      ],
      "text/plain": [
       "   HADM_ID  SUBJECT_ID                 DATE                        ICD9  \\\n",
       "0   100001       58526  2117-09-17 00:00:00                        5849   \n",
       "1   100003       54610  2150-04-21 00:00:00                   4019 2851   \n",
       "2   100006        9895  2108-04-17 00:00:00                   51881 486   \n",
       "3   100007       23018  2145-04-07 00:00:00                    4019 486   \n",
       "4   100009         533  2162-05-21 00:00:00  4019 41401 25000 2720 2859   \n",
       "\n",
       "                                                TEXT  \n",
       "0  Admission Date:  [**2117-9-11**]              ...  \n",
       "1  Admission Date:  [**2150-4-17**]              ...  \n",
       "2  Admission Date:  [**2108-4-6**]       Discharg...  \n",
       "3  Admission Date:  [**2145-3-31**]              ...  \n",
       "4  Admission Date:  [**2162-5-16**]              ...  "
      ]
     },
     "execution_count": 34,
     "metadata": {},
     "output_type": "execute_result"
    }
   ],
   "source": [
    "df.head()"
   ]
  },
  {
   "cell_type": "markdown",
   "metadata": {
    "deletable": true,
    "editable": true
   },
   "source": [
    "## \"Splitting\" the dataframe"
   ]
  },
  {
   "cell_type": "code",
   "execution_count": null,
   "metadata": {
    "collapsed": true,
    "deletable": true,
    "editable": true
   },
   "outputs": [],
   "source": []
  },
  {
   "cell_type": "markdown",
   "metadata": {
    "deletable": true,
    "editable": true
   },
   "source": [
    "## Vectorizing the text"
   ]
  },
  {
   "cell_type": "markdown",
   "metadata": {
    "deletable": true,
    "editable": true
   },
   "source": [
    "Resources:   \n",
    "- https://code.google.com/archive/p/word2vec/downloads # Cannot be downloaded   \n",
    "- https://github.com/3Top/word2vec-api   \n",
    "- https://keras.io/layers/embeddings/   \n",
    "- https://blog.keras.io/using-pre-trained-word-embeddings-in-a-keras-model.html"
   ]
  },
  {
   "cell_type": "code",
   "execution_count": null,
   "metadata": {
    "collapsed": true,
    "deletable": true,
    "editable": true
   },
   "outputs": [],
   "source": []
  }
 ],
 "metadata": {
  "kernelspec": {
   "display_name": "Python 3",
   "language": "python",
   "name": "python3"
  },
  "language_info": {
   "codemirror_mode": {
    "name": "ipython",
    "version": 3
   },
   "file_extension": ".py",
   "mimetype": "text/x-python",
   "name": "python",
   "nbconvert_exporter": "python",
   "pygments_lexer": "ipython3",
   "version": "3.5.3"
  }
 },
 "nbformat": 4,
 "nbformat_minor": 2
}
